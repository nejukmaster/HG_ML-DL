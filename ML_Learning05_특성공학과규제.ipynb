{
  "nbformat": 4,
  "nbformat_minor": 0,
  "metadata": {
    "colab": {
      "name": "Untitled4.ipynb",
      "provenance": []
    },
    "kernelspec": {
      "name": "python3",
      "display_name": "Python 3"
    }
  },
  "cells": [
    {
      "cell_type": "code",
      "metadata": {
        "colab": {
          "base_uri": "https://localhost:8080/"
        },
        "id": "_V5syyLgSfss",
        "outputId": "902d3e78-3dc0-4374-ae6a-75b8170da7c1"
      },
      "source": [
        "import numpy as np\n",
        "from sklearn.model_selection import train_test_split\n",
        "import pandas as pd\n",
        "df = pd.read_csv('https://bit.ly/perch_csv_data')\n",
        "perch_full = df.to_numpy()\n",
        "print(perch_full)\n",
        "#[길이,높이,두께]"
      ],
      "execution_count": 57,
      "outputs": [
        {
          "output_type": "stream",
          "text": [
            "[[ 8.4   2.11  1.41]\n",
            " [13.7   3.53  2.  ]\n",
            " [15.    3.82  2.43]\n",
            " [16.2   4.59  2.63]\n",
            " [17.4   4.59  2.94]\n",
            " [18.    5.22  3.32]\n",
            " [18.7   5.2   3.12]\n",
            " [19.    5.64  3.05]\n",
            " [19.6   5.14  3.04]\n",
            " [20.    5.08  2.77]\n",
            " [21.    5.69  3.56]\n",
            " [21.    5.92  3.31]\n",
            " [21.    5.69  3.67]\n",
            " [21.3   6.38  3.53]\n",
            " [22.    6.11  3.41]\n",
            " [22.    5.64  3.52]\n",
            " [22.    6.11  3.52]\n",
            " [22.    5.88  3.52]\n",
            " [22.    5.52  4.  ]\n",
            " [22.5   5.86  3.62]\n",
            " [22.5   6.79  3.62]\n",
            " [22.7   5.95  3.63]\n",
            " [23.    5.22  3.63]\n",
            " [23.5   6.28  3.72]\n",
            " [24.    7.29  3.72]\n",
            " [24.    6.38  3.82]\n",
            " [24.6   6.73  4.17]\n",
            " [25.    6.44  3.68]\n",
            " [25.6   6.56  4.24]\n",
            " [26.5   7.17  4.14]\n",
            " [27.3   8.32  5.14]\n",
            " [27.5   7.17  4.34]\n",
            " [27.5   7.05  4.34]\n",
            " [27.5   7.28  4.57]\n",
            " [28.    7.82  4.2 ]\n",
            " [28.7   7.59  4.64]\n",
            " [30.    7.62  4.77]\n",
            " [32.8  10.03  6.02]\n",
            " [34.5  10.26  6.39]\n",
            " [35.   11.49  7.8 ]\n",
            " [36.5  10.88  6.86]\n",
            " [36.   10.61  6.74]\n",
            " [37.   10.84  6.26]\n",
            " [37.   10.57  6.37]\n",
            " [39.   11.14  7.49]\n",
            " [39.   11.14  6.  ]\n",
            " [39.   12.43  7.35]\n",
            " [40.   11.93  7.11]\n",
            " [40.   11.73  7.22]\n",
            " [40.   12.38  7.46]\n",
            " [40.   11.14  6.63]\n",
            " [42.   12.8   6.87]\n",
            " [43.   11.93  7.28]\n",
            " [43.   12.51  7.42]\n",
            " [43.5  12.6   8.14]\n",
            " [44.   12.49  7.6 ]]\n"
          ],
          "name": "stdout"
        }
      ]
    },
    {
      "cell_type": "code",
      "metadata": {
        "id": "-kO-oDiYWpoQ"
      },
      "source": [
        "perch_weight = np.array(\n",
        "    [5.9, 32.0, 40.0, 51.5, 70.0, 100.0, 78.0, 80.0, 85.0, 85.0, \n",
        "     110.0, 115.0, 125.0, 130.0, 120.0, 120.0, 130.0, 135.0, 110.0, \n",
        "     130.0, 150.0, 145.0, 150.0, 170.0, 225.0, 145.0, 188.0, 180.0, \n",
        "     197.0, 218.0, 300.0, 260.0, 265.0, 250.0, 250.0, 300.0, 320.0, \n",
        "     514.0, 556.0, 840.0, 685.0, 700.0, 700.0, 690.0, 900.0, 650.0, \n",
        "     820.0, 850.0, 900.0, 1015.0, 820.0, 1100.0, 1000.0, 1100.0, \n",
        "     1000.0, 1000.0]\n",
        "     )\n",
        "train_input, test_input, train_target, test_target = train_test_split(perch_full, perch_weight)"
      ],
      "execution_count": 58,
      "outputs": []
    },
    {
      "cell_type": "markdown",
      "metadata": {
        "id": "mbg4SAPrX_r4"
      },
      "source": [
        "# **다항특성 만들기**"
      ]
    },
    {
      "cell_type": "code",
      "metadata": {
        "id": "vVe75VwypFNi"
      },
      "source": [
        "from sklearn.preprocessing import PolynomialFeatures\n",
        "poly = PolynomialFeatures(include_bias=False)\n",
        "\n",
        "poly.fit(train_input)\n",
        "train_poly = poly.transform(train_input)"
      ],
      "execution_count": 59,
      "outputs": []
    },
    {
      "cell_type": "code",
      "metadata": {
        "colab": {
          "base_uri": "https://localhost:8080/"
        },
        "id": "dXplBiCgpYkb",
        "outputId": "c138e4d2-5380-474e-a790-a9af98535d94"
      },
      "source": [
        "print(train_poly.shape)"
      ],
      "execution_count": 60,
      "outputs": [
        {
          "output_type": "stream",
          "text": [
            "(42, 9)\n"
          ],
          "name": "stdout"
        }
      ]
    },
    {
      "cell_type": "code",
      "metadata": {
        "colab": {
          "base_uri": "https://localhost:8080/"
        },
        "id": "VKCjsH1XqahK",
        "outputId": "ce4c8fce-4317-4b5a-f73c-466ed2f97ffb"
      },
      "source": [
        "print(train_input.shape)"
      ],
      "execution_count": 61,
      "outputs": [
        {
          "output_type": "stream",
          "text": [
            "(42, 3)\n"
          ],
          "name": "stdout"
        }
      ]
    },
    {
      "cell_type": "code",
      "metadata": {
        "colab": {
          "base_uri": "https://localhost:8080/"
        },
        "id": "BF3R46ZMpi6y",
        "outputId": "0a811285-9cf8-4cf8-edfd-4773513649af"
      },
      "source": [
        "poly.get_feature_names()"
      ],
      "execution_count": 62,
      "outputs": [
        {
          "output_type": "execute_result",
          "data": {
            "text/plain": [
              "['x0', 'x1', 'x2', 'x0^2', 'x0 x1', 'x0 x2', 'x1^2', 'x1 x2', 'x2^2']"
            ]
          },
          "metadata": {
            "tags": []
          },
          "execution_count": 62
        }
      ]
    },
    {
      "cell_type": "code",
      "metadata": {
        "id": "rpVJG7kSpmEl"
      },
      "source": [
        "test_poly = poly.transform(test_input)"
      ],
      "execution_count": 63,
      "outputs": []
    },
    {
      "cell_type": "markdown",
      "metadata": {
        "id": "wEyL70Rwrevm"
      },
      "source": [
        "# **선형회귀모델 훈련**"
      ]
    },
    {
      "cell_type": "code",
      "metadata": {
        "colab": {
          "base_uri": "https://localhost:8080/"
        },
        "id": "QQkKRIE4rjbc",
        "outputId": "b5362be0-aed1-4218-aa7b-35036aa69cb8"
      },
      "source": [
        "from sklearn.linear_model import LinearRegression\n",
        "\n",
        "lr = LinearRegression()\n",
        "lr.fit(train_poly, train_target)\n",
        "print(lr.score(train_poly, train_target))\n",
        "print(lr.score(test_poly, test_target))"
      ],
      "execution_count": 64,
      "outputs": [
        {
          "output_type": "stream",
          "text": [
            "0.9944290458801821\n",
            "0.9514930708307431\n"
          ],
          "name": "stdout"
        }
      ]
    },
    {
      "cell_type": "code",
      "metadata": {
        "colab": {
          "base_uri": "https://localhost:8080/"
        },
        "id": "XbLD_uBI2rW-",
        "outputId": "e1141763-0022-48a7-a5f1-fcc342878c8c"
      },
      "source": [
        "poly = PolynomialFeatures(degree = 2, include_bias=False)\n",
        "\n",
        "poly.fit([[10,4,5]])\n",
        "row = poly.transform([[10,4,5]])\n",
        "print(lr.predict(row))"
      ],
      "execution_count": 65,
      "outputs": [
        {
          "output_type": "stream",
          "text": [
            "[144.09283195]\n"
          ],
          "name": "stdout"
        }
      ]
    },
    {
      "cell_type": "markdown",
      "metadata": {
        "id": "wd09lAemsbyy"
      },
      "source": [
        "**더 많은 특성 만들기**"
      ]
    },
    {
      "cell_type": "code",
      "metadata": {
        "id": "8R5GCdlksfbB"
      },
      "source": [
        "poly = PolynomialFeatures(degree=5, include_bias=False)\n",
        "\n",
        "poly.fit(train_input)\n",
        "train_poly = poly.transform(train_input)\n",
        "test_poly = poly.transform(test_input)"
      ],
      "execution_count": 66,
      "outputs": []
    },
    {
      "cell_type": "code",
      "metadata": {
        "colab": {
          "base_uri": "https://localhost:8080/"
        },
        "id": "ADfNPRUCsmLs",
        "outputId": "7ea86a66-c2c4-4dd7-fdfb-7b21754feead"
      },
      "source": [
        "print(train_poly.shape)"
      ],
      "execution_count": 67,
      "outputs": [
        {
          "output_type": "stream",
          "text": [
            "(42, 55)\n"
          ],
          "name": "stdout"
        }
      ]
    },
    {
      "cell_type": "code",
      "metadata": {
        "colab": {
          "base_uri": "https://localhost:8080/"
        },
        "id": "DPrDyN4Osovg",
        "outputId": "93c3ae2d-d467-4ad2-e144-40e3de79be17"
      },
      "source": [
        "lr.fit(train_poly, train_target)\n",
        "print(lr.score(train_poly, train_target))\n",
        "print(lr.score(test_poly, test_target))\n",
        "#특성이 너무 많아 과대적합되었다."
      ],
      "execution_count": 68,
      "outputs": [
        {
          "output_type": "stream",
          "text": [
            "0.9999999999999942\n",
            "-2407.5951495267004\n"
          ],
          "name": "stdout"
        }
      ]
    },
    {
      "cell_type": "markdown",
      "metadata": {
        "id": "yi8cWQ1Gui0U"
      },
      "source": [
        "# **규제**"
      ]
    },
    {
      "cell_type": "markdown",
      "metadata": {
        "id": "c4kRKeYbumoL"
      },
      "source": [
        "과대적합된 모델을 완화해주는 기법을 규제, 또는 정규화라고 한다."
      ]
    },
    {
      "cell_type": "code",
      "metadata": {
        "id": "1Ni7uG8Qu0Cf"
      },
      "source": [
        "from sklearn.preprocessing import StandardScaler\n",
        "#규제 전에 표준화 한다.\n",
        "#사이킥런에서 제공하는 StandardScaler는 제공받은 numpy배열을 표준점수 배열로 반환해준다.\n",
        "ss = StandardScaler()\n",
        "ss.fit(train_poly)\n",
        "\n",
        "train_scaled = ss.transform(train_poly)\n",
        "test_scaled = ss.transform(test_poly)"
      ],
      "execution_count": 80,
      "outputs": []
    },
    {
      "cell_type": "markdown",
      "metadata": {
        "id": "oVL0Km18xzIw"
      },
      "source": [
        "**릿지 규제**(L2규제)"
      ]
    },
    {
      "cell_type": "code",
      "metadata": {
        "colab": {
          "base_uri": "https://localhost:8080/"
        },
        "id": "Lw4I8REkvthL",
        "outputId": "e71cba5b-6479-4082-8e0b-c968b9874349"
      },
      "source": [
        "from sklearn.linear_model import Ridge\n",
        "#사이킥런에서 제공하는 릿지 규제 모델 Ridge를 사용한다.\n",
        "#alpha = 1(기본값)\n",
        "#매개변수 alpha는 Ridge모델의 규제 강도를 설정한다.\n",
        "ridge = Ridge()\n",
        "ridge.fit(train_scaled, train_target)\n",
        "print(ridge.score(train_scaled, train_target))\n",
        "print(ridge.score(test_scaled, test_target))"
      ],
      "execution_count": 70,
      "outputs": [
        {
          "output_type": "stream",
          "text": [
            "0.9936596220157639\n",
            "0.9527371380043742\n"
          ],
          "name": "stdout"
        }
      ]
    },
    {
      "cell_type": "code",
      "metadata": {
        "colab": {
          "base_uri": "https://localhost:8080/",
          "height": 279
        },
        "id": "cDqHPvPJw5vP",
        "outputId": "07384566-9886-4219-f151-5dfd5b14dbd5"
      },
      "source": [
        "import matplotlib.pyplot as plt\n",
        "\n",
        "train_score = []\n",
        "test_score = []\n",
        "#알파값의 리스트를 만들어 for문으로 최적의 알파값을 찾아낸다.\n",
        "alpha_list = [0.001, 0.01, 0.1, 1, 10, 100]\n",
        "\n",
        "for alpha in alpha_list:\n",
        "    # 릿지 모델을 만듭니다\n",
        "    ridge = Ridge(alpha=alpha)\n",
        "    # 릿지 모델을 훈련합니다\n",
        "    ridge.fit(train_scaled, train_target)\n",
        "    # 훈련 점수와 테스트 점수를 저장합니다\n",
        "    train_score.append(ridge.score(train_scaled, train_target))\n",
        "    test_score.append(ridge.score(test_scaled, test_target))\n",
        "\n",
        "plt.plot(np.log10(alpha_list), train_score)\n",
        "plt.plot(np.log10(alpha_list), test_score)\n",
        "plt.xlabel('log10-alpha')\n",
        "plt.ylabel('R^2')\n",
        "plt.show()"
      ],
      "execution_count": 71,
      "outputs": [
        {
          "output_type": "display_data",
          "data": {
            "image/png": "[encoded data removed]",
            "text/plain": [
              "<Figure size 432x288 with 1 Axes>"
            ]
          },
          "metadata": {
            "tags": [],
            "needs_background": "light"
          }
        }
      ]
    },
    {
      "cell_type": "code",
      "metadata": {
        "colab": {
          "base_uri": "https://localhost:8080/"
        },
        "id": "czHDDnpIxiCI",
        "outputId": "b23292f7-6e65-4837-f703-afb2a4e0be23"
      },
      "source": [
        "#위에서 구한 최적의 알파값인 10^0=1을 적용하여 규제한다.\n",
        "ridge = Ridge(alpha=1)\n",
        "ridge.fit(train_scaled, train_target)\n",
        "\n",
        "print(ridge.score(train_scaled, train_target))\n",
        "print(ridge.score(test_scaled, test_target))"
      ],
      "execution_count": 72,
      "outputs": [
        {
          "output_type": "stream",
          "text": [
            "0.9936596220157639\n",
            "0.9527371380043742\n"
          ],
          "name": "stdout"
        }
      ]
    },
    {
      "cell_type": "markdown",
      "metadata": {
        "id": "H0uqgP61x6wh"
      },
      "source": [
        "**라쏘 규제**(L1규제)"
      ]
    },
    {
      "cell_type": "code",
      "metadata": {
        "colab": {
          "base_uri": "https://localhost:8080/"
        },
        "id": "cLQa_6PKx9ks",
        "outputId": "f16d1722-56bd-4d24-a4ee-32ceccf63e62"
      },
      "source": [
        "from sklearn.linear_model import Lasso\n",
        "#사이킥런에서 제공하는 라쏘 규제 모델 Lasso 사용한다.\n",
        "lasso = Lasso()\n",
        "lasso.fit(train_scaled, train_target)\n",
        "print(lasso.score(train_scaled, train_target))\n",
        "print(lasso.score(test_scaled, test_target))"
      ],
      "execution_count": 73,
      "outputs": [
        {
          "output_type": "stream",
          "text": [
            "0.9938179383644384\n",
            "0.9540095415230517\n"
          ],
          "name": "stdout"
        }
      ]
    },
    {
      "cell_type": "code",
      "metadata": {
        "colab": {
          "base_uri": "https://localhost:8080/",
          "height": 370
        },
        "id": "eG4pvCMbybyI",
        "outputId": "4b336e1d-6a59-4d60-cbb8-08bc13b4a4ae"
      },
      "source": [
        "train_score = []\n",
        "test_score = []\n",
        "\n",
        "alpha_list = [0.001, 0.01, 0.1, 1, 10, 100]\n",
        "for alpha in alpha_list:\n",
        "    # 라쏘 모델을 만듭니다\n",
        "    lasso = Lasso(alpha=alpha, max_iter=10000)\n",
        "    # 라쏘 모델을 훈련합니다\n",
        "    lasso.fit(train_scaled, train_target)\n",
        "    # 훈련 점수와 테스트 점수를 저장합니다\n",
        "    train_score.append(lasso.score(train_scaled, train_target))\n",
        "    test_score.append(lasso.score(test_scaled, test_target))\n",
        "plt.plot(np.log10(alpha_list), train_score)\n",
        "plt.plot(np.log10(alpha_list), test_score)\n",
        "plt.xlabel('log10-alpha')\n",
        "plt.ylabel('R^2')\n",
        "plt.show()"
      ],
      "execution_count": 74,
      "outputs": [
        {
          "output_type": "stream",
          "text": [
            "/usr/local/lib/python3.6/dist-packages/sklearn/linear_model/_coordinate_descent.py:476: ConvergenceWarning: Objective did not converge. You might want to increase the number of iterations. Duality gap: 8886.825025806456, tolerance: 482.4544399047619\n",
            "  positive)\n",
            "/usr/local/lib/python3.6/dist-packages/sklearn/linear_model/_coordinate_descent.py:476: ConvergenceWarning: Objective did not converge. You might want to increase the number of iterations. Duality gap: 6050.67592144384, tolerance: 482.4544399047619\n",
            "  positive)\n"
          ],
          "name": "stderr"
        },
        {
          "output_type": "display_data",
          "data": {
            "image/png": "[encoded data removed]",
            "text/plain": [
              "<Figure size 432x288 with 1 Axes>"
            ]
          },
          "metadata": {
            "tags": [],
            "needs_background": "light"
          }
        }
      ]
    },
    {
      "cell_type": "code",
      "metadata": {
        "colab": {
          "base_uri": "https://localhost:8080/"
        },
        "id": "CABxiqBDyvyW",
        "outputId": "6bf5d8f4-9f8a-4da1-988b-4a43c51dcd34"
      },
      "source": [
        "lasso = Lasso(alpha=10)\n",
        "lasso.fit(train_scaled, train_target)\n",
        "\n",
        "print(lasso.score(train_scaled, train_target))\n",
        "print(lasso.score(test_scaled, test_target))"
      ],
      "execution_count": 75,
      "outputs": [
        {
          "output_type": "stream",
          "text": [
            "0.9929360118683732\n",
            "0.9608163521418741\n"
          ],
          "name": "stdout"
        },
        {
          "output_type": "stream",
          "text": [
            "/usr/local/lib/python3.6/dist-packages/sklearn/linear_model/_coordinate_descent.py:476: ConvergenceWarning: Objective did not converge. You might want to increase the number of iterations. Duality gap: 742.5947290732001, tolerance: 482.4544399047619\n",
            "  positive)\n"
          ],
          "name": "stderr"
        }
      ]
    },
    {
      "cell_type": "code",
      "metadata": {
        "colab": {
          "base_uri": "https://localhost:8080/"
        },
        "id": "-Uku1w_By41u",
        "outputId": "198b7ef3-2ac5-4a24-fb19-46dbc62f2d8c"
      },
      "source": [
        "#규제결과 lasso회귀는 과대적합된 모델의 55개의 특성중 45개의 특성을 가중치 0 즉, 사용하지 않았으며\n",
        "#ridge회귀는 가중치가 0으로 규제된 특성을 두지 않았다.\n",
        "#하지만 ridge회귀역시 가중치 1이하의 특성을 20개나 둔것을 보아 적절히 규제되었다고 할 수 있다.\n",
        "print(np.sum(lasso.coef_ == 0))\n",
        "print(np.sum(ridge.coef_ == 0))\n",
        "print(np.sum(ridge.coef_ <= 1))"
      ],
      "execution_count": 76,
      "outputs": [
        {
          "output_type": "stream",
          "text": [
            "40\n",
            "0\n",
            "11\n"
          ],
          "name": "stdout"
        }
      ]
    },
    {
      "cell_type": "code",
      "metadata": {
        "colab": {
          "base_uri": "https://localhost:8080/"
        },
        "id": "B9hIBlMQ1uEO",
        "outputId": "40c0a706-17f6-45b1-eace-9dbe051ea270"
      },
      "source": [
        "poly = PolynomialFeatures(degree=5, include_bias=False)\n",
        "\n",
        "poly.fit([[10,4,5]])\n",
        "#모델에 학습시킨 행렬의 형태로 변환\n",
        "row = poly.transform([[10,4,5]])\n",
        "#이후 표준화\n",
        "row = ss.transform(row)\n",
        "print(ridge.predict(row))"
      ],
      "execution_count": 81,
      "outputs": [
        {
          "output_type": "stream",
          "text": [
            "[50.83782098]\n"
          ],
          "name": "stdout"
        }
      ]
    },
    {
      "cell_type": "markdown",
      "metadata": {
        "id": "AA8CWQFxXmok"
      },
      "source": [
        "# **사이킥런의 변환기 이해**"
      ]
    },
    {
      "cell_type": "code",
      "metadata": {
        "colab": {
          "base_uri": "https://localhost:8080/"
        },
        "id": "fRthKbv9XA2B",
        "outputId": "3cc01e75-71e4-404f-f71b-c3887767241a"
      },
      "source": [
        "#degree=2 (기본값)\n",
        "poly = PolynomialFeatures()\n",
        "#polynomial features의 fit 메소드는 무언가를 학습하는 메소드가 아니라, 특성의 개수 정도만 파악한다..\n",
        "poly.fit([[2, 3]])\n",
        "#transform메소드로 특성값을 만든다.\n",
        "print(poly.transform([[2, 3]]))\n",
        "#[1(기본값),2,3,2*2,2*3,3*3]"
      ],
      "execution_count": 4,
      "outputs": [
        {
          "output_type": "stream",
          "text": [
            "[[1. 2. 3. 4. 6. 9.]]\n"
          ],
          "name": "stdout"
        }
      ]
    },
    {
      "cell_type": "code",
      "metadata": {
        "colab": {
          "base_uri": "https://localhost:8080/"
        },
        "id": "Y0XJG1ILl5RC",
        "outputId": "8e948ab4-ada6-45e3-c85b-077fd52e8c01"
      },
      "source": [
        "#degree -> 주어진 행렬을 몇제곱 할건지 결정\n",
        "poly = PolynomialFeatures(degree=3)\n",
        "poly.fit([[2, 3]])\n",
        "#transform안의 인자가 fit메소드 안의 인자와 달라도, transform안의 인자를 degree만큼 정상적으로 제곱한다.\n",
        "print(poly.transform([[5, 7]]))\n",
        "#아래의 주석을 제거하고 실행하면 오류가난다.(fit에서 알려줬던 특성의 개수와 다름)\n",
        "#print(poly.transform([5, 8, 1]))"
      ],
      "execution_count": 11,
      "outputs": [
        {
          "output_type": "stream",
          "text": [
            "[[  1.   5.   7.  25.  35.  49. 125. 175. 245. 343.]]\n"
          ],
          "name": "stdout"
        }
      ]
    },
    {
      "cell_type": "code",
      "metadata": {
        "colab": {
          "base_uri": "https://localhost:8080/"
        },
        "id": "FVZGJL_DaO7q",
        "outputId": "a0879b85-c2fa-4523-9d8a-54adab929abe"
      },
      "source": [
        "#include_bias -> 기본값 포함여부를 결정\n",
        "poly = PolynomialFeatures(include_bias=False)\n",
        "poly = PolynomialFeatures(include_bias=False)\n",
        "poly.fit([[2, 3]])\n",
        "print(poly.transform([[2, 3]]))"
      ],
      "execution_count": 6,
      "outputs": [
        {
          "output_type": "stream",
          "text": [
            "[[2. 3. 4. 6. 9.]]\n"
          ],
          "name": "stdout"
        }
      ]
    }
  ]
}