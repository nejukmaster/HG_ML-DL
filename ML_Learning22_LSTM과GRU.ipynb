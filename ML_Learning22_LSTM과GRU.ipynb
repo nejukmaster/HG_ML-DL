{
  "nbformat": 4,
  "nbformat_minor": 0,
  "metadata": {
    "colab": {
      "name": "Untitled29.ipynb",
      "provenance": []
    },
    "kernelspec": {
      "name": "python3",
      "display_name": "Python 3"
    },
    "language_info": {
      "name": "python"
    },
    "accelerator": "GPU"
  },
  "cells": [
    {
      "cell_type": "code",
      "metadata": {
        "colab": {
          "base_uri": "https://localhost:8080/"
        },
        "id": "Zh8NwRLn0KaN",
        "outputId": "0b481f55-2675-4496-c866-cfb875ab1d66"
      },
      "source": [
        "from tensorflow.keras.datasets import imdb\n",
        "from sklearn.model_selection import train_test_split\n",
        "\n",
        "(train_input, train_target), (test_input, test_target) = imdb.load_data(\n",
        "    num_words=500)\n",
        "\n",
        "train_input, val_input, train_target, val_target = train_test_split(\n",
        "    train_input, train_target, test_size=0.2, random_state=42)"
      ],
      "execution_count": 1,
      "outputs": [
        {
          "output_type": "stream",
          "text": [
            "Downloading data from https://storage.googleapis.com/tensorflow/tf-keras-datasets/imdb.npz\n",
            "17465344/17464789 [==============================] - 0s 0us/step\n"
          ],
          "name": "stdout"
        },
        {
          "output_type": "stream",
          "text": [
            "<string>:6: VisibleDeprecationWarning: Creating an ndarray from ragged nested sequences (which is a list-or-tuple of lists-or-tuples-or ndarrays with different lengths or shapes) is deprecated. If you meant to do this, you must specify 'dtype=object' when creating the ndarray\n",
            "/usr/local/lib/python3.7/dist-packages/tensorflow/python/keras/datasets/imdb.py:159: VisibleDeprecationWarning: Creating an ndarray from ragged nested sequences (which is a list-or-tuple of lists-or-tuples-or ndarrays with different lengths or shapes) is deprecated. If you meant to do this, you must specify 'dtype=object' when creating the ndarray\n",
            "  x_train, y_train = np.array(xs[:idx]), np.array(labels[:idx])\n",
            "/usr/local/lib/python3.7/dist-packages/tensorflow/python/keras/datasets/imdb.py:160: VisibleDeprecationWarning: Creating an ndarray from ragged nested sequences (which is a list-or-tuple of lists-or-tuples-or ndarrays with different lengths or shapes) is deprecated. If you meant to do this, you must specify 'dtype=object' when creating the ndarray\n",
            "  x_test, y_test = np.array(xs[idx:]), np.array(labels[idx:])\n"
          ],
          "name": "stderr"
        }
      ]
    },
    {
      "cell_type": "code",
      "metadata": {
        "id": "Mo5iIDpR0flx"
      },
      "source": [
        "from tensorflow.keras.preprocessing.sequence import pad_sequences\n",
        "\n",
        "train_seq = pad_sequences(train_input, maxlen=100)\n",
        "val_seq = pad_sequences(val_input, maxlen=100)"
      ],
      "execution_count": 2,
      "outputs": []
    },
    {
      "cell_type": "markdown",
      "metadata": {
        "id": "Lo1VcWOo0OvM"
      },
      "source": [
        "# **LSTM**\n",
        "하나의 큰 셀 안에 4개의 작은 셀을 두고 은닉 상태를 만드는데 기여하는 \"셀 상태\"라는 새로운 값을 두어 학습률을 높이는 순환신경망"
      ]
    },
    {
      "cell_type": "code",
      "metadata": {
        "colab": {
          "base_uri": "https://localhost:8080/"
        },
        "id": "fAvCfGqD0SCd",
        "outputId": "a03173ba-f7a8-420f-8c00-dd547800dbd7"
      },
      "source": [
        "from tensorflow import keras\n",
        "\n",
        "model = keras.Sequential()\n",
        "\n",
        "model.add(keras.layers.Embedding(500, 16, input_length=100))\n",
        "#ML_Learning21에서 만들었던 모델에서 RNN을 LSTM으로 바꾸면 간단히 구현할 수 있다.\n",
        "#8개의 큰 셀을 가진 LSTM층을 생성후 추가\n",
        "model.add(keras.layers.LSTM(8))\n",
        "model.add(keras.layers.Dense(1, activation='sigmoid'))\n",
        "\n",
        "model.summary()\n",
        "#RNN에서는 파라미터가 총 200개 있었고, LSTM은 1개의 셀이 4개의 작은 셀을 가지고있기 때문에 200*4해서 800개의 파라미터를 가진다."
      ],
      "execution_count": 18,
      "outputs": [
        {
          "output_type": "stream",
          "text": [
            "Model: \"sequential_2\"\n",
            "_________________________________________________________________\n",
            "Layer (type)                 Output Shape              Param #   \n",
            "=================================================================\n",
            "embedding_2 (Embedding)      (None, 100, 16)           8000      \n",
            "_________________________________________________________________\n",
            "lstm_2 (LSTM)                (None, 8)                 800       \n",
            "_________________________________________________________________\n",
            "dense_2 (Dense)              (None, 1)                 9         \n",
            "=================================================================\n",
            "Total params: 8,809\n",
            "Trainable params: 8,809\n",
            "Non-trainable params: 0\n",
            "_________________________________________________________________\n"
          ],
          "name": "stdout"
        }
      ]
    },
    {
      "cell_type": "code",
      "metadata": {
        "colab": {
          "base_uri": "https://localhost:8080/"
        },
        "id": "VEGhVJPb2tSs",
        "outputId": "e5bdf3c4-9b34-4f6c-81b8-958b5aefd127"
      },
      "source": [
        "rmsprop = keras.optimizers.RMSprop(learning_rate=1e-4)\n",
        "model.compile(optimizer=rmsprop, loss='binary_crossentropy', \n",
        "              metrics=['accuracy'])\n",
        "\n",
        "checkpoint_cb = keras.callbacks.ModelCheckpoint('best-lstm-model.h5')\n",
        "early_stopping_cb = keras.callbacks.EarlyStopping(patience=3,\n",
        "                                                  restore_best_weights=True)\n",
        "\n",
        "history = model.fit(train_seq, train_target, epochs=100, batch_size=64,\n",
        "                    validation_data=(val_seq, val_target),\n",
        "                    callbacks=[checkpoint_cb, early_stopping_cb])"
      ],
      "execution_count": 19,
      "outputs": [
        {
          "output_type": "stream",
          "text": [
            "Epoch 1/100\n",
            "313/313 [==============================] - 4s 9ms/step - loss: 0.6929 - accuracy: 0.5146 - val_loss: 0.6918 - val_accuracy: 0.5464\n",
            "Epoch 2/100\n",
            "313/313 [==============================] - 2s 8ms/step - loss: 0.6907 - accuracy: 0.5810 - val_loss: 0.6871 - val_accuracy: 0.6270\n",
            "Epoch 3/100\n",
            "313/313 [==============================] - 3s 8ms/step - loss: 0.6829 - accuracy: 0.6311 - val_loss: 0.6598 - val_accuracy: 0.6074\n",
            "Epoch 4/100\n",
            "313/313 [==============================] - 3s 8ms/step - loss: 0.6369 - accuracy: 0.6440 - val_loss: 0.6040 - val_accuracy: 0.7352\n",
            "Epoch 5/100\n",
            "313/313 [==============================] - 2s 8ms/step - loss: 0.5916 - accuracy: 0.7441 - val_loss: 0.5810 - val_accuracy: 0.7474\n",
            "Epoch 6/100\n",
            "313/313 [==============================] - 2s 8ms/step - loss: 0.5674 - accuracy: 0.7574 - val_loss: 0.5624 - val_accuracy: 0.7570\n",
            "Epoch 7/100\n",
            "313/313 [==============================] - 2s 8ms/step - loss: 0.5492 - accuracy: 0.7652 - val_loss: 0.5453 - val_accuracy: 0.7662\n",
            "Epoch 8/100\n",
            "313/313 [==============================] - 2s 8ms/step - loss: 0.5305 - accuracy: 0.7730 - val_loss: 0.5317 - val_accuracy: 0.7708\n",
            "Epoch 9/100\n",
            "313/313 [==============================] - 2s 8ms/step - loss: 0.5119 - accuracy: 0.7803 - val_loss: 0.5128 - val_accuracy: 0.7722\n",
            "Epoch 10/100\n",
            "313/313 [==============================] - 2s 8ms/step - loss: 0.4974 - accuracy: 0.7890 - val_loss: 0.4995 - val_accuracy: 0.7792\n",
            "Epoch 11/100\n",
            "313/313 [==============================] - 2s 8ms/step - loss: 0.4854 - accuracy: 0.7875 - val_loss: 0.4849 - val_accuracy: 0.7836\n",
            "Epoch 12/100\n",
            "313/313 [==============================] - 2s 8ms/step - loss: 0.4671 - accuracy: 0.7969 - val_loss: 0.4762 - val_accuracy: 0.7876\n",
            "Epoch 13/100\n",
            "313/313 [==============================] - 2s 8ms/step - loss: 0.4648 - accuracy: 0.7958 - val_loss: 0.4702 - val_accuracy: 0.7850\n",
            "Epoch 14/100\n",
            "313/313 [==============================] - 2s 8ms/step - loss: 0.4523 - accuracy: 0.8007 - val_loss: 0.4667 - val_accuracy: 0.7864\n",
            "Epoch 15/100\n",
            "313/313 [==============================] - 2s 8ms/step - loss: 0.4469 - accuracy: 0.8024 - val_loss: 0.4616 - val_accuracy: 0.7862\n",
            "Epoch 16/100\n",
            "313/313 [==============================] - 2s 8ms/step - loss: 0.4427 - accuracy: 0.8065 - val_loss: 0.4601 - val_accuracy: 0.7870\n",
            "Epoch 17/100\n",
            "313/313 [==============================] - 2s 8ms/step - loss: 0.4414 - accuracy: 0.8042 - val_loss: 0.4543 - val_accuracy: 0.7910\n",
            "Epoch 18/100\n",
            "313/313 [==============================] - 3s 8ms/step - loss: 0.4339 - accuracy: 0.8091 - val_loss: 0.4536 - val_accuracy: 0.7872\n",
            "Epoch 19/100\n",
            "313/313 [==============================] - 3s 8ms/step - loss: 0.4374 - accuracy: 0.8041 - val_loss: 0.4504 - val_accuracy: 0.7926\n",
            "Epoch 20/100\n",
            "313/313 [==============================] - 2s 8ms/step - loss: 0.4252 - accuracy: 0.8098 - val_loss: 0.4477 - val_accuracy: 0.7926\n",
            "Epoch 21/100\n",
            "313/313 [==============================] - 2s 8ms/step - loss: 0.4278 - accuracy: 0.8081 - val_loss: 0.4469 - val_accuracy: 0.7932\n",
            "Epoch 22/100\n",
            "313/313 [==============================] - 2s 8ms/step - loss: 0.4261 - accuracy: 0.8102 - val_loss: 0.4436 - val_accuracy: 0.7940\n",
            "Epoch 23/100\n",
            "313/313 [==============================] - 2s 8ms/step - loss: 0.4224 - accuracy: 0.8169 - val_loss: 0.4451 - val_accuracy: 0.7918\n",
            "Epoch 24/100\n",
            "313/313 [==============================] - 2s 8ms/step - loss: 0.4224 - accuracy: 0.8106 - val_loss: 0.4430 - val_accuracy: 0.7966\n",
            "Epoch 25/100\n",
            "313/313 [==============================] - 2s 8ms/step - loss: 0.4169 - accuracy: 0.8167 - val_loss: 0.4394 - val_accuracy: 0.7968\n",
            "Epoch 26/100\n",
            "313/313 [==============================] - 2s 8ms/step - loss: 0.4160 - accuracy: 0.8170 - val_loss: 0.4431 - val_accuracy: 0.7960\n",
            "Epoch 27/100\n",
            "313/313 [==============================] - 2s 8ms/step - loss: 0.4190 - accuracy: 0.8128 - val_loss: 0.4373 - val_accuracy: 0.7966\n",
            "Epoch 28/100\n",
            "313/313 [==============================] - 2s 8ms/step - loss: 0.4159 - accuracy: 0.8171 - val_loss: 0.4389 - val_accuracy: 0.7944\n",
            "Epoch 29/100\n",
            "313/313 [==============================] - 2s 8ms/step - loss: 0.4158 - accuracy: 0.8168 - val_loss: 0.4381 - val_accuracy: 0.7950\n",
            "Epoch 30/100\n",
            "313/313 [==============================] - 2s 8ms/step - loss: 0.4195 - accuracy: 0.8156 - val_loss: 0.4388 - val_accuracy: 0.7972\n"
          ],
          "name": "stdout"
        }
      ]
    },
    {
      "cell_type": "code",
      "metadata": {
        "colab": {
          "base_uri": "https://localhost:8080/",
          "height": 279
        },
        "id": "i7lP9PhX4c9Q",
        "outputId": "f82cda14-fd69-4224-c6e5-5a2e092b2eea"
      },
      "source": [
        "import matplotlib.pyplot as plt\n",
        "\n",
        "plt.plot(history.history['loss'])\n",
        "plt.plot(history.history['val_loss'])\n",
        "plt.xlabel('epoch')\n",
        "plt.ylabel('loss')\n",
        "plt.legend(['train', 'val'])\n",
        "plt.show()"
      ],
      "execution_count": 20,
      "outputs": [
        {
          "output_type": "display_data",
          "data": {
            "image/png": "[encoded data removed]",
            "text/plain": [
              "<Figure size 432x288 with 1 Axes>"
            ]
          },
          "metadata": {
            "tags": [],
            "needs_background": "light"
          }
        }
      ]
    },
    {
      "cell_type": "markdown",
      "metadata": {
        "id": "mLnfKQMz47BB"
      },
      "source": [
        "**드롭아웃**"
      ]
    },
    {
      "cell_type": "code",
      "metadata": {
        "id": "lhguBWFd49dT"
      },
      "source": [
        "model2 = keras.Sequential()\n",
        "\n",
        "model2.add(keras.layers.Embedding(500, 16, input_length=100))\n",
        "#셀 상태와 은닉상태의 30퍼센트를 날리는 dropout을 LSTM층에서 실시하도록 추가.\n",
        "model2.add(keras.layers.LSTM(8, dropout=0.3))\n",
        "model2.add(keras.layers.Dense(1, activation='sigmoid'))"
      ],
      "execution_count": 21,
      "outputs": []
    },
    {
      "cell_type": "code",
      "metadata": {
        "colab": {
          "base_uri": "https://localhost:8080/"
        },
        "id": "iT2DqkxQ5LQm",
        "outputId": "3c1035e5-cebf-48c1-cef4-793fc78ccc7c"
      },
      "source": [
        "rmsprop = keras.optimizers.RMSprop(learning_rate=1e-4)\n",
        "model.compile(optimizer=rmsprop, loss='binary_crossentropy', \n",
        "              metrics=['accuracy'])\n",
        "\n",
        "checkpoint_cb = keras.callbacks.ModelCheckpoint('best-lstm-model.h5')\n",
        "early_stopping_cb = keras.callbacks.EarlyStopping(patience=3,\n",
        "                                                  restore_best_weights=True)\n",
        "\n",
        "history = model.fit(train_seq, train_target, epochs=100, batch_size=64,\n",
        "                    validation_data=(val_seq, val_target),\n",
        "                    callbacks=[checkpoint_cb, early_stopping_cb])"
      ],
      "execution_count": 22,
      "outputs": [
        {
          "output_type": "stream",
          "text": [
            "Epoch 1/100\n",
            "313/313 [==============================] - 5s 9ms/step - loss: 0.4123 - accuracy: 0.8152 - val_loss: 0.4396 - val_accuracy: 0.7992\n",
            "Epoch 2/100\n",
            "313/313 [==============================] - 3s 8ms/step - loss: 0.4159 - accuracy: 0.8135 - val_loss: 0.4352 - val_accuracy: 0.8004\n",
            "Epoch 3/100\n",
            "313/313 [==============================] - 2s 8ms/step - loss: 0.4160 - accuracy: 0.8161 - val_loss: 0.4350 - val_accuracy: 0.7984\n",
            "Epoch 4/100\n",
            "313/313 [==============================] - 3s 8ms/step - loss: 0.4065 - accuracy: 0.8191 - val_loss: 0.4355 - val_accuracy: 0.7980\n",
            "Epoch 5/100\n",
            "313/313 [==============================] - 2s 8ms/step - loss: 0.4074 - accuracy: 0.8209 - val_loss: 0.4343 - val_accuracy: 0.7994\n",
            "Epoch 6/100\n",
            "313/313 [==============================] - 2s 8ms/step - loss: 0.4093 - accuracy: 0.8186 - val_loss: 0.4382 - val_accuracy: 0.7986\n",
            "Epoch 7/100\n",
            "313/313 [==============================] - 2s 8ms/step - loss: 0.4087 - accuracy: 0.8187 - val_loss: 0.4319 - val_accuracy: 0.8010\n",
            "Epoch 8/100\n",
            "313/313 [==============================] - 2s 8ms/step - loss: 0.4081 - accuracy: 0.8176 - val_loss: 0.4328 - val_accuracy: 0.8018\n",
            "Epoch 9/100\n",
            "313/313 [==============================] - 2s 8ms/step - loss: 0.4105 - accuracy: 0.8175 - val_loss: 0.4304 - val_accuracy: 0.8012\n",
            "Epoch 10/100\n",
            "313/313 [==============================] - 2s 8ms/step - loss: 0.4074 - accuracy: 0.8173 - val_loss: 0.4309 - val_accuracy: 0.8032\n",
            "Epoch 11/100\n",
            "313/313 [==============================] - 3s 8ms/step - loss: 0.4131 - accuracy: 0.8144 - val_loss: 0.4395 - val_accuracy: 0.7986\n",
            "Epoch 12/100\n",
            "313/313 [==============================] - 2s 8ms/step - loss: 0.4015 - accuracy: 0.8215 - val_loss: 0.4296 - val_accuracy: 0.8024\n",
            "Epoch 13/100\n",
            "313/313 [==============================] - 2s 8ms/step - loss: 0.4008 - accuracy: 0.8220 - val_loss: 0.4314 - val_accuracy: 0.7994\n",
            "Epoch 14/100\n",
            "313/313 [==============================] - 2s 8ms/step - loss: 0.4031 - accuracy: 0.8237 - val_loss: 0.4300 - val_accuracy: 0.8064\n",
            "Epoch 15/100\n",
            "313/313 [==============================] - 2s 8ms/step - loss: 0.3940 - accuracy: 0.8258 - val_loss: 0.4283 - val_accuracy: 0.8044\n",
            "Epoch 16/100\n",
            "313/313 [==============================] - 2s 8ms/step - loss: 0.4014 - accuracy: 0.8229 - val_loss: 0.4275 - val_accuracy: 0.8028\n",
            "Epoch 17/100\n",
            "313/313 [==============================] - 2s 8ms/step - loss: 0.3907 - accuracy: 0.8287 - val_loss: 0.4287 - val_accuracy: 0.8078\n",
            "Epoch 18/100\n",
            "313/313 [==============================] - 2s 8ms/step - loss: 0.4001 - accuracy: 0.8215 - val_loss: 0.4287 - val_accuracy: 0.8072\n",
            "Epoch 19/100\n",
            "313/313 [==============================] - 2s 8ms/step - loss: 0.3976 - accuracy: 0.8202 - val_loss: 0.4260 - val_accuracy: 0.8048\n",
            "Epoch 20/100\n",
            "313/313 [==============================] - 2s 8ms/step - loss: 0.4016 - accuracy: 0.8245 - val_loss: 0.4265 - val_accuracy: 0.8060\n",
            "Epoch 21/100\n",
            "313/313 [==============================] - 2s 8ms/step - loss: 0.3983 - accuracy: 0.8269 - val_loss: 0.4252 - val_accuracy: 0.8054\n",
            "Epoch 22/100\n",
            "313/313 [==============================] - 2s 8ms/step - loss: 0.3897 - accuracy: 0.8259 - val_loss: 0.4255 - val_accuracy: 0.8070\n",
            "Epoch 23/100\n",
            "313/313 [==============================] - 2s 8ms/step - loss: 0.3942 - accuracy: 0.8227 - val_loss: 0.4262 - val_accuracy: 0.8084\n",
            "Epoch 24/100\n",
            "313/313 [==============================] - 2s 8ms/step - loss: 0.3906 - accuracy: 0.8268 - val_loss: 0.4274 - val_accuracy: 0.8010\n"
          ],
          "name": "stdout"
        }
      ]
    },
    {
      "cell_type": "code",
      "metadata": {
        "colab": {
          "base_uri": "https://localhost:8080/",
          "height": 279
        },
        "id": "wAXsV1nV5vCV",
        "outputId": "762c4a33-2905-443e-fbef-36ecce3714b2"
      },
      "source": [
        "plt.plot(history.history['loss'])\n",
        "plt.plot(history.history['val_loss'])\n",
        "plt.xlabel('epoch')\n",
        "plt.ylabel('loss')\n",
        "plt.legend(['train', 'val'])\n",
        "plt.show()\n",
        "#? 왜 이렇게 나오는지 모르겠네"
      ],
      "execution_count": 23,
      "outputs": [
        {
          "output_type": "display_data",
          "data": {
            "image/png": "[encoded data removed]",
            "text/plain": [
              "<Figure size 432x288 with 1 Axes>"
            ]
          },
          "metadata": {
            "tags": [],
            "needs_background": "light"
          }
        }
      ]
    },
    {
      "cell_type": "markdown",
      "metadata": {
        "id": "zw927R689PTq"
      },
      "source": [
        "# **두개의 순환층 연결하기**"
      ]
    },
    {
      "cell_type": "code",
      "metadata": {
        "colab": {
          "base_uri": "https://localhost:8080/"
        },
        "id": "o_xboGyo9PCf",
        "outputId": "f984fdb5-9f2f-45b9-a363-5c6fa921bf3b"
      },
      "source": [
        "model3 = keras.Sequential()\n",
        "\n",
        "model3.add(keras.layers.Embedding(500, 16, input_length=100))\n",
        "#return_sequences:모든셀의 은닉상태를 다음 층으로 넘길지 결정. 2개 이상의 순환층을 쌓을때는 마지막 순환층을 제외한 모든 순환층에 True로 설정해주어야한다.(\"순환신경망의 개념\" 참조)\n",
        "model3.add(keras.layers.LSTM(8, dropout=0.3, return_sequences=True))\n",
        "model3.add(keras.layers.LSTM(8, dropout=0.3))\n",
        "model3.add(keras.layers.Dense(1, activation='sigmoid'))\n",
        "\n",
        "model3.summary()"
      ],
      "execution_count": 24,
      "outputs": [
        {
          "output_type": "stream",
          "text": [
            "Model: \"sequential_4\"\n",
            "_________________________________________________________________\n",
            "Layer (type)                 Output Shape              Param #   \n",
            "=================================================================\n",
            "embedding_4 (Embedding)      (None, 100, 16)           8000      \n",
            "_________________________________________________________________\n",
            "lstm_4 (LSTM)                (None, 100, 8)            800       \n",
            "_________________________________________________________________\n",
            "lstm_5 (LSTM)                (None, 8)                 544       \n",
            "_________________________________________________________________\n",
            "dense_4 (Dense)              (None, 1)                 9         \n",
            "=================================================================\n",
            "Total params: 9,353\n",
            "Trainable params: 9,353\n",
            "Non-trainable params: 0\n",
            "_________________________________________________________________\n"
          ],
          "name": "stdout"
        }
      ]
    },
    {
      "cell_type": "code",
      "metadata": {
        "colab": {
          "base_uri": "https://localhost:8080/"
        },
        "id": "P6tFZzfR91m-",
        "outputId": "fe0b5da3-52c1-4e52-9b84-871d18e78853"
      },
      "source": [
        "rmsprop = keras.optimizers.RMSprop(learning_rate=1e-4)\n",
        "model3.compile(optimizer=rmsprop, loss='binary_crossentropy', \n",
        "               metrics=['accuracy'])\n",
        "\n",
        "checkpoint_cb = keras.callbacks.ModelCheckpoint('best-2rnn-model.h5')\n",
        "early_stopping_cb = keras.callbacks.EarlyStopping(patience=3,\n",
        "                                                  restore_best_weights=True)\n",
        "\n",
        "history = model3.fit(train_seq, train_target, epochs=100, batch_size=64,\n",
        "                     validation_data=(val_seq, val_target),\n",
        "                     callbacks=[checkpoint_cb, early_stopping_cb])"
      ],
      "execution_count": 25,
      "outputs": [
        {
          "output_type": "stream",
          "text": [
            "Epoch 1/100\n",
            "313/313 [==============================] - 7s 14ms/step - loss: 0.6929 - accuracy: 0.5186 - val_loss: 0.6918 - val_accuracy: 0.6028\n",
            "Epoch 2/100\n",
            "313/313 [==============================] - 4s 12ms/step - loss: 0.6906 - accuracy: 0.5966 - val_loss: 0.6844 - val_accuracy: 0.6570\n",
            "Epoch 3/100\n",
            "313/313 [==============================] - 4s 12ms/step - loss: 0.6744 - accuracy: 0.6737 - val_loss: 0.6069 - val_accuracy: 0.7100\n",
            "Epoch 4/100\n",
            "313/313 [==============================] - 4s 12ms/step - loss: 0.5845 - accuracy: 0.7116 - val_loss: 0.5410 - val_accuracy: 0.7426\n",
            "Epoch 5/100\n",
            "313/313 [==============================] - 4s 12ms/step - loss: 0.5353 - accuracy: 0.7444 - val_loss: 0.5149 - val_accuracy: 0.7552\n",
            "Epoch 6/100\n",
            "313/313 [==============================] - 4s 12ms/step - loss: 0.5091 - accuracy: 0.7597 - val_loss: 0.4923 - val_accuracy: 0.7698\n",
            "Epoch 7/100\n",
            "313/313 [==============================] - 4s 12ms/step - loss: 0.4922 - accuracy: 0.7678 - val_loss: 0.4746 - val_accuracy: 0.7818\n",
            "Epoch 8/100\n",
            "313/313 [==============================] - 4s 12ms/step - loss: 0.4756 - accuracy: 0.7837 - val_loss: 0.4654 - val_accuracy: 0.7868\n",
            "Epoch 9/100\n",
            "313/313 [==============================] - 4s 12ms/step - loss: 0.4677 - accuracy: 0.7830 - val_loss: 0.4647 - val_accuracy: 0.7858\n",
            "Epoch 10/100\n",
            "313/313 [==============================] - 4s 12ms/step - loss: 0.4663 - accuracy: 0.7830 - val_loss: 0.4548 - val_accuracy: 0.7884\n",
            "Epoch 11/100\n",
            "313/313 [==============================] - 4s 12ms/step - loss: 0.4557 - accuracy: 0.7880 - val_loss: 0.4510 - val_accuracy: 0.7884\n",
            "Epoch 12/100\n",
            "313/313 [==============================] - 4s 12ms/step - loss: 0.4505 - accuracy: 0.7935 - val_loss: 0.4517 - val_accuracy: 0.7886\n",
            "Epoch 13/100\n",
            "313/313 [==============================] - 4s 12ms/step - loss: 0.4461 - accuracy: 0.7968 - val_loss: 0.4474 - val_accuracy: 0.7958\n",
            "Epoch 14/100\n",
            "313/313 [==============================] - 4s 12ms/step - loss: 0.4450 - accuracy: 0.7968 - val_loss: 0.4441 - val_accuracy: 0.7938\n",
            "Epoch 15/100\n",
            "313/313 [==============================] - 4s 12ms/step - loss: 0.4383 - accuracy: 0.7974 - val_loss: 0.4426 - val_accuracy: 0.7970\n",
            "Epoch 16/100\n",
            "313/313 [==============================] - 4s 12ms/step - loss: 0.4383 - accuracy: 0.8003 - val_loss: 0.4406 - val_accuracy: 0.7976\n",
            "Epoch 17/100\n",
            "313/313 [==============================] - 4s 12ms/step - loss: 0.4409 - accuracy: 0.7975 - val_loss: 0.4402 - val_accuracy: 0.7976\n",
            "Epoch 18/100\n",
            "313/313 [==============================] - 4s 12ms/step - loss: 0.4319 - accuracy: 0.8023 - val_loss: 0.4398 - val_accuracy: 0.7988\n",
            "Epoch 19/100\n",
            "313/313 [==============================] - 4s 12ms/step - loss: 0.4338 - accuracy: 0.8064 - val_loss: 0.4406 - val_accuracy: 0.8004\n",
            "Epoch 20/100\n",
            "313/313 [==============================] - 4s 12ms/step - loss: 0.4278 - accuracy: 0.8055 - val_loss: 0.4388 - val_accuracy: 0.8002\n",
            "Epoch 21/100\n",
            "313/313 [==============================] - 4s 12ms/step - loss: 0.4273 - accuracy: 0.8072 - val_loss: 0.4398 - val_accuracy: 0.7996\n",
            "Epoch 22/100\n",
            "313/313 [==============================] - 4s 12ms/step - loss: 0.4334 - accuracy: 0.8034 - val_loss: 0.4361 - val_accuracy: 0.7984\n",
            "Epoch 23/100\n",
            "313/313 [==============================] - 4s 12ms/step - loss: 0.4248 - accuracy: 0.8037 - val_loss: 0.4362 - val_accuracy: 0.7954\n",
            "Epoch 24/100\n",
            "313/313 [==============================] - 4s 12ms/step - loss: 0.4278 - accuracy: 0.8057 - val_loss: 0.4404 - val_accuracy: 0.7994\n",
            "Epoch 25/100\n",
            "313/313 [==============================] - 4s 12ms/step - loss: 0.4325 - accuracy: 0.8048 - val_loss: 0.4353 - val_accuracy: 0.8032\n",
            "Epoch 26/100\n",
            "313/313 [==============================] - 4s 12ms/step - loss: 0.4268 - accuracy: 0.8035 - val_loss: 0.4344 - val_accuracy: 0.8032\n",
            "Epoch 27/100\n",
            "313/313 [==============================] - 4s 12ms/step - loss: 0.4226 - accuracy: 0.8078 - val_loss: 0.4349 - val_accuracy: 0.7982\n",
            "Epoch 28/100\n",
            "313/313 [==============================] - 4s 12ms/step - loss: 0.4295 - accuracy: 0.8007 - val_loss: 0.4325 - val_accuracy: 0.8026\n",
            "Epoch 29/100\n",
            "313/313 [==============================] - 4s 12ms/step - loss: 0.4161 - accuracy: 0.8104 - val_loss: 0.4333 - val_accuracy: 0.8002\n",
            "Epoch 30/100\n",
            "313/313 [==============================] - 4s 12ms/step - loss: 0.4246 - accuracy: 0.8096 - val_loss: 0.4328 - val_accuracy: 0.8030\n",
            "Epoch 31/100\n",
            "313/313 [==============================] - 4s 12ms/step - loss: 0.4099 - accuracy: 0.8185 - val_loss: 0.4316 - val_accuracy: 0.8018\n",
            "Epoch 32/100\n",
            "313/313 [==============================] - 4s 12ms/step - loss: 0.4231 - accuracy: 0.8062 - val_loss: 0.4316 - val_accuracy: 0.8012\n",
            "Epoch 33/100\n",
            "313/313 [==============================] - 4s 12ms/step - loss: 0.4146 - accuracy: 0.8147 - val_loss: 0.4348 - val_accuracy: 0.7984\n",
            "Epoch 34/100\n",
            "313/313 [==============================] - 4s 12ms/step - loss: 0.4230 - accuracy: 0.8058 - val_loss: 0.4348 - val_accuracy: 0.7984\n"
          ],
          "name": "stdout"
        }
      ]
    },
    {
      "cell_type": "code",
      "metadata": {
        "colab": {
          "base_uri": "https://localhost:8080/",
          "height": 279
        },
        "id": "QFb4dwm7-aGQ",
        "outputId": "2f4eab58-c038-4226-d0d1-a9172d3cb00b"
      },
      "source": [
        "plt.plot(history.history['loss'])\n",
        "plt.plot(history.history['val_loss'])\n",
        "plt.xlabel('epoch')\n",
        "plt.ylabel('loss')\n",
        "plt.legend(['train', 'val'])\n",
        "plt.show()\n",
        "#상당한 부분 과대적합이 해소된 것을 볼 수 있다."
      ],
      "execution_count": 26,
      "outputs": [
        {
          "output_type": "display_data",
          "data": {
            "image/png": "[encoded data removed]",
            "text/plain": [
              "<Figure size 432x288 with 1 Axes>"
            ]
          },
          "metadata": {
            "tags": [],
            "needs_background": "light"
          }
        }
      ]
    },
    {
      "cell_type": "markdown",
      "metadata": {
        "id": "Dmh83pTt-fqY"
      },
      "source": [
        "# **GRU 셀**\n",
        "하나의 큰 셀 안에 3개의 작은셀을 포함하고 셀 상태를 없애 LSTM을 간소화시킨 순환신경망"
      ]
    },
    {
      "cell_type": "code",
      "metadata": {
        "colab": {
          "base_uri": "https://localhost:8080/"
        },
        "id": "-sTYy_q3-wrs",
        "outputId": "9663ffa9-66cc-49e7-bc0c-d60fa6b97232"
      },
      "source": [
        "model4 = keras.Sequential()\n",
        "\n",
        "model4.add(keras.layers.Embedding(500, 16, input_length=100))\n",
        "#LSTM대신 GRU를 추가하면 손쉽게 GRU모델을 만들 수 있다.\n",
        "model4.add(keras.layers.GRU(8))\n",
        "model4.add(keras.layers.Dense(1, activation='sigmoid'))\n",
        "\n",
        "model4.summary()\n",
        "#RNN의 경우 200개의 파라미터에 텐서플로우의 GRU모델은 각 셀마다 은닉상태에 곱해지는 가중치 Wh를 가지기 때문에 8개의 가중치를 추가로 가지며\n",
        "#GRU모델은 큰 셀안에 작은셀이 3개가 있으므로 총 파라미터 개수는 (200+8)*3해서 624개이다."
      ],
      "execution_count": 27,
      "outputs": [
        {
          "output_type": "stream",
          "text": [
            "Model: \"sequential_5\"\n",
            "_________________________________________________________________\n",
            "Layer (type)                 Output Shape              Param #   \n",
            "=================================================================\n",
            "embedding_5 (Embedding)      (None, 100, 16)           8000      \n",
            "_________________________________________________________________\n",
            "gru (GRU)                    (None, 8)                 624       \n",
            "_________________________________________________________________\n",
            "dense_5 (Dense)              (None, 1)                 9         \n",
            "=================================================================\n",
            "Total params: 8,633\n",
            "Trainable params: 8,633\n",
            "Non-trainable params: 0\n",
            "_________________________________________________________________\n"
          ],
          "name": "stdout"
        }
      ]
    },
    {
      "cell_type": "code",
      "metadata": {
        "colab": {
          "base_uri": "https://localhost:8080/"
        },
        "id": "xWMN7NvW_b50",
        "outputId": "c33398cc-8e0f-40f4-f2a7-022f901d8183"
      },
      "source": [
        "rmsprop = keras.optimizers.RMSprop(learning_rate=1e-4)\n",
        "model4.compile(optimizer=rmsprop, loss='binary_crossentropy', \n",
        "               metrics=['accuracy'])\n",
        "\n",
        "checkpoint_cb = keras.callbacks.ModelCheckpoint('best-gru-model.h5')\n",
        "early_stopping_cb = keras.callbacks.EarlyStopping(patience=3,\n",
        "                                                  restore_best_weights=True)\n",
        "\n",
        "history = model4.fit(train_seq, train_target, epochs=100, batch_size=64,\n",
        "                     validation_data=(val_seq, val_target),\n",
        "                     callbacks=[checkpoint_cb, early_stopping_cb])"
      ],
      "execution_count": 28,
      "outputs": [
        {
          "output_type": "stream",
          "text": [
            "Epoch 1/100\n",
            "313/313 [==============================] - 5s 9ms/step - loss: 0.6929 - accuracy: 0.5138 - val_loss: 0.6920 - val_accuracy: 0.5278\n",
            "Epoch 2/100\n",
            "313/313 [==============================] - 2s 8ms/step - loss: 0.6912 - accuracy: 0.5494 - val_loss: 0.6898 - val_accuracy: 0.5796\n",
            "Epoch 3/100\n",
            "313/313 [==============================] - 2s 8ms/step - loss: 0.6886 - accuracy: 0.5958 - val_loss: 0.6862 - val_accuracy: 0.5988\n",
            "Epoch 4/100\n",
            "313/313 [==============================] - 2s 8ms/step - loss: 0.6842 - accuracy: 0.6064 - val_loss: 0.6805 - val_accuracy: 0.6136\n",
            "Epoch 5/100\n",
            "313/313 [==============================] - 2s 8ms/step - loss: 0.6765 - accuracy: 0.6261 - val_loss: 0.6704 - val_accuracy: 0.6222\n",
            "Epoch 6/100\n",
            "313/313 [==============================] - 2s 8ms/step - loss: 0.6641 - accuracy: 0.6447 - val_loss: 0.6534 - val_accuracy: 0.6378\n",
            "Epoch 7/100\n",
            "313/313 [==============================] - 2s 8ms/step - loss: 0.6429 - accuracy: 0.6627 - val_loss: 0.6221 - val_accuracy: 0.6698\n",
            "Epoch 8/100\n",
            "313/313 [==============================] - 2s 8ms/step - loss: 0.6033 - accuracy: 0.6852 - val_loss: 0.5651 - val_accuracy: 0.7170\n",
            "Epoch 9/100\n",
            "313/313 [==============================] - 2s 8ms/step - loss: 0.5426 - accuracy: 0.7322 - val_loss: 0.5346 - val_accuracy: 0.7404\n",
            "Epoch 10/100\n",
            "313/313 [==============================] - 2s 8ms/step - loss: 0.5175 - accuracy: 0.7516 - val_loss: 0.5208 - val_accuracy: 0.7498\n",
            "Epoch 11/100\n",
            "313/313 [==============================] - 2s 8ms/step - loss: 0.5032 - accuracy: 0.7600 - val_loss: 0.5093 - val_accuracy: 0.7584\n",
            "Epoch 12/100\n",
            "313/313 [==============================] - 2s 8ms/step - loss: 0.4883 - accuracy: 0.7711 - val_loss: 0.5006 - val_accuracy: 0.7632\n",
            "Epoch 13/100\n",
            "313/313 [==============================] - 2s 8ms/step - loss: 0.4875 - accuracy: 0.7704 - val_loss: 0.4921 - val_accuracy: 0.7714\n",
            "Epoch 14/100\n",
            "313/313 [==============================] - 2s 8ms/step - loss: 0.4739 - accuracy: 0.7807 - val_loss: 0.4859 - val_accuracy: 0.7744\n",
            "Epoch 15/100\n",
            "313/313 [==============================] - 2s 8ms/step - loss: 0.4714 - accuracy: 0.7812 - val_loss: 0.4801 - val_accuracy: 0.7752\n",
            "Epoch 16/100\n",
            "313/313 [==============================] - 2s 8ms/step - loss: 0.4690 - accuracy: 0.7821 - val_loss: 0.4760 - val_accuracy: 0.7784\n",
            "Epoch 17/100\n",
            "313/313 [==============================] - 2s 8ms/step - loss: 0.4563 - accuracy: 0.7889 - val_loss: 0.4735 - val_accuracy: 0.7812\n",
            "Epoch 18/100\n",
            "313/313 [==============================] - 2s 8ms/step - loss: 0.4520 - accuracy: 0.7903 - val_loss: 0.4696 - val_accuracy: 0.7800\n",
            "Epoch 19/100\n",
            "313/313 [==============================] - 2s 7ms/step - loss: 0.4474 - accuracy: 0.7939 - val_loss: 0.4668 - val_accuracy: 0.7770\n",
            "Epoch 20/100\n",
            "313/313 [==============================] - 2s 8ms/step - loss: 0.4455 - accuracy: 0.7941 - val_loss: 0.4633 - val_accuracy: 0.7832\n",
            "Epoch 21/100\n",
            "313/313 [==============================] - 2s 8ms/step - loss: 0.4364 - accuracy: 0.8033 - val_loss: 0.4605 - val_accuracy: 0.7826\n",
            "Epoch 22/100\n",
            "313/313 [==============================] - 2s 8ms/step - loss: 0.4359 - accuracy: 0.8026 - val_loss: 0.4595 - val_accuracy: 0.7828\n",
            "Epoch 23/100\n",
            "313/313 [==============================] - 2s 8ms/step - loss: 0.4308 - accuracy: 0.8043 - val_loss: 0.4579 - val_accuracy: 0.7858\n",
            "Epoch 24/100\n",
            "313/313 [==============================] - 2s 8ms/step - loss: 0.4356 - accuracy: 0.8032 - val_loss: 0.4555 - val_accuracy: 0.7892\n",
            "Epoch 25/100\n",
            "313/313 [==============================] - 2s 8ms/step - loss: 0.4292 - accuracy: 0.8068 - val_loss: 0.4531 - val_accuracy: 0.7882\n",
            "Epoch 26/100\n",
            "313/313 [==============================] - 2s 8ms/step - loss: 0.4238 - accuracy: 0.8112 - val_loss: 0.4523 - val_accuracy: 0.7868\n",
            "Epoch 27/100\n",
            "313/313 [==============================] - 2s 8ms/step - loss: 0.4281 - accuracy: 0.8075 - val_loss: 0.4511 - val_accuracy: 0.7898\n",
            "Epoch 28/100\n",
            "313/313 [==============================] - 2s 8ms/step - loss: 0.4222 - accuracy: 0.8103 - val_loss: 0.4494 - val_accuracy: 0.7900\n",
            "Epoch 29/100\n",
            "313/313 [==============================] - 2s 8ms/step - loss: 0.4267 - accuracy: 0.8078 - val_loss: 0.4490 - val_accuracy: 0.7922\n",
            "Epoch 30/100\n",
            "313/313 [==============================] - 2s 8ms/step - loss: 0.4171 - accuracy: 0.8120 - val_loss: 0.4489 - val_accuracy: 0.7930\n",
            "Epoch 31/100\n",
            "313/313 [==============================] - 2s 8ms/step - loss: 0.4171 - accuracy: 0.8142 - val_loss: 0.4477 - val_accuracy: 0.7922\n",
            "Epoch 32/100\n",
            "313/313 [==============================] - 2s 8ms/step - loss: 0.4231 - accuracy: 0.8107 - val_loss: 0.4470 - val_accuracy: 0.7908\n",
            "Epoch 33/100\n",
            "313/313 [==============================] - 2s 8ms/step - loss: 0.4231 - accuracy: 0.8108 - val_loss: 0.4469 - val_accuracy: 0.7932\n",
            "Epoch 34/100\n",
            "313/313 [==============================] - 2s 8ms/step - loss: 0.4195 - accuracy: 0.8134 - val_loss: 0.4450 - val_accuracy: 0.7926\n",
            "Epoch 35/100\n",
            "313/313 [==============================] - 2s 8ms/step - loss: 0.4135 - accuracy: 0.8167 - val_loss: 0.4551 - val_accuracy: 0.7868\n",
            "Epoch 36/100\n",
            "313/313 [==============================] - 2s 8ms/step - loss: 0.4197 - accuracy: 0.8121 - val_loss: 0.4446 - val_accuracy: 0.7926\n",
            "Epoch 37/100\n",
            "313/313 [==============================] - 2s 8ms/step - loss: 0.4139 - accuracy: 0.8142 - val_loss: 0.4443 - val_accuracy: 0.7914\n",
            "Epoch 38/100\n",
            "313/313 [==============================] - 2s 8ms/step - loss: 0.4203 - accuracy: 0.8115 - val_loss: 0.4430 - val_accuracy: 0.7944\n",
            "Epoch 39/100\n",
            "313/313 [==============================] - 2s 8ms/step - loss: 0.4160 - accuracy: 0.8168 - val_loss: 0.4442 - val_accuracy: 0.7884\n",
            "Epoch 40/100\n",
            "313/313 [==============================] - 2s 7ms/step - loss: 0.4176 - accuracy: 0.8109 - val_loss: 0.4427 - val_accuracy: 0.7960\n",
            "Epoch 41/100\n",
            "313/313 [==============================] - 2s 8ms/step - loss: 0.4161 - accuracy: 0.8155 - val_loss: 0.4415 - val_accuracy: 0.7954\n",
            "Epoch 42/100\n",
            "313/313 [==============================] - 2s 8ms/step - loss: 0.4038 - accuracy: 0.8242 - val_loss: 0.4407 - val_accuracy: 0.7954\n",
            "Epoch 43/100\n",
            "313/313 [==============================] - 2s 8ms/step - loss: 0.4111 - accuracy: 0.8189 - val_loss: 0.4408 - val_accuracy: 0.7956\n",
            "Epoch 44/100\n",
            "313/313 [==============================] - 2s 8ms/step - loss: 0.4144 - accuracy: 0.8151 - val_loss: 0.4457 - val_accuracy: 0.7902\n",
            "Epoch 45/100\n",
            "313/313 [==============================] - 2s 7ms/step - loss: 0.4063 - accuracy: 0.8194 - val_loss: 0.4411 - val_accuracy: 0.7922\n"
          ],
          "name": "stdout"
        }
      ]
    },
    {
      "cell_type": "code",
      "metadata": {
        "colab": {
          "base_uri": "https://localhost:8080/",
          "height": 279
        },
        "id": "HMyG4_8nD0NH",
        "outputId": "be0aec51-590d-4ecb-dc99-03b7987582fd"
      },
      "source": [
        "plt.plot(history.history['loss'])\n",
        "plt.plot(history.history['val_loss'])\n",
        "plt.xlabel('epoch')\n",
        "plt.ylabel('loss')\n",
        "plt.legend(['train', 'val'])\n",
        "plt.show()"
      ],
      "execution_count": 30,
      "outputs": [
        {
          "output_type": "display_data",
          "data": {
            "image/png": "[encoded data removed]",
            "text/plain": [
              "<Figure size 432x288 with 1 Axes>"
            ]
          },
          "metadata": {
            "tags": [],
            "needs_background": "light"
          }
        }
      ]
    }
  ]
}