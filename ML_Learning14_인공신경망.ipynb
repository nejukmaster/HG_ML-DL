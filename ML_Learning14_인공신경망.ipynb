{
  "nbformat": 4,
  "nbformat_minor": 0,
  "metadata": {
    "colab": {
      "name": "Untitled16.ipynb",
      "provenance": []
    },
    "kernelspec": {
      "name": "python3",
      "display_name": "Python 3"
    }
  },
  "cells": [
    {
      "cell_type": "markdown",
      "metadata": {
        "id": "CaFFPDjWNOJM"
      },
      "source": [
        "# **패션MNIST**\n",
        "*패션MNIST: 28*28의 흑백 패션 이미지 데이터 6만개를 10개의 클래스로 나눈 데이터셋"
      ]
    },
    {
      "cell_type": "code",
      "metadata": {
        "id": "jGN3MX__K9Uz"
      },
      "source": [
        "from tensorflow import keras\n",
        "\n",
        "#keras.datasets.fashion_mnist패키지 하위의  load_data() 메소드는 다운한 패션MNIST 패키지를 \n",
        "#(훈련 세트 쌍(훈련 인풋셋, 훈련 타깃셋)),(테스트 세트 쌍(테스트 인풋셋, 테스트 타깃셋))으로 변환해 반환한다.\n",
        "(train_input, train_target), (test_input, test_target) = keras.datasets.fashion_mnist.load_data()"
      ],
      "execution_count": 2,
      "outputs": []
    },
    {
      "cell_type": "code",
      "metadata": {
        "colab": {
          "base_uri": "https://localhost:8080/"
        },
        "id": "ssHpnIipO2qo",
        "outputId": "242bb544-a9b0-4595-c23f-3c887a51e5f2"
      },
      "source": [
        "print(train_input.shape, train_target.shape)"
      ],
      "execution_count": 3,
      "outputs": [
        {
          "output_type": "stream",
          "text": [
            "(60000, 28, 28) (60000,)\n"
          ],
          "name": "stdout"
        }
      ]
    },
    {
      "cell_type": "code",
      "metadata": {
        "colab": {
          "base_uri": "https://localhost:8080/"
        },
        "id": "86RmZCBhO6U6",
        "outputId": "e6848d42-dd41-407c-b131-8204adc31776"
      },
      "source": [
        "print(test_input.shape, test_target.shape)"
      ],
      "execution_count": 4,
      "outputs": [
        {
          "output_type": "stream",
          "text": [
            "(10000, 28, 28) (10000,)\n"
          ],
          "name": "stdout"
        }
      ]
    },
    {
      "cell_type": "code",
      "metadata": {
        "colab": {
          "base_uri": "https://localhost:8080/",
          "height": 78
        },
        "id": "MyjsnesJO8W0",
        "outputId": "2b705641-dcd6-4835-afdd-cc9cf491a61e"
      },
      "source": [
        "import matplotlib.pyplot as plt\n",
        "\n",
        "fig, axs = plt.subplots(1, 10, figsize=(10,10))\n",
        "for i in range(10):\n",
        "    axs[i].imshow(train_input[i], cmap='gray_r')\n",
        "    axs[i].axis('off')\n",
        "plt.show()"
      ],
      "execution_count": 5,
      "outputs": [
        {
          "output_type": "display_data",
          "data": {
            "image/png": "[encoded data removed]",
            "text/plain": [
              "<Figure size 720x720 with 10 Axes>"
            ]
          },
          "metadata": {
            "tags": [],
            "needs_background": "light"
          }
        }
      ]
    },
    {
      "cell_type": "code",
      "metadata": {
        "colab": {
          "base_uri": "https://localhost:8080/"
        },
        "id": "Ae4eHLpfPwM_",
        "outputId": "97d5f7d3-b017-4ef0-9430-fbcee5e65694"
      },
      "source": [
        "print([train_target[i] for i in range(10)])"
      ],
      "execution_count": 6,
      "outputs": [
        {
          "output_type": "stream",
          "text": [
            "[9, 0, 0, 3, 0, 2, 7, 2, 5, 5]\n"
          ],
          "name": "stdout"
        }
      ]
    },
    {
      "cell_type": "code",
      "metadata": {
        "colab": {
          "base_uri": "https://localhost:8080/"
        },
        "id": "IVg325FRPyPm",
        "outputId": "372abe05-6a13-4fdb-c052-1017e94be396"
      },
      "source": [
        "import numpy as np\n",
        "\n",
        "print(np.unique(train_target, return_counts=True))"
      ],
      "execution_count": 7,
      "outputs": [
        {
          "output_type": "stream",
          "text": [
            "(array([0, 1, 2, 3, 4, 5, 6, 7, 8, 9], dtype=uint8), array([6000, 6000, 6000, 6000, 6000, 6000, 6000, 6000, 6000, 6000]))\n"
          ],
          "name": "stdout"
        }
      ]
    },
    {
      "cell_type": "markdown",
      "metadata": {
        "id": "Jocl6fNIP384"
      },
      "source": [
        "**로지스틱 회귀로 패션 아이템 분류하기**"
      ]
    },
    {
      "cell_type": "code",
      "metadata": {
        "colab": {
          "base_uri": "https://localhost:8080/"
        },
        "id": "gH8TaqUgP666",
        "outputId": "d092d1c9-58e9-4734-9911-3802fc87deee"
      },
      "source": [
        "#픽셀값은 0~255의 정수값이므로 따로 표준화 할 필요없이 255로 나누어줘도 된다.\n",
        "train_scaled = train_input / 255.0\n",
        "#픽셀 배열 펼치기\n",
        "train_scaled = train_scaled.reshape(-1, 28*28)\n",
        "print(train_scaled.shape)"
      ],
      "execution_count": 8,
      "outputs": [
        {
          "output_type": "stream",
          "text": [
            "(60000, 784)\n"
          ],
          "name": "stdout"
        }
      ]
    },
    {
      "cell_type": "code",
      "metadata": {
        "colab": {
          "base_uri": "https://localhost:8080/"
        },
        "id": "0_P2I_nBQaP4",
        "outputId": "90f4560a-7bb8-4c2d-c14d-5f75b0a13ab5"
      },
      "source": [
        "from sklearn.model_selection import cross_validate\n",
        "from sklearn.linear_model import SGDClassifier\n",
        "\n",
        "#경사하강법을 사용한 로지스틱 회귀\n",
        "sc = SGDClassifier(loss='log', max_iter=10)\n",
        "\n",
        "scores = cross_validate(sc, train_scaled, train_target, n_jobs=-1)\n",
        "print(np.mean(scores['test_score']))"
      ],
      "execution_count": 22,
      "outputs": [
        {
          "output_type": "stream",
          "text": [
            "0.8265833333333333\n"
          ],
          "name": "stdout"
        }
      ]
    },
    {
      "cell_type": "code",
      "metadata": {
        "colab": {
          "base_uri": "https://localhost:8080/",
          "height": 353
        },
        "id": "chuo1b20RPN5",
        "outputId": "587a81f8-5480-485d-d317-0e0708543848"
      },
      "source": [
        "#예측해보기\n",
        "sc.fit(train_scaled, train_target)\n",
        "t = test_input[0]/255.0\n",
        "t_scaled = t.reshape(28*28)\n",
        "print(sc.predict(np.array([t_scaled])))\n",
        "plt.imshow(t*255, cmap='gray_r')"
      ],
      "execution_count": 29,
      "outputs": [
        {
          "output_type": "stream",
          "text": [
            "[5]\n"
          ],
          "name": "stdout"
        },
        {
          "output_type": "stream",
          "text": [
            "/usr/local/lib/python3.7/dist-packages/sklearn/linear_model/_stochastic_gradient.py:557: ConvergenceWarning: Maximum number of iteration reached before convergence. Consider increasing max_iter to improve the fit.\n",
            "  ConvergenceWarning)\n"
          ],
          "name": "stderr"
        },
        {
          "output_type": "execute_result",
          "data": {
            "text/plain": [
              "<matplotlib.image.AxesImage at 0x7f21e5d36690>"
            ]
          },
          "metadata": {
            "tags": []
          },
          "execution_count": 29
        },
        {
          "output_type": "display_data",
          "data": {
            "image/png": "[encoded data removed]",
            "text/plain": [
              "<Figure size 432x288 with 1 Axes>"
            ]
          },
          "metadata": {
            "tags": [],
            "needs_background": "light"
          }
        }
      ]
    },
    {
      "cell_type": "markdown",
      "metadata": {
        "id": "2SnwcR6bV_gY"
      },
      "source": [
        "# **인공신경망**(딥러닝)"
      ]
    },
    {
      "cell_type": "code",
      "metadata": {
        "id": "qVfLibzJV68R"
      },
      "source": [
        "#인공신경망 패키지인 텐서플로우와 하위의 케라스를 사용한다.\n",
        "import tensorflow as tf\n",
        "from tensorflow import keras"
      ],
      "execution_count": 30,
      "outputs": []
    },
    {
      "cell_type": "code",
      "metadata": {
        "id": "iCcPo21mW6Yn"
      },
      "source": [
        "from sklearn.model_selection import train_test_split\n",
        "\n",
        "#훈련세트를 훈련세트와 검증세트로 다시 나눔\n",
        "train_scaled, val_scaled, train_target, val_target = train_test_split(\n",
        "    train_scaled, train_target, test_size=0.2)\n",
        "\n",
        "#10개의 뉴런을 가지고 활성화 함수를 소프트맥스 함수를 사용하는 Dense층을 구성\n",
        "#Dense층은 keras모델의 가장 기본이 되는 모델로, 인풋 레이어의 모든 뉴런과 연결되기 때문에 밀집층, 또는 완전연결층 등으로 불린다.\n",
        "#보통 다중분류에선 소프트맥스 함수, 이진분류에선 시그모이드('sigmoid')함수를 사용한다.('로지스틱 회귀'참고)\n",
        "#input_shape:입력받을 데이터의 형태를 지정\n",
        "dense = keras.layers.Dense(10, activation='softmax', input_shape=(784,))\n",
        "#만들어진 덴스층을 Sequential메서드의 인자로 주어 모델을 구성한다.\n",
        "model = keras.Sequential(dense)"
      ],
      "execution_count": 34,
      "outputs": []
    },
    {
      "cell_type": "markdown",
      "metadata": {
        "id": "qvs-9PNgl-5J"
      },
      "source": [
        "**모델설정**"
      ]
    },
    {
      "cell_type": "code",
      "metadata": {
        "colab": {
          "base_uri": "https://localhost:8080/"
        },
        "id": "b7ZPkSRPmA-i",
        "outputId": "6e85be65-ffbc-4c0b-ed37-8ca9f0e21d19"
      },
      "source": [
        "#compile메소드로 모델의 세부사항을 지정한다.\n",
        "#loss:손실함수를 지정한다. 케라스에선 이진분류일땐 'binary_crossentropy', 다중분류일땐 'categorical_crossentropy'를 사용한다.\n",
        "#단, 일반적인 정수배열을 사용해 다중분류를 학습할때는 'sparse_categorical_crossentropy'를 사용한다.\n",
        "#metrics:결과에서 측정지표를 추가할때 사용한다. 아래에선 'accuracy', 즉 정확도를 추가한 것을 볼 수 있다.\n",
        "model.compile(loss='sparse_categorical_crossentropy', metrics='accuracy')\n",
        "#epochs: 학습 횟수\n",
        "model.fit(train_scaled, train_target, epochs=5)"
      ],
      "execution_count": 41,
      "outputs": [
        {
          "output_type": "stream",
          "text": [
            "Epoch 1/5\n",
            "960/960 [==============================] - 1s 1ms/step - loss: 0.3914 - accuracy: 0.8729\n",
            "Epoch 2/5\n",
            "960/960 [==============================] - 1s 1000us/step - loss: 0.3759 - accuracy: 0.8778\n",
            "Epoch 3/5\n",
            "960/960 [==============================] - 1s 1ms/step - loss: 0.3792 - accuracy: 0.8738\n",
            "Epoch 4/5\n",
            "960/960 [==============================] - 1s 1ms/step - loss: 0.3969 - accuracy: 0.8715\n",
            "Epoch 5/5\n",
            "960/960 [==============================] - 1s 988us/step - loss: 0.3825 - accuracy: 0.8752\n"
          ],
          "name": "stdout"
        },
        {
          "output_type": "execute_result",
          "data": {
            "text/plain": [
              "<tensorflow.python.keras.callbacks.History at 0x7f21ddb8d7d0>"
            ]
          },
          "metadata": {
            "tags": []
          },
          "execution_count": 41
        }
      ]
    },
    {
      "cell_type": "code",
      "metadata": {
        "colab": {
          "base_uri": "https://localhost:8080/"
        },
        "id": "iJFRkRTAo7TH",
        "outputId": "474130bf-1a12-4f67-99d8-3b8ebc64c44d"
      },
      "source": [
        "#검증\n",
        "model.evaluate(val_scaled, val_target)"
      ],
      "execution_count": 40,
      "outputs": [
        {
          "output_type": "stream",
          "text": [
            "240/240 [==============================] - 0s 824us/step - loss: 0.4859 - accuracy: 0.8464\n"
          ],
          "name": "stdout"
        },
        {
          "output_type": "execute_result",
          "data": {
            "text/plain": [
              "[0.4859204590320587, 0.8463541865348816]"
            ]
          },
          "metadata": {
            "tags": []
          },
          "execution_count": 40
        }
      ]
    }
  ]
}