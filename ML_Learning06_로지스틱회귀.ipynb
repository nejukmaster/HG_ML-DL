{
  "nbformat": 4,
  "nbformat_minor": 0,
  "metadata": {
    "colab": {
      "name": "ML_LearningTest06.ipynb",
      "provenance": [],
      "collapsed_sections": []
    },
    "kernelspec": {
      "name": "python3",
      "display_name": "Python 3"
    }
  },
  "cells": [
    {
      "cell_type": "code",
      "metadata": {
        "colab": {
          "base_uri": "https://localhost:8080/",
          "height": 204
        },
        "id": "k5EFDTvxqrnG",
        "outputId": "dff96691-8f36-4163-ed39-ff4527a496ef"
      },
      "source": [
        "import pandas as pd\n",
        "import numpy as np\n",
        "\n",
        "fish = pd.read_csv('https://bit.ly/fish_csv_data')\n",
        "fish.head()"
      ],
      "execution_count": null,
      "outputs": [
        {
          "output_type": "execute_result",
          "data": {
            "text/html": [
              "<div>\n",
              "<style scoped>\n",
              "    .dataframe tbody tr th:only-of-type {\n",
              "        vertical-align: middle;\n",
              "    }\n",
              "\n",
              "    .dataframe tbody tr th {\n",
              "        vertical-align: top;\n",
              "    }\n",
              "\n",
              "    .dataframe thead th {\n",
              "        text-align: right;\n",
              "    }\n",
              "</style>\n",
              "<table border=\"1\" class=\"dataframe\">\n",
              "  <thead>\n",
              "    <tr style=\"text-align: right;\">\n",
              "      <th></th>\n",
              "      <th>Species</th>\n",
              "      <th>Weight</th>\n",
              "      <th>Length</th>\n",
              "      <th>Diagonal</th>\n",
              "      <th>Height</th>\n",
              "      <th>Width</th>\n",
              "    </tr>\n",
              "  </thead>\n",
              "  <tbody>\n",
              "    <tr>\n",
              "      <th>0</th>\n",
              "      <td>Bream</td>\n",
              "      <td>242.0</td>\n",
              "      <td>25.4</td>\n",
              "      <td>30.0</td>\n",
              "      <td>11.5200</td>\n",
              "      <td>4.0200</td>\n",
              "    </tr>\n",
              "    <tr>\n",
              "      <th>1</th>\n",
              "      <td>Bream</td>\n",
              "      <td>290.0</td>\n",
              "      <td>26.3</td>\n",
              "      <td>31.2</td>\n",
              "      <td>12.4800</td>\n",
              "      <td>4.3056</td>\n",
              "    </tr>\n",
              "    <tr>\n",
              "      <th>2</th>\n",
              "      <td>Bream</td>\n",
              "      <td>340.0</td>\n",
              "      <td>26.5</td>\n",
              "      <td>31.1</td>\n",
              "      <td>12.3778</td>\n",
              "      <td>4.6961</td>\n",
              "    </tr>\n",
              "    <tr>\n",
              "      <th>3</th>\n",
              "      <td>Bream</td>\n",
              "      <td>363.0</td>\n",
              "      <td>29.0</td>\n",
              "      <td>33.5</td>\n",
              "      <td>12.7300</td>\n",
              "      <td>4.4555</td>\n",
              "    </tr>\n",
              "    <tr>\n",
              "      <th>4</th>\n",
              "      <td>Bream</td>\n",
              "      <td>430.0</td>\n",
              "      <td>29.0</td>\n",
              "      <td>34.0</td>\n",
              "      <td>12.4440</td>\n",
              "      <td>5.1340</td>\n",
              "    </tr>\n",
              "  </tbody>\n",
              "</table>\n",
              "</div>"
            ],
            "text/plain": [
              "  Species  Weight  Length  Diagonal   Height   Width\n",
              "0   Bream   242.0    25.4      30.0  11.5200  4.0200\n",
              "1   Bream   290.0    26.3      31.2  12.4800  4.3056\n",
              "2   Bream   340.0    26.5      31.1  12.3778  4.6961\n",
              "3   Bream   363.0    29.0      33.5  12.7300  4.4555\n",
              "4   Bream   430.0    29.0      34.0  12.4440  5.1340"
            ]
          },
          "metadata": {
            "tags": []
          },
          "execution_count": 1
        }
      ]
    },
    {
      "cell_type": "code",
      "metadata": {
        "colab": {
          "base_uri": "https://localhost:8080/"
        },
        "id": "UqcQe-DcuE2y",
        "outputId": "9b3b6caf-b91b-4b03-d876-969905819047"
      },
      "source": [
        "print(pd.unique(fish['Species']))"
      ],
      "execution_count": null,
      "outputs": [
        {
          "output_type": "stream",
          "text": [
            "['Bream' 'Roach' 'Whitefish' 'Parkki' 'Perch' 'Pike' 'Smelt']\n"
          ],
          "name": "stdout"
        }
      ]
    },
    {
      "cell_type": "code",
      "metadata": {
        "id": "g-Pt2p33uPj8"
      },
      "source": [
        "fish_input = fish[['Weight','Length','Diagonal','Height','Width']].to_numpy()"
      ],
      "execution_count": null,
      "outputs": []
    },
    {
      "cell_type": "code",
      "metadata": {
        "colab": {
          "base_uri": "https://localhost:8080/"
        },
        "id": "RiWPX5equTsJ",
        "outputId": "acee3837-388f-4b45-fab1-292b424b38fb"
      },
      "source": [
        "print(fish_input[:5])"
      ],
      "execution_count": null,
      "outputs": [
        {
          "output_type": "stream",
          "text": [
            "[[242.      25.4     30.      11.52     4.02  ]\n",
            " [290.      26.3     31.2     12.48     4.3056]\n",
            " [340.      26.5     31.1     12.3778   4.6961]\n",
            " [363.      29.      33.5     12.73     4.4555]\n",
            " [430.      29.      34.      12.444    5.134 ]]\n"
          ],
          "name": "stdout"
        }
      ]
    },
    {
      "cell_type": "code",
      "metadata": {
        "id": "r8KZW3Mxu6r6"
      },
      "source": [
        "fish_target = fish['Species'].to_numpy()"
      ],
      "execution_count": null,
      "outputs": []
    },
    {
      "cell_type": "code",
      "metadata": {
        "id": "UCfH2WcgvgDQ"
      },
      "source": [
        "from sklearn.model_selection import train_test_split\n",
        "\n",
        "train_input, test_input, train_target, test_target = train_test_split(\n",
        "    fish_input, fish_target)"
      ],
      "execution_count": null,
      "outputs": []
    },
    {
      "cell_type": "code",
      "metadata": {
        "colab": {
          "base_uri": "https://localhost:8080/"
        },
        "id": "KrVsRl9yvsvu",
        "outputId": "4d65271d-6426-419c-c06d-bef3db567b25"
      },
      "source": [
        "from sklearn.preprocessing import StandardScaler\n",
        "\n",
        "ss = StandardScaler()\n",
        "ss.fit(train_input)\n",
        "train_scaled = ss.transform(train_input)\n",
        "test_scaled = ss.transform(test_input)\n",
        "print(train_scaled[:5])"
      ],
      "execution_count": null,
      "outputs": [
        {
          "output_type": "stream",
          "text": [
            "[[-0.6070944  -0.30131027 -0.40564502 -0.60619406 -0.16411638]\n",
            " [ 0.86416142  0.60108778  0.82257652  1.64659144  0.90168435]\n",
            " [-0.84951723 -0.74290932 -0.80327069 -0.8058618  -0.56595064]\n",
            " [ 0.23720581  1.5610857   1.44994147 -0.51446415  0.22185599]\n",
            " [ 0.23720581  0.21708861  0.40727859  1.18941323  0.17403536]]\n"
          ],
          "name": "stdout"
        }
      ]
    },
    {
      "cell_type": "markdown",
      "metadata": {
        "id": "J1tj-2ptv331"
      },
      "source": [
        "# **K최근접이웃 알고리즘을 이용한 분류기의 확률 예측**"
      ]
    },
    {
      "cell_type": "code",
      "metadata": {
        "colab": {
          "base_uri": "https://localhost:8080/"
        },
        "id": "1GagzUFVv2wR",
        "outputId": "30800639-7b19-45ea-cafd-9c66f997db14"
      },
      "source": [
        "from sklearn.neighbors import KNeighborsClassifier\n",
        "\n",
        "#n_neighbors:하나의 데이터를 예측하기위해 볼 주변데이터의 개수를 나타내는 매개변수\n",
        "kn = KNeighborsClassifier(n_neighbors=3)\n",
        "kn.fit(train_scaled, train_target)\n",
        "\n",
        "print(kn.score(train_scaled, train_target))\n",
        "print(kn.score(test_scaled, test_target))"
      ],
      "execution_count": null,
      "outputs": [
        {
          "output_type": "stream",
          "text": [
            "0.8739495798319328\n",
            "0.825\n"
          ],
          "name": "stdout"
        }
      ]
    },
    {
      "cell_type": "code",
      "metadata": {
        "colab": {
          "base_uri": "https://localhost:8080/"
        },
        "id": "sKznuA3DEmzv",
        "outputId": "e4619102-3133-45ef-8124-7f2432022fcb"
      },
      "source": [
        "print(kn.classes_)"
      ],
      "execution_count": null,
      "outputs": [
        {
          "output_type": "stream",
          "text": [
            "['Bream' 'Parkki' 'Perch' 'Pike' 'Roach' 'Smelt' 'Whitefish']\n"
          ],
          "name": "stdout"
        }
      ]
    },
    {
      "cell_type": "code",
      "metadata": {
        "colab": {
          "base_uri": "https://localhost:8080/"
        },
        "id": "59ouGbM2E12_",
        "outputId": "cd43a343-996c-4754-d5d7-b3dda0b2340c"
      },
      "source": [
        "#테스트 세트의 앞의 다섯개 예측\n",
        "print(kn.predict(test_scaled[:5]))"
      ],
      "execution_count": null,
      "outputs": [
        {
          "output_type": "stream",
          "text": [
            "['Perch' 'Perch' 'Perch' 'Parkki' 'Perch']\n"
          ],
          "name": "stdout"
        }
      ]
    },
    {
      "cell_type": "code",
      "metadata": {
        "colab": {
          "base_uri": "https://localhost:8080/"
        },
        "id": "DpIKLXlxFQTx",
        "outputId": "c13309bb-db83-47dc-cfcf-056a55b10438"
      },
      "source": [
        "proba = kn.predict_proba(test_scaled[:5])\n",
        "#numpy패키지의 round메소드는 주어진 값, 또는 넘파이 배열을 소숫점 4(decimals)으로 반올림해준다.\n",
        "print(np.round(proba, decimals=4))\n",
        "#predict_proba메소드는 예측시 각 클래스들의(이번 예제의 경우 생선의 종류) 확률을 표기해준다.\n",
        "#predict메소드의 결과값과 동치를 이루는데\n",
        "#첫번째, 두번째줄에 각각 'Bream'과 'Smelt'가 100퍼센트이므로 kn.predict(test_scaled[0]) = 'Bream', kn.predict(test_scaled[1]) = 'Smelt'로\n",
        "#세번째 줄 같은 경우는 각각 'Perch'가 약 33퍼센트, 'Roach'가 67퍼센트이므로 kn.predict(test_scaled[2]) = 'Roach'로 출력되는것을 볼 수 있다."
      ],
      "execution_count": null,
      "outputs": [
        {
          "output_type": "stream",
          "text": [
            "[[0.     0.     1.     0.     0.     0.     0.    ]\n",
            " [0.     0.     0.6667 0.     0.     0.     0.3333]\n",
            " [0.     0.     0.6667 0.     0.3333 0.     0.    ]\n",
            " [0.3333 0.6667 0.     0.     0.     0.     0.    ]\n",
            " [0.     0.     1.     0.     0.     0.     0.    ]]\n"
          ],
          "name": "stdout"
        }
      ]
    },
    {
      "cell_type": "markdown",
      "metadata": {
        "id": "WTETf52CHix6"
      },
      "source": [
        "*k최근점 이웃 알고리즘으로 분류문제를 다룰경우 확률이 단순하게 나오고, 따라서 정확도역시 그렇게 높지 않다는 단점이 있다."
      ]
    },
    {
      "cell_type": "markdown",
      "metadata": {
        "id": "k1rw3aqWH4iS"
      },
      "source": [
        "# **로지스틱 회귀**"
      ]
    },
    {
      "cell_type": "code",
      "metadata": {
        "colab": {
          "base_uri": "https://localhost:8080/",
          "height": 279
        },
        "id": "rZUOOJC1JK5q",
        "outputId": "b35e9346-b86d-4a5c-842d-c3db5f1ffacf"
      },
      "source": [
        "import matplotlib.pyplot as plt\n",
        "\n",
        "#로지스트 함수 f(x) = 1/(1+e^(-z))\n",
        "#이번 예제에서 z = a*무게+b*길이+c*대각선+d*높이+e*두께+f 이다.\n",
        "z = np.arange(-5, 5, 0.1)\n",
        "phi = 1 / (1 + np.exp(-z))\n",
        "\n",
        "plt.plot(z, phi)\n",
        "plt.xlabel('z')\n",
        "plt.ylabel('phi')\n",
        "plt.show()"
      ],
      "execution_count": null,
      "outputs": [
        {
          "output_type": "display_data",
          "data": {
            "image/png": "[encoded data removed]",
            "text/plain": [
              "<Figure size 432x288 with 1 Axes>"
            ]
          },
          "metadata": {
            "tags": [],
            "needs_background": "light"
          }
        }
      ]
    },
    {
      "cell_type": "markdown",
      "metadata": {
        "id": "XC1ZKjoaJoiK"
      },
      "source": [
        "**로지스틱 회귀로 이진 분류 수행하기**"
      ]
    },
    {
      "cell_type": "code",
      "metadata": {
        "colab": {
          "base_uri": "https://localhost:8080/"
        },
        "id": "An4whnU8Jqux",
        "outputId": "845f7a82-a6c8-43ba-b047-0cf0d49981e0"
      },
      "source": [
        "#이진분류를 위해 먼저 생선데이터에서 Bream과 Smelt의 데이터만 뽑아 새로운 데이터세트를 만들어준다.\n",
        "#train_target 배열에서 Bream과 Smelt만 True로 나머진 False로 만들어 배열을 채운다. \n",
        "#OR연산자(|)는 두 배열의 각각의 항을 OR연산하여 하나의 배열로 만들어준다.\n",
        "bream_smelt_indexes = (train_target == 'Bream') | (train_target == 'Smelt')\n",
        "print(bream_smelt_indexes[:10])"
      ],
      "execution_count": null,
      "outputs": [
        {
          "output_type": "stream",
          "text": [
            "[False  True False False  True False False  True False  True]\n"
          ],
          "name": "stdout"
        }
      ]
    },
    {
      "cell_type": "code",
      "metadata": {
        "id": "ryxjUE-DKXtv"
      },
      "source": [
        "#넘파이 배열의 대괄호([])안에 논리 배열을 넣으면 논리 배열의 True에 해당하는 원소만 뽑아서 새로운 배열을 반환한다.\n",
        "#다차원 배열일경우 안의 배열을 원소로 취급하여 새로운 배열을 반환한다.\n",
        "train_bream_smelt = train_scaled[bream_smelt_indexes]\n",
        "target_bream_smelt = train_target[bream_smelt_indexes]"
      ],
      "execution_count": null,
      "outputs": []
    },
    {
      "cell_type": "code",
      "metadata": {
        "colab": {
          "base_uri": "https://localhost:8080/"
        },
        "id": "Xzzqv7maPp5s",
        "outputId": "09b83008-2570-4f20-97c9-92af422b1f3d"
      },
      "source": [
        "#예시1\n",
        "row = np.array([1,2,3,2,2,1,5,1])\n",
        "row_logic = [True,False,True,True,False,False,False,True]\n",
        "row_filtered = row[row_logic]\n",
        "print(row_filtered)"
      ],
      "execution_count": null,
      "outputs": [
        {
          "output_type": "stream",
          "text": [
            "[1 3 2 1]\n"
          ],
          "name": "stdout"
        }
      ]
    },
    {
      "cell_type": "code",
      "metadata": {
        "colab": {
          "base_uri": "https://localhost:8080/"
        },
        "id": "v8XQzsbhR4Fl",
        "outputId": "e0e312e7-b136-4ace-a99d-26656be5c7a7"
      },
      "source": [
        "#예시2\n",
        "row = np.array([[1,2],\n",
        "               [2,5],\n",
        "               [14,7],\n",
        "               [6,4],\n",
        "               [7,7]])\n",
        "row_logic = [True,False,True,True,False]\n",
        "row_filtered = row[row_logic]\n",
        "print(row_filtered)"
      ],
      "execution_count": null,
      "outputs": [
        {
          "output_type": "stream",
          "text": [
            "[[ 1  2]\n",
            " [14  7]\n",
            " [ 6  4]]\n"
          ],
          "name": "stdout"
        }
      ]
    },
    {
      "cell_type": "code",
      "metadata": {
        "colab": {
          "base_uri": "https://localhost:8080/"
        },
        "id": "itcu9qAHOfoB",
        "outputId": "74d7f8c7-7548-4d4d-cf11-2f2e7fb5e477"
      },
      "source": [
        "from sklearn.linear_model import LogisticRegression\n",
        "\n",
        "lr = LogisticRegression()\n",
        "lr.fit(train_bream_smelt, target_bream_smelt)\n",
        "\n",
        "print(lr.predict(train_bream_smelt[:5]))\n",
        "print(target_bream_smelt[:5])"
      ],
      "execution_count": null,
      "outputs": [
        {
          "output_type": "stream",
          "text": [
            "['Bream' 'Bream' 'Bream' 'Bream' 'Bream']\n",
            "['Bream' 'Bream' 'Bream' 'Bream' 'Bream']\n"
          ],
          "name": "stdout"
        }
      ]
    },
    {
      "cell_type": "code",
      "metadata": {
        "colab": {
          "base_uri": "https://localhost:8080/"
        },
        "id": "FYsRQJnpRAvN",
        "outputId": "1a2c7ad1-7f6d-44cf-b263-a54faac6ccee"
      },
      "source": [
        "print(lr.predict_proba(train_bream_smelt[:5]))"
      ],
      "execution_count": null,
      "outputs": [
        {
          "output_type": "stream",
          "text": [
            "[[9.97573548e-01 2.42645182e-03]\n",
            " [9.85353735e-01 1.46462646e-02]\n",
            " [9.99600619e-01 3.99380701e-04]\n",
            " [9.70567338e-01 2.94326621e-02]\n",
            " [9.99410549e-01 5.89451003e-04]]\n"
          ],
          "name": "stdout"
        }
      ]
    },
    {
      "cell_type": "code",
      "metadata": {
        "colab": {
          "base_uri": "https://localhost:8080/"
        },
        "id": "ML3g1W6jxvk3",
        "outputId": "6daf34cb-e1b4-4c13-c0fe-3599364b19fe"
      },
      "source": [
        "print(lr.coef_, lr.intercept_)\n",
        "#[[무게의 계수,길이의 계수,대각선의 계수,높이의 계수,두께의 계수],[절편]]"
      ],
      "execution_count": null,
      "outputs": [
        {
          "output_type": "stream",
          "text": [
            "[[-0.43121119 -0.6301909  -0.71668012 -0.99597368 -0.74866343]] [-2.36291565]\n"
          ],
          "name": "stdout"
        }
      ]
    },
    {
      "cell_type": "code",
      "metadata": {
        "colab": {
          "base_uri": "https://localhost:8080/"
        },
        "id": "IM1yzSDizgMs",
        "outputId": "635d73eb-8b88-45cf-c402-0e361e629a5f"
      },
      "source": [
        "#decision_function메소드는 z값을 반환한다.\n",
        "decisions = lr.decision_function(train_bream_smelt[:5])\n",
        "print(decisions)"
      ],
      "execution_count": null,
      "outputs": [
        {
          "output_type": "stream",
          "text": [
            "[-6.01889584 -4.20881537 -7.825196   -3.49577577 -7.43572933]\n"
          ],
          "name": "stdout"
        }
      ]
    },
    {
      "cell_type": "code",
      "metadata": {
        "colab": {
          "base_uri": "https://localhost:8080/"
        },
        "id": "6GlGD1Erzt66",
        "outputId": "3834c3d3-7ac3-480e-f7d5-507a55f52638"
      },
      "source": [
        "from scipy.special import expit\n",
        "\n",
        "#scipy의 expit메소드는 z값에 대응하는 시그놀리아함수(로지스트 함수)값을 반환해준다.\n",
        "#위의 predict_proba메소드와 비교하면 이진 분류에선 로지스트 함수값은 양성 클래스(Z값이 +)의 확률값과 같다는 것을 알 수 있다.\n",
        "print(expit(decisions))"
      ],
      "execution_count": null,
      "outputs": [
        {
          "output_type": "stream",
          "text": [
            "[0.00242645 0.01464626 0.00039938 0.02943266 0.00058945]\n"
          ],
          "name": "stdout"
        }
      ]
    },
    {
      "cell_type": "markdown",
      "metadata": {
        "id": "uQXCpp1T-OcF"
      },
      "source": [
        "**로지스틱회귀로 다중분류 수행하기**"
      ]
    },
    {
      "cell_type": "code",
      "metadata": {
        "colab": {
          "base_uri": "https://localhost:8080/"
        },
        "id": "6LWHzyhZ-SmK",
        "outputId": "c882c8af-7c4c-4f31-9ac9-c5bd2d37f8a6"
      },
      "source": [
        "#max_iter(기본값:100):로지스틱회귀 모델의 반복횟수를 설정해주는 매개변수\n",
        "#값이 적으면 적다는 경고메세지가 뜸\n",
        "#그렇게 될경우 max_iter의 값을 올려주어 반복횟수를 늘려준다.\n",
        "\n",
        "#C(기본값:1):규제의 강도를 설정해주는 매개변수\n",
        "#사이킥런의 로지스트회귀 모델은 기본적으로 L2규제를 적용한다.\n",
        "#C값이 오를수록 규제가 약해지고, C값이 내릴수록 규제가 강해진다.\n",
        "lr = LogisticRegression(C=20, max_iter=1000)\n",
        "lr.fit(train_scaled, train_target)\n",
        "\n",
        "#분류모델에서 score메소드는 R^2값이 아닌 정확도를 출력해준다.\n",
        "print(lr.score(train_scaled, train_target))\n",
        "print(lr.score(test_scaled, test_target))"
      ],
      "execution_count": null,
      "outputs": [
        {
          "output_type": "stream",
          "text": [
            "0.8991596638655462\n",
            "0.95\n"
          ],
          "name": "stdout"
        }
      ]
    },
    {
      "cell_type": "code",
      "metadata": {
        "id": "TbKD9UBpBUCC",
        "colab": {
          "base_uri": "https://localhost:8080/"
        },
        "outputId": "b070c503-d6dd-42c5-b281-9508ed2cd9b5"
      },
      "source": [
        "print(lr.predict(test_scaled[:5]))"
      ],
      "execution_count": null,
      "outputs": [
        {
          "output_type": "stream",
          "text": [
            "['Perch' 'Perch' 'Perch' 'Parkki' 'Perch']\n"
          ],
          "name": "stdout"
        }
      ]
    },
    {
      "cell_type": "code",
      "metadata": {
        "colab": {
          "base_uri": "https://localhost:8080/"
        },
        "id": "BaPVlYGpKLjl",
        "outputId": "7b3b00f7-51cd-43df-f0a1-6ce3540b3167"
      },
      "source": [
        "#회귀 결과 확률을 전체 출력\n",
        "proba = lr.predict_proba(test_scaled[:5])\n",
        "print(np.round(proba, decimals=3))"
      ],
      "execution_count": null,
      "outputs": [
        {
          "output_type": "stream",
          "text": [
            "[[0.    0.001 0.888 0.007 0.076 0.    0.028]\n",
            " [0.028 0.    0.63  0.006 0.    0.    0.337]\n",
            " [0.    0.006 0.874 0.    0.095 0.019 0.005]\n",
            " [0.126 0.791 0.    0.    0.032 0.    0.05 ]\n",
            " [0.21  0.    0.332 0.149 0.008 0.    0.301]]\n"
          ],
          "name": "stdout"
        }
      ]
    },
    {
      "cell_type": "code",
      "metadata": {
        "colab": {
          "base_uri": "https://localhost:8080/"
        },
        "id": "Cp-S-OkKKQlF",
        "outputId": "7443234d-21e4-4f4e-9b3f-126de6482704"
      },
      "source": [
        "print(lr.classes_)"
      ],
      "execution_count": null,
      "outputs": [
        {
          "output_type": "stream",
          "text": [
            "['Bream' 'Parkki' 'Perch' 'Pike' 'Roach' 'Smelt' 'Whitefish']\n"
          ],
          "name": "stdout"
        }
      ]
    },
    {
      "cell_type": "code",
      "metadata": {
        "colab": {
          "base_uri": "https://localhost:8080/"
        },
        "id": "7nMpyxm1KSHg",
        "outputId": "f4d04e56-dc71-46c4-b015-25f2f436b1ac"
      },
      "source": [
        "print(lr.coef_.shape, lr.intercept_.shape)"
      ],
      "execution_count": null,
      "outputs": [
        {
          "output_type": "stream",
          "text": [
            "(7, 5) (7,)\n"
          ],
          "name": "stdout"
        }
      ]
    },
    {
      "cell_type": "code",
      "metadata": {
        "colab": {
          "base_uri": "https://localhost:8080/"
        },
        "id": "TYKY8GdJKYxp",
        "outputId": "fd83f89c-63d0-47d5-f1d8-4248cd0a2980"
      },
      "source": [
        "from scipy.special import softmax\n",
        "#다중회귀의 경우 검산에 시그모이드 함수가 아닌, 소프트 맥스 함수를 사용한다.\n",
        "\n",
        "#decision_function메소드는 7개의 선형 함수의 z값을 출력해준다.\n",
        "decision = lr.decision_function(test_scaled[:5])\n",
        "print(np.round(decision, decimals=2))"
      ],
      "execution_count": null,
      "outputs": [
        {
          "output_type": "stream",
          "text": [
            "[[ -2.64  -2.08   4.95   0.08   2.49  -4.29   1.48]\n",
            " [  5.01  -3.37   8.14   3.44  -2.01 -18.72   7.51]\n",
            " [ -7.29   0.45   5.38  -3.49   3.16   1.57   0.22]\n",
            " [  3.33   5.16  -2.77  -3.65   1.96  -6.43   2.4 ]\n",
            " [  3.9   -3.6    4.36   3.56   0.58 -13.05   4.26]]\n"
          ],
          "name": "stdout"
        }
      ]
    },
    {
      "cell_type": "code",
      "metadata": {
        "colab": {
          "base_uri": "https://localhost:8080/"
        },
        "id": "AdJS0U8XKsCB",
        "outputId": "5df13a69-3162-47fd-9858-918468dc174a"
      },
      "source": [
        "#소프트 맥스 함수 S(n) = e^n/(sig(e^n))(sig(e^n)은 n = 1부터 끝까지 일때 e^n값의 총합)\n",
        "proba = softmax(decision, axis=1)\n",
        "print(np.round(proba, decimals=3))\n",
        "#위의 확률값과 같게 나오는것을 볼 수 있다."
      ],
      "execution_count": null,
      "outputs": [
        {
          "output_type": "stream",
          "text": [
            "[[0.    0.001 0.888 0.007 0.076 0.    0.028]\n",
            " [0.028 0.    0.63  0.006 0.    0.    0.337]\n",
            " [0.    0.006 0.874 0.    0.095 0.019 0.005]\n",
            " [0.126 0.791 0.    0.    0.032 0.    0.05 ]\n",
            " [0.21  0.    0.332 0.149 0.008 0.    0.301]]\n"
          ],
          "name": "stdout"
        }
      ]
    },
    {
      "cell_type": "code",
      "metadata": {
        "colab": {
          "base_uri": "https://localhost:8080/"
        },
        "id": "0fYzWaB5K4fN",
        "outputId": "b06a8777-7484-4c1c-db3c-bc0891df2172"
      },
      "source": [
        "print(expit(decision))\n",
        "#다중 회귀의 z값을 시그모이드함수에 넣으면 확률값이 다음과 같이 이상하게 나오는것을 볼 수 있다."
      ],
      "execution_count": null,
      "outputs": [
        {
          "output_type": "stream",
          "text": [
            "[[6.66941028e-02 1.11166267e-01 9.92977308e-01 5.20977870e-01\n",
            "  9.23593983e-01 1.35621703e-02 8.14055845e-01]\n",
            " [9.93365533e-01 3.31890703e-02 9.99708099e-01 9.68945413e-01\n",
            "  1.18089661e-01 7.42402685e-09 9.99454296e-01]\n",
            " [6.80911960e-04 6.10747712e-01 9.95416285e-01 2.95499406e-02\n",
            "  9.59216578e-01 8.27839554e-01 5.55701216e-01]\n",
            " [9.65363676e-01 9.94305099e-01 5.92372847e-02 2.52428888e-02\n",
            "  8.76350141e-01 1.61575531e-03 9.16577815e-01]\n",
            " [9.80170102e-01 2.65241733e-02 9.87340944e-01 9.72272793e-01\n",
            "  6.41765980e-01 2.14507363e-06 9.86042928e-01]]\n"
          ],
          "name": "stdout"
        }
      ]
    }
  ]
}