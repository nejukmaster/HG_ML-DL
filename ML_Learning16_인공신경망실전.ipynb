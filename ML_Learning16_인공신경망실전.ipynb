{
  "nbformat": 4,
  "nbformat_minor": 0,
  "metadata": {
    "colab": {
      "name": "Untitled19.ipynb",
      "provenance": []
    },
    "kernelspec": {
      "name": "python3",
      "display_name": "Python 3"
    }
  },
  "cells": [
    {
      "cell_type": "markdown",
      "metadata": {
        "id": "sBYSsez9U3Yy"
      },
      "source": [
        "# **손실 곡선**"
      ]
    },
    {
      "cell_type": "code",
      "metadata": {
        "id": "KP3mLfF0TMIX"
      },
      "source": [
        "from tensorflow import keras\n",
        "from sklearn.model_selection import train_test_split\n",
        "\n",
        "(train_input, train_target), (test_input, test_target) = keras.datasets.fashion_mnist.load_data()\n",
        "\n",
        "train_scaled = train_input / 255.0\n",
        "\n",
        "train_scaled, val_scaled, train_target, val_target = train_test_split(\n",
        "    train_scaled, train_target, test_size=0.2)"
      ],
      "execution_count": 52,
      "outputs": []
    },
    {
      "cell_type": "code",
      "metadata": {
        "id": "PM0xs0evVBwW"
      },
      "source": [
        "#모델 생성 함수\n",
        "def model_fn(a_layer=None):\n",
        "    model = keras.Sequential()\n",
        "    model.add(keras.layers.Flatten(input_shape=(28, 28)))\n",
        "    model.add(keras.layers.Dense(100, activation='relu',name='hidden1'))\n",
        "    if a_layer:\n",
        "        model.add(a_layer)\n",
        "    model.add(keras.layers.Dense(10, activation='softmax'))\n",
        "    return model"
      ],
      "execution_count": 19,
      "outputs": []
    },
    {
      "cell_type": "code",
      "metadata": {
        "colab": {
          "base_uri": "https://localhost:8080/"
        },
        "id": "p2-VlKy1VE9I",
        "outputId": "2847f8d9-a97d-43a9-eeba-67a3fec88c08"
      },
      "source": [
        "model = model_fn()\n",
        "model.summary()"
      ],
      "execution_count": 5,
      "outputs": [
        {
          "output_type": "stream",
          "text": [
            "Model: \"sequential\"\n",
            "_________________________________________________________________\n",
            "Layer (type)                 Output Shape              Param #   \n",
            "=================================================================\n",
            "flatten (Flatten)            (None, 784)               0         \n",
            "_________________________________________________________________\n",
            "dense (Dense)                (None, 100)               78500     \n",
            "_________________________________________________________________\n",
            "dense_1 (Dense)              (None, 10)                1010      \n",
            "=================================================================\n",
            "Total params: 79,510\n",
            "Trainable params: 79,510\n",
            "Non-trainable params: 0\n",
            "_________________________________________________________________\n"
          ],
          "name": "stdout"
        }
      ]
    },
    {
      "cell_type": "code",
      "metadata": {
        "colab": {
          "base_uri": "https://localhost:8080/"
        },
        "id": "mGyOSiGvVQxc",
        "outputId": "3021cb86-53fe-4c94-fed2-f0780d75996e"
      },
      "source": [
        "model.compile(loss='sparse_categorical_crossentropy', metrics='accuracy')\n",
        "#fit메소드는 학습 과정을 dictionary자료형으로 반환한다.\n",
        "history = model.fit(train_scaled, train_target, epochs=5, verbose=0)\n",
        "print(history.history.keys())\n",
        "#[['손실','정확도']]"
      ],
      "execution_count": 6,
      "outputs": [
        {
          "output_type": "stream",
          "text": [
            "dict_keys(['loss', 'accuracy'])\n"
          ],
          "name": "stdout"
        }
      ]
    },
    {
      "cell_type": "code",
      "metadata": {
        "colab": {
          "base_uri": "https://localhost:8080/",
          "height": 543
        },
        "id": "8jR1l3qLVUJO",
        "outputId": "bf79b0aa-1874-4226-b058-5a2e407f2520"
      },
      "source": [
        "import matplotlib.pyplot as plt\n",
        "\n",
        "plt.plot(history.history['loss'])\n",
        "plt.xlabel('epoch')\n",
        "plt.ylabel('loss')\n",
        "plt.savefig('7_3-01', dpi=300)\n",
        "plt.show()\n",
        "\n",
        "plt.plot(history.history['accuracy'])\n",
        "plt.xlabel('epoch')\n",
        "plt.ylabel('accuracy')\n",
        "plt.savefig('7_3-02', dpi=300)\n",
        "plt.show()\n",
        "\n",
        "#보는 바와같이 횟수(epoch)가 늘어날수록 손실이 줄어들고 정확도는 올라가는 것을 볼 수 있다."
      ],
      "execution_count": 8,
      "outputs": [
        {
          "output_type": "display_data",
          "data": {
            "image/png": "[encoded data removed]",
            "text/plain": [
              "<Figure size 432x288 with 1 Axes>"
            ]
          },
          "metadata": {
            "tags": [],
            "needs_background": "light"
          }
        },
        {
          "output_type": "display_data",
          "data": {
            "image/png": "[encoded data removed]",
            "text/plain": [
              "<Figure size 432x288 with 1 Axes>"
            ]
          },
          "metadata": {
            "tags": [],
            "needs_background": "light"
          }
        }
      ]
    },
    {
      "cell_type": "code",
      "metadata": {
        "colab": {
          "base_uri": "https://localhost:8080/",
          "height": 279
        },
        "id": "T4HPOTARa1Ll",
        "outputId": "103e987f-7fc9-457a-b7bd-ddedada8405a"
      },
      "source": [
        "model = model_fn()\n",
        "model.compile(loss='sparse_categorical_crossentropy', metrics='accuracy')\n",
        "#에포크 값을 늘렸다.\n",
        "history = model.fit(train_scaled, train_target, epochs=20, verbose=0)\n",
        "\n",
        "plt.plot(history.history['loss'])\n",
        "plt.xlabel('epoch')\n",
        "plt.ylabel('loss')\n",
        "plt.savefig('7_3-03', dpi=300)\n",
        "plt.show()"
      ],
      "execution_count": 10,
      "outputs": [
        {
          "output_type": "display_data",
          "data": {
            "image/png": "[encoded data removed]",
            "text/plain": [
              "<Figure size 432x288 with 1 Axes>"
            ]
          },
          "metadata": {
            "tags": [],
            "needs_background": "light"
          }
        }
      ]
    },
    {
      "cell_type": "markdown",
      "metadata": {
        "id": "eX-Rw7zGamIJ"
      },
      "source": [
        "**검증 손실**"
      ]
    },
    {
      "cell_type": "code",
      "metadata": {
        "colab": {
          "base_uri": "https://localhost:8080/"
        },
        "id": "DMiX_TwzaodA",
        "outputId": "a7901192-257a-4093-8cf7-7f05b5a029a7"
      },
      "source": [
        "model = model_fn()\n",
        "model.compile(loss='sparse_categorical_crossentropy', metrics='accuracy')\n",
        "\n",
        "history = model.fit(train_scaled, train_target, epochs=20, verbose=0, \n",
        "                    validation_data=(val_scaled, val_target))\n",
        "print(history.history.keys())"
      ],
      "execution_count": 12,
      "outputs": [
        {
          "output_type": "stream",
          "text": [
            "dict_keys(['loss', 'accuracy', 'val_loss', 'val_accuracy'])\n"
          ],
          "name": "stdout"
        }
      ]
    },
    {
      "cell_type": "code",
      "metadata": {
        "colab": {
          "base_uri": "https://localhost:8080/",
          "height": 279
        },
        "id": "vhR2zxgFigXc",
        "outputId": "f0abacc9-e3c2-4e35-fc15-f906d27e92a9"
      },
      "source": [
        "plt.plot(history.history['loss'])\n",
        "plt.plot(history.history['val_loss'])\n",
        "plt.xlabel('epoch')\n",
        "plt.ylabel('loss')\n",
        "plt.legend(['train', 'val'])\n",
        "plt.savefig('7_3-04', dpi=300)\n",
        "plt.show()\n",
        "#train:훈련 세트 손실\n",
        "#val:검증 세트 손실\n",
        "#훈련세트의 경우 epoch가 늘어날수록 손실이 줄어들지만 검증세트의 경우 epoch가 늘어나도 오히려 손실이 줄어들지 않는다\n",
        "#따라서 이 모델은 과대적합되었다고 할 수 있다."
      ],
      "execution_count": 13,
      "outputs": [
        {
          "output_type": "display_data",
          "data": {
            "image/png": "[encoded data removed]",
            "text/plain": [
              "<Figure size 432x288 with 1 Axes>"
            ]
          },
          "metadata": {
            "tags": [],
            "needs_background": "light"
          }
        }
      ]
    },
    {
      "cell_type": "code",
      "metadata": {
        "id": "J7wsdNhzjtvb"
      },
      "source": [
        "model = model_fn()\n",
        "#적응형 학습률 옵티마이저인 'adam'사용\n",
        "model.compile(optimizer='adam', loss='sparse_categorical_crossentropy', metrics='accuracy')\n",
        "#validation_data:검증세트를 설정\n",
        "history = model.fit(train_scaled, train_target, epochs=20, verbose=0, \n",
        "                    validation_data=(val_scaled, val_target))"
      ],
      "execution_count": 47,
      "outputs": []
    },
    {
      "cell_type": "code",
      "metadata": {
        "colab": {
          "base_uri": "https://localhost:8080/",
          "height": 279
        },
        "id": "XmQkTNCkktSr",
        "outputId": "e59b861b-48de-41ab-934b-b4ed045441c1"
      },
      "source": [
        "plt.plot(history.history['loss'])\n",
        "plt.plot(history.history['val_loss'])\n",
        "plt.xlabel('epoch')\n",
        "plt.ylabel('loss')\n",
        "plt.legend(['train', 'val'])\n",
        "plt.savefig('7_3-05', dpi=300)\n",
        "plt.show()\n",
        "#아래와 같이 과대적합이 조금은 완화된 모습을 볼 수 있다."
      ],
      "execution_count": 15,
      "outputs": [
        {
          "output_type": "display_data",
          "data": {
            "image/png": "[encoded data removed]",
            "text/plain": [
              "<Figure size 432x288 with 1 Axes>"
            ]
          },
          "metadata": {
            "tags": [],
            "needs_background": "light"
          }
        }
      ]
    },
    {
      "cell_type": "markdown",
      "metadata": {
        "id": "b9Ld3SRAlJet"
      },
      "source": [
        "# **드롭 아웃**\n",
        "*훈련과정중 일부 뉴런을 비활성화하여 과대적합을 막는 알고리즘"
      ]
    },
    {
      "cell_type": "code",
      "metadata": {
        "colab": {
          "base_uri": "https://localhost:8080/"
        },
        "id": "26UU3lrQlL2m",
        "outputId": "95ee101f-c450-4461-8df5-11cac9b14fa4"
      },
      "source": [
        "#30%(0.3)의 뉴런 비활성화\n",
        "model = model_fn(keras.layers.Dropout(0.3))\n",
        "model.summary()\n",
        "#입력층->Flatten->Dense(hidden1)->Dropout->Dense(출력층)\n",
        "#hidden1 위에 Dropout층을 쌓았으므로 hidden1층의 랜덤한 뉴런 30%의 값이 출력층으로 전달되지 않는다.\n",
        "#따라서 Dropout층은 일종의 필터같이 작동하는 것을 알 수 있다."
      ],
      "execution_count": 20,
      "outputs": [
        {
          "output_type": "stream",
          "text": [
            "Model: \"sequential_7\"\n",
            "_________________________________________________________________\n",
            "Layer (type)                 Output Shape              Param #   \n",
            "=================================================================\n",
            "flatten_7 (Flatten)          (None, 784)               0         \n",
            "_________________________________________________________________\n",
            "hidden1 (Dense)              (None, 100)               78500     \n",
            "_________________________________________________________________\n",
            "dropout_2 (Dropout)          (None, 100)               0         \n",
            "_________________________________________________________________\n",
            "dense_13 (Dense)             (None, 10)                1010      \n",
            "=================================================================\n",
            "Total params: 79,510\n",
            "Trainable params: 79,510\n",
            "Non-trainable params: 0\n",
            "_________________________________________________________________\n"
          ],
          "name": "stdout"
        }
      ]
    },
    {
      "cell_type": "code",
      "metadata": {
        "id": "XVgajasTpfi8"
      },
      "source": [
        "model.compile(optimizer='adam', loss='sparse_categorical_crossentropy', metrics='accuracy')\n",
        "\n",
        "history = model.fit(train_scaled, train_target, epochs=20, verbose=0, \n",
        "                    validation_data=(val_scaled, val_target))"
      ],
      "execution_count": 21,
      "outputs": []
    },
    {
      "cell_type": "code",
      "metadata": {
        "colab": {
          "base_uri": "https://localhost:8080/",
          "height": 279
        },
        "id": "x8Yl9ID2qPwQ",
        "outputId": "4618c3c4-a946-4204-9d79-600b04b003a6"
      },
      "source": [
        "plt.plot(history.history['loss'])\n",
        "plt.plot(history.history['val_loss'])\n",
        "plt.xlabel('epoch')\n",
        "plt.ylabel('loss')\n",
        "plt.legend(['train', 'val'])\n",
        "plt.savefig('7_3-06', dpi=300)\n",
        "plt.show()\n",
        "#아래 보이는것과 같이 과대적합이 굉장히 많이 해소되었음을 확인할 수 있다."
      ],
      "execution_count": 22,
      "outputs": [
        {
          "output_type": "display_data",
          "data": {
            "image/png": "[encoded data removed]",
            "text/plain": [
              "<Figure size 432x288 with 1 Axes>"
            ]
          },
          "metadata": {
            "tags": [],
            "needs_background": "light"
          }
        }
      ]
    },
    {
      "cell_type": "markdown",
      "metadata": {
        "id": "5G1Y7G-YqXPy"
      },
      "source": [
        "# **모델의 저장과 복원**"
      ]
    },
    {
      "cell_type": "code",
      "metadata": {
        "id": "0q9gn7sYqaPk"
      },
      "source": [
        "#가중치만 저장\n",
        "model.save_weights('model-weights.h5')"
      ],
      "execution_count": 23,
      "outputs": []
    },
    {
      "cell_type": "code",
      "metadata": {
        "id": "JyN6gQ3Zq2X9"
      },
      "source": [
        "#모델 자체를 저장\n",
        "model.save('model-whole.h5')"
      ],
      "execution_count": 25,
      "outputs": []
    },
    {
      "cell_type": "code",
      "metadata": {
        "colab": {
          "base_uri": "https://localhost:8080/"
        },
        "id": "qdtJ9I2orCCB",
        "outputId": "a76894d6-c856-43a0-bd4d-b5a8a59b8742"
      },
      "source": [
        "#.h5 파일을 찾는 cmd\n",
        "!ls -al *.h5"
      ],
      "execution_count": 26,
      "outputs": [
        {
          "output_type": "stream",
          "text": [
            "-rw-r--r-- 1 root root 332440 Mar  8 07:09 model-weights.h5\n",
            "-rw-r--r-- 1 root root 981768 Mar  8 07:11 model-whole.h5\n"
          ],
          "name": "stdout"
        }
      ]
    },
    {
      "cell_type": "code",
      "metadata": {
        "colab": {
          "base_uri": "https://localhost:8080/"
        },
        "id": "cS4ripbZrSjd",
        "outputId": "28275534-9c8b-49f8-c18f-78902f8933f0"
      },
      "source": [
        "#가중치만을 로드할땐 가중치를 저장한 원본 모델과 형태가 같아야한다.\n",
        "model = model_fn(keras.layers.Dropout(0.3))\n",
        "model.load_weights('model-weights.h5')\n",
        "model.summary()"
      ],
      "execution_count": 28,
      "outputs": [
        {
          "output_type": "stream",
          "text": [
            "Model: \"sequential_9\"\n",
            "_________________________________________________________________\n",
            "Layer (type)                 Output Shape              Param #   \n",
            "=================================================================\n",
            "flatten_9 (Flatten)          (None, 784)               0         \n",
            "_________________________________________________________________\n",
            "hidden1 (Dense)              (None, 100)               78500     \n",
            "_________________________________________________________________\n",
            "dropout_4 (Dropout)          (None, 100)               0         \n",
            "_________________________________________________________________\n",
            "dense_15 (Dense)             (None, 10)                1010      \n",
            "=================================================================\n",
            "Total params: 79,510\n",
            "Trainable params: 79,510\n",
            "Non-trainable params: 0\n",
            "_________________________________________________________________\n"
          ],
          "name": "stdout"
        }
      ]
    },
    {
      "cell_type": "code",
      "metadata": {
        "id": "TlnY-L_-rfmb"
      },
      "source": [
        "#모델을 직접 로드\n",
        "model = keras.models.load_model('model-whole.h5')\n",
        "# 텐서플로 2.3에서는 버그(https://github.com/tensorflow/tensorflow/issues/42890) 때문에 compile() 메서드를 호출해야 합니다.\n",
        "# model.compile(optimizer='adam', loss='sparse_categorical_crossentropy', metrics='accuracy')"
      ],
      "execution_count": 29,
      "outputs": []
    },
    {
      "cell_type": "code",
      "metadata": {
        "colab": {
          "base_uri": "https://localhost:8080/"
        },
        "id": "FA7FCwZ1r7Xx",
        "outputId": "5a1644fb-81a4-4930-c1a8-9438f7a72092"
      },
      "source": [
        "import numpy as np\n",
        "\n",
        "#argmax메서드는 주어진 배열의 최댓값의 인덱스 배열을 반환한다.\n",
        "#axis:최댓값을 찾을 행렬의 기준이 되는 축을 정한다. -1일경우 주어진 배열의 가장 마지막 축을 기준으로\n",
        "#predict메서드는 주어진 (넘파이)배열을 입력으로 받아 예측해준다.\n",
        "#이 모델은 10개의 출력층 뉴런(10개의 클래스)를 가지고 있고, val_scaled가 12000개의 이미지 배열([12000,28,28]형태의 배열)이므로\n",
        "#[12000,10]형태의 2차원 배열이 반환된다.\n",
        "#열은 12000개의 검증 세트 이미지를 의미하고, 행은 이 이미지의 클래스별 z값(이미지가 특정 클래스일 확률)을 나타낸다.\n",
        "#따라서 val_labels는 각 이미지마다 가장 높은 z값을 가진 클래스의 인덱스를 뽑아 만든 배열이 된다.\n",
        "val_labels = np.argmax(model.predict(val_scaled), axis=-1)\n",
        "\n",
        "#검증세트에서 옳게 판단한 것들만 모아 bool배열로 만든다.\n",
        "#val_target배열에는 클래스들이 정수로 저장되있으며 클래스와 대응되는 정수가 val_labels와 완전히 같기 때문에(학습 세트와 검증세트의 대응이 동일하기 때문이다.)\n",
        "#val_labels==val_target으로 구분 가능하다.\n",
        "#mean메서드에 bool배열을 넣으면 True는 1, False는 0으로 평균을 구해준다.\n",
        "#따라서 아래의 코드는 이 모델의 검증세트 정확도를 출력하는 구문이다.\n",
        "print(np.mean(val_labels == val_target))"
      ],
      "execution_count": 39,
      "outputs": [
        {
          "output_type": "stream",
          "text": [
            "(12000, 10)\n",
            "0.908\n"
          ],
          "name": "stdout"
        }
      ]
    },
    {
      "cell_type": "code",
      "metadata": {
        "colab": {
          "base_uri": "https://localhost:8080/"
        },
        "id": "vE6jYnybw8fO",
        "outputId": "1b2a1e66-5d58-48ab-e448-008fcf8871c1"
      },
      "source": [
        "model.evaluate(val_scaled, val_target)"
      ],
      "execution_count": 40,
      "outputs": [
        {
          "output_type": "stream",
          "text": [
            "375/375 [==============================] - 1s 1ms/step - loss: 0.2484 - accuracy: 0.9080\n"
          ],
          "name": "stdout"
        },
        {
          "output_type": "execute_result",
          "data": {
            "text/plain": [
              "[0.2483723759651184, 0.9079999923706055]"
            ]
          },
          "metadata": {
            "tags": []
          },
          "execution_count": 40
        }
      ]
    },
    {
      "cell_type": "markdown",
      "metadata": {
        "id": "eS6XDQHsxDZ0"
      },
      "source": [
        "**콜백**"
      ]
    },
    {
      "cell_type": "code",
      "metadata": {
        "colab": {
          "base_uri": "https://localhost:8080/"
        },
        "id": "5YE_P46t12-A",
        "outputId": "89c104fd-bbce-4c3e-b3ba-d62c2fa6d112"
      },
      "source": [
        "model = model_fn(keras.layers.Dropout(0.3))\n",
        "model.compile(optimizer='adam', loss='sparse_categorical_crossentropy', metrics='accuracy')\n",
        "\n",
        "#callback.ModelCheckpoint:콜백위치지정\n",
        "checkpoint_cb = keras.callbacks.ModelCheckpoint('best-model.h5')\n",
        "#callbacks:fit메서드로 훈련중에 손실이 가장 적은 가중치를 미리 지정한 콜백위치에 모델로 저장한다.\n",
        "model.fit(train_scaled, train_target, epochs=20, verbose=0, \n",
        "          validation_data=(val_scaled, val_target),\n",
        "          callbacks=[checkpoint_cb])\n",
        "#callback을 했으면 이후 중단된 모델에 저장된 모델을 불러온다.\n",
        "model = keras.models.load_model('best-model.h5')\n",
        "# 텐서플로 2.3에서는 버그(https://github.com/tensorflow/tensorflow/issues/42890) 때문에 compile() 메서드를 호출해야 합니다.\n",
        "# model.compile(optimizer='adam', loss='sparse_categorical_crossentropy', metrics='accuracy')\n",
        "\n",
        "model.evaluate(val_scaled, val_target)"
      ],
      "execution_count": 41,
      "outputs": [
        {
          "output_type": "stream",
          "text": [
            "375/375 [==============================] - 1s 1ms/step - loss: 0.3172 - accuracy: 0.8888\n"
          ],
          "name": "stdout"
        },
        {
          "output_type": "execute_result",
          "data": {
            "text/plain": [
              "[0.3171815574169159, 0.8888333439826965]"
            ]
          },
          "metadata": {
            "tags": []
          },
          "execution_count": 41
        }
      ]
    },
    {
      "cell_type": "markdown",
      "metadata": {
        "id": "WnlvP6B83ZEg"
      },
      "source": [
        "**조기 종료**\n",
        "\n",
        "*에포크에 따라 검증세트의 손실값이 최저로 감소하는 시점에서 모델의 훈련을 중지하는 기법"
      ]
    },
    {
      "cell_type": "code",
      "metadata": {
        "colab": {
          "base_uri": "https://localhost:8080/"
        },
        "id": "DXzbXElv3bkg",
        "outputId": "ab59b758-eaa9-450b-dd60-1a3faf1aa660"
      },
      "source": [
        "model = model_fn(keras.layers.Dropout(0.3))\n",
        "model.compile(optimizer='adam', loss='sparse_categorical_crossentropy', metrics='accuracy')\n",
        "\n",
        "checkpoint_cb = keras.callbacks.ModelCheckpoint('best-model.h5')\n",
        "#partience:검증세트의 손실값이 다시 증가하더라도 몇번까지 허용할 것인지를 정한다.\n",
        "#restore_best_weights:위 partience매개변수로 인해 검증세트의 손실값이 증가했을 때, 최저점을 찍은 에포크때 모델로 되돌린다.\n",
        "early_stopping_cb = keras.callbacks.EarlyStopping(patience=2,\n",
        "                                                  restore_best_weights=True)\n",
        "\n",
        "#EarlyStopping객체는 callbacks매개변수에 체크포인트와 같이 배열로 전달한다.\n",
        "history = model.fit(train_scaled, train_target, epochs=20, verbose=0, \n",
        "                    validation_data=(val_scaled, val_target),\n",
        "                    callbacks=[checkpoint_cb, early_stopping_cb])\n",
        "#몇번째 에포크에서 끝난는지 확인\n",
        "print(early_stopping_cb.stopped_epoch)"
      ],
      "execution_count": 49,
      "outputs": [
        {
          "output_type": "stream",
          "text": [
            "11\n"
          ],
          "name": "stdout"
        }
      ]
    },
    {
      "cell_type": "code",
      "metadata": {
        "colab": {
          "base_uri": "https://localhost:8080/",
          "height": 280
        },
        "id": "-4bO0xpi48yt",
        "outputId": "7b5b6d01-5400-4068-c8a0-09c9c753b6f7"
      },
      "source": [
        "plt.plot(history.history['loss'])\n",
        "plt.plot(history.history['val_loss'])\n",
        "plt.xlabel('epoch')\n",
        "plt.ylabel('loss')\n",
        "plt.legend(['train', 'val'])\n",
        "plt.savefig('7_3-07', dpi=300)\n",
        "plt.show()\n",
        "#epoch=9에서 손실값이 최소이고 epoch=10,11에서 손실값이 증가하였기 때문에 11번째에서 훈련을 멈췄음을 알 수 있다."
      ],
      "execution_count": 50,
      "outputs": [
        {
          "output_type": "display_data",
          "data": {
            "image/png": "[encoded data removed]",
            "text/plain": [
              "<Figure size 432x288 with 1 Axes>"
            ]
          },
          "metadata": {
            "tags": [],
            "needs_background": "light"
          }
        }
      ]
    },
    {
      "cell_type": "code",
      "metadata": {
        "colab": {
          "base_uri": "https://localhost:8080/"
        },
        "id": "P0vO-ns65k21",
        "outputId": "22a23700-9808-4c12-8465-ae6ef352f198"
      },
      "source": [
        "#정확도 평가\n",
        "val_labels = np.argmax(model.predict(val_scaled), axis=-1)\n",
        "print(np.mean(val_labels == val_target))"
      ],
      "execution_count": 51,
      "outputs": [
        {
          "output_type": "stream",
          "text": [
            "0.885\n"
          ],
          "name": "stdout"
        }
      ]
    }
  ]
}