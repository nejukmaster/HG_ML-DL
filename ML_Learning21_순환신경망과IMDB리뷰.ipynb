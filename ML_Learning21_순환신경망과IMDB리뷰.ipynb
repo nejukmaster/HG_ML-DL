{
  "nbformat": 4,
  "nbformat_minor": 0,
  "metadata": {
    "colab": {
      "name": "(24강 미완)ML_Learning21_순환신경망과IMDB리뷰",
      "provenance": []
    },
    "kernelspec": {
      "name": "python3",
      "display_name": "Python 3"
    },
    "language_info": {
      "name": "python"
    },
    "accelerator": "GPU"
  },
  "cells": [
    {
      "cell_type": "code",
      "metadata": {
        "colab": {
          "base_uri": "https://localhost:8080/"
        },
        "id": "BQ25w_R1C98y",
        "outputId": "0953de92-c3d2-4c15-b0d4-c1509599d5eb"
      },
      "source": [
        "from tensorflow.keras.datasets import imdb\n",
        "\n",
        "#문제를 간단히 하기위해 num_words를 500으로 제한하여 사용되는 단어를 500개로 제한한다.\n",
        "(train_input, train_target), (test_input, test_target) = imdb.load_data(\n",
        "    num_words=500)"
      ],
      "execution_count": 1,
      "outputs": [
        {
          "output_type": "stream",
          "text": [
            "Downloading data from https://storage.googleapis.com/tensorflow/tf-keras-datasets/imdb.npz\n",
            "17465344/17464789 [==============================] - 0s 0us/step\n"
          ],
          "name": "stdout"
        },
        {
          "output_type": "stream",
          "text": [
            "<string>:6: VisibleDeprecationWarning: Creating an ndarray from ragged nested sequences (which is a list-or-tuple of lists-or-tuples-or ndarrays with different lengths or shapes) is deprecated. If you meant to do this, you must specify 'dtype=object' when creating the ndarray\n",
            "/usr/local/lib/python3.7/dist-packages/tensorflow/python/keras/datasets/imdb.py:159: VisibleDeprecationWarning: Creating an ndarray from ragged nested sequences (which is a list-or-tuple of lists-or-tuples-or ndarrays with different lengths or shapes) is deprecated. If you meant to do this, you must specify 'dtype=object' when creating the ndarray\n",
            "  x_train, y_train = np.array(xs[:idx]), np.array(labels[:idx])\n",
            "/usr/local/lib/python3.7/dist-packages/tensorflow/python/keras/datasets/imdb.py:160: VisibleDeprecationWarning: Creating an ndarray from ragged nested sequences (which is a list-or-tuple of lists-or-tuples-or ndarrays with different lengths or shapes) is deprecated. If you meant to do this, you must specify 'dtype=object' when creating the ndarray\n",
            "  x_test, y_test = np.array(xs[idx:]), np.array(labels[idx:])\n"
          ],
          "name": "stderr"
        }
      ]
    },
    {
      "cell_type": "code",
      "metadata": {
        "colab": {
          "base_uri": "https://localhost:8080/"
        },
        "id": "zThYSamBF5_G",
        "outputId": "88c9a1f3-12d6-4c73-c8fb-1c6ce28fda1a"
      },
      "source": [
        "print(train_input.shape, test_input.shape)"
      ],
      "execution_count": 2,
      "outputs": [
        {
          "output_type": "stream",
          "text": [
            "(25000,) (25000,)\n"
          ],
          "name": "stdout"
        }
      ]
    },
    {
      "cell_type": "code",
      "metadata": {
        "colab": {
          "base_uri": "https://localhost:8080/"
        },
        "id": "bz-b20-aUEDa",
        "outputId": "5ed08c77-cd6c-4e79-f836-a929b446c16e"
      },
      "source": [
        "print(train_input[0])\n",
        "#샘플의 시작은 1\n",
        "#각 정수는 각 단어를 의미한다.\n",
        "#2는 load_data함수에서 지정한 500개 이외의 단어를 의미한다."
      ],
      "execution_count": 3,
      "outputs": [
        {
          "output_type": "stream",
          "text": [
            "[1, 14, 22, 16, 43, 2, 2, 2, 2, 65, 458, 2, 66, 2, 4, 173, 36, 256, 5, 25, 100, 43, 2, 112, 50, 2, 2, 9, 35, 480, 284, 5, 150, 4, 172, 112, 167, 2, 336, 385, 39, 4, 172, 2, 2, 17, 2, 38, 13, 447, 4, 192, 50, 16, 6, 147, 2, 19, 14, 22, 4, 2, 2, 469, 4, 22, 71, 87, 12, 16, 43, 2, 38, 76, 15, 13, 2, 4, 22, 17, 2, 17, 12, 16, 2, 18, 2, 5, 62, 386, 12, 8, 316, 8, 106, 5, 4, 2, 2, 16, 480, 66, 2, 33, 4, 130, 12, 16, 38, 2, 5, 25, 124, 51, 36, 135, 48, 25, 2, 33, 6, 22, 12, 215, 28, 77, 52, 5, 14, 407, 16, 82, 2, 8, 4, 107, 117, 2, 15, 256, 4, 2, 7, 2, 5, 2, 36, 71, 43, 2, 476, 26, 400, 317, 46, 7, 4, 2, 2, 13, 104, 88, 4, 381, 15, 297, 98, 32, 2, 56, 26, 141, 6, 194, 2, 18, 4, 226, 22, 21, 134, 476, 26, 480, 5, 144, 30, 2, 18, 51, 36, 28, 224, 92, 25, 104, 4, 226, 65, 16, 38, 2, 88, 12, 16, 283, 5, 16, 2, 113, 103, 32, 15, 16, 2, 19, 178, 32]\n"
          ],
          "name": "stdout"
        }
      ]
    },
    {
      "cell_type": "code",
      "metadata": {
        "colab": {
          "base_uri": "https://localhost:8080/"
        },
        "id": "AEbin7OkU1Sd",
        "outputId": "e7a97294-dc66-4225-941c-0df792e461c1"
      },
      "source": [
        "print(train_target[:20])"
      ],
      "execution_count": 4,
      "outputs": [
        {
          "output_type": "stream",
          "text": [
            "[1 0 0 1 0 0 1 0 1 0 1 0 0 0 0 0 1 1 0 1]\n"
          ],
          "name": "stdout"
        }
      ]
    },
    {
      "cell_type": "code",
      "metadata": {
        "id": "DIdEW4mbaGJS"
      },
      "source": [
        "from sklearn.model_selection import train_test_split\n",
        "\n",
        "train_input, val_input, train_target, val_target = train_test_split(\n",
        "    train_input, train_target, test_size=0.2, random_state=42)"
      ],
      "execution_count": 5,
      "outputs": []
    },
    {
      "cell_type": "code",
      "metadata": {
        "colab": {
          "base_uri": "https://localhost:8080/"
        },
        "id": "tYug_fu2aZ4F",
        "outputId": "621c606a-bfdd-4ae7-faa1-345b30788293"
      },
      "source": [
        "import numpy as np\n",
        "#len(배열)은 배열의 길이를 구해주는 함수이다.\n",
        "#[len(x) for x in train_input] 구문은 train_input을 순회하면서 각 원소 배열의 길이를 1차원 배열로 저장해 반환한다.\n",
        "lengths = np.array([len(x) for x in train_input])\n",
        "#np.mean함수는 주어진 넘파이 배열의 평균값을\n",
        "#np.median함수는 주어진 넘파이 배열의 중간값을 구해준다.\n",
        "print(np.mean(lengths), np.median(lengths))"
      ],
      "execution_count": 6,
      "outputs": [
        {
          "output_type": "stream",
          "text": [
            "239.00925 178.0\n"
          ],
          "name": "stdout"
        }
      ]
    },
    {
      "cell_type": "code",
      "metadata": {
        "colab": {
          "base_uri": "https://localhost:8080/",
          "height": 279
        },
        "id": "PhDrKDtMbegk",
        "outputId": "f4e6fcd5-a076-4a7b-a359-3bbf5efbf1ca"
      },
      "source": [
        "import matplotlib.pyplot as plt\n",
        "\n",
        "plt.hist(lengths)\n",
        "plt.xlabel('length')\n",
        "plt.ylabel('frequency')\n",
        "plt.show()"
      ],
      "execution_count": 7,
      "outputs": [
        {
          "output_type": "display_data",
          "data": {
            "image/png": "[encoded data removed]",
            "text/plain": [
              "<Figure size 432x288 with 1 Axes>"
            ]
          },
          "metadata": {
            "tags": [],
            "needs_background": "light"
          }
        }
      ]
    },
    {
      "cell_type": "markdown",
      "metadata": {
        "id": "FCTpu8ZubrUj"
      },
      "source": [
        "**시퀀스 패딩**\n",
        "\n",
        "문장의 최대 길이(최대 단어 개수)를 정하고, 길이보다 긴 문장을 자르며, 길이보다 짧은 문장은 빈 공간에 0 값을 넣어주는 것을 **시퀀스 패딩**이라고 한다."
      ]
    },
    {
      "cell_type": "code",
      "metadata": {
        "id": "8vuwp2qObrJ2",
        "colab": {
          "base_uri": "https://localhost:8080/"
        },
        "outputId": "e06c3249-4da5-493b-f5d4-d712b40a4345"
      },
      "source": [
        "from tensorflow.keras.preprocessing.sequence import pad_sequences\n",
        "#시퀀스 패딩은 tensorflow.keras.preprocessing.sequence밑에 있는 pad_sequences클래스를 사용한다.\n",
        "#maxlen:문장의 최대 길이를 정한다.\n",
        "train_seq = pad_sequences(train_input, maxlen=100)\n",
        "print(train_seq.shape)"
      ],
      "execution_count": 8,
      "outputs": [
        {
          "output_type": "stream",
          "text": [
            "(20000, 100)\n"
          ],
          "name": "stdout"
        }
      ]
    },
    {
      "cell_type": "code",
      "metadata": {
        "id": "iqlgfQLHjnr4"
      },
      "source": [
        "#검증세트도 패딩\n",
        "val_seq = pad_sequences(val_input, maxlen=100)"
      ],
      "execution_count": 9,
      "outputs": []
    },
    {
      "cell_type": "code",
      "metadata": {
        "colab": {
          "base_uri": "https://localhost:8080/"
        },
        "id": "E4oaqivgoHQN",
        "outputId": "c3cf488e-2495-4e16-eb43-4743afde2fee"
      },
      "source": [
        "print(train_seq[0])\n",
        "print(\"\")\n",
        "print(train_input[0][-10:])\n",
        "#위쪽은 패딩한 데이터 전체를, 아래쪽은 패딩전 데이터의 뒤쪽 10개의 원소를 나타낸것이다\n",
        "#패딩한 데이터의 뒤쪽부분과 패딩전 데이터 뒤쪽 10개의 원소가 모두 일치하는 것으로 보아\n",
        "#pad_sequences클래스는 maxlen초과하는 데이터의 앞쪽부분을 잘라 패딩하는 것을 알 수 있다."
      ],
      "execution_count": 10,
      "outputs": [
        {
          "output_type": "stream",
          "text": [
            "[ 10   4  20   9   2 364 352   5  45   6   2   2  33 269   8   2 142   2\n",
            "   5   2  17  73  17 204   5   2  19  55   2   2  92  66 104  14  20  93\n",
            "  76   2 151  33   4  58  12 188   2 151  12 215  69 224 142  73 237   6\n",
            "   2   7   2   2 188   2 103  14  31  10  10 451   7   2   5   2  80  91\n",
            "   2  30   2  34  14  20 151  50  26 131  49   2  84  46  50  37  80  79\n",
            "   6   2  46   7  14  20  10  10 470 158]\n",
            "\n",
            "[6, 2, 46, 7, 14, 20, 10, 10, 470, 158]\n"
          ],
          "name": "stdout"
        }
      ]
    },
    {
      "cell_type": "code",
      "metadata": {
        "colab": {
          "base_uri": "https://localhost:8080/"
        },
        "id": "Wq-i8IY4o16s",
        "outputId": "1852960f-4c6c-451d-af2a-f6b61321a6bf"
      },
      "source": [
        "print(train_seq[5])\n",
        "#아래는 패딩된 데이터 전체를 나타낸것이다.\n",
        "#보는 바와 같이 데이터 pad_sequences클래스는 maxlen보다 짧은 데이터는 앞쪽부분에 0으로 패딩하는 것을 알 수 있다."
      ],
      "execution_count": 11,
      "outputs": [
        {
          "output_type": "stream",
          "text": [
            "[  0   0   0   0   1   2 195  19  49   2   2 190   4   2 352   2 183  10\n",
            "  10  13  82  79   4   2  36  71 269   8   2  25  19  49   7   4   2   2\n",
            "   2   2   2  10  10  48  25  40   2  11   2   2  40   2   2   5   4   2\n",
            "   2  95  14 238  56 129   2  10  10  21   2  94 364 352   2   2  11 190\n",
            "  24 484   2   7  94 205 405  10  10  87   2  34  49   2   7   2   2   2\n",
            "   2   2 290   2  46  48  64  18   4   2]\n"
          ],
          "name": "stdout"
        }
      ]
    },
    {
      "cell_type": "markdown",
      "metadata": {
        "id": "j9rJHrhlp5CS"
      },
      "source": [
        "# **순환 신경망**"
      ]
    },
    {
      "cell_type": "code",
      "metadata": {
        "id": "LxBQxLP4p7Kq"
      },
      "source": [
        "from tensorflow import keras\n",
        "\n",
        "model = keras.Sequential()\n",
        "#RNN층(순환층)다음에 밀집층을 놓을 경우 CNN과 달리 Flatten층으로 출력을 펼칠 필요가 없다.\n",
        "model.add(keras.layers.SimpleRNN(8, input_shape=(100, 500)))\n",
        "#긍정/부정의 이진분류이므로 출력층으로 뉴런 1개의 sigmoid함수를 사용한다.\n",
        "model.add(keras.layers.Dense(1, activation='sigmoid'))"
      ],
      "execution_count": 12,
      "outputs": []
    },
    {
      "cell_type": "markdown",
      "metadata": {
        "id": "mummSmNdqdIu"
      },
      "source": [
        "**원-핫 인코딩**\n",
        "\n",
        "각각의 정수를 카테고리로 생각하여 0과 1로 이루어진 2차원 배열로 원소 하나하나를 원-핫 배열로 인코딩.\n",
        "각 정수사이의 상관관계(크기 등)을 없앨 수 있다."
      ]
    },
    {
      "cell_type": "code",
      "metadata": {
        "colab": {
          "base_uri": "https://localhost:8080/"
        },
        "id": "hXKu8itHqgGO",
        "outputId": "c8b92a54-3783-44ca-88f0-e2b80587663e"
      },
      "source": [
        "#keras.utils하위의 to_categorical클래스를 사용하여 원-핫 인코딩을 한다.\n",
        "train_oh = keras.utils.to_categorical(train_seq)\n",
        "print(train_seq.shape)\n",
        "print(\"\")\n",
        "print(train_oh.shape)\n",
        "#아래와 같이 길이 100의 문장 20000개가 각각 500의 카테고리를 지닌 원-핫 배열로 인코딩 된것을 볼 수 있다."
      ],
      "execution_count": 13,
      "outputs": [
        {
          "output_type": "stream",
          "text": [
            "(20000, 100)\n",
            "\n",
            "(20000, 100, 500)\n"
          ],
          "name": "stdout"
        }
      ]
    },
    {
      "cell_type": "code",
      "metadata": {
        "id": "m2WD-9WF0glI"
      },
      "source": [
        "#검증세트도 원-핫 인코딩을 해준다.\n",
        "val_oh = keras.utils.to_categorical(val_seq)"
      ],
      "execution_count": 14,
      "outputs": []
    },
    {
      "cell_type": "code",
      "metadata": {
        "colab": {
          "base_uri": "https://localhost:8080/"
        },
        "id": "OV9vUWPV0m47",
        "outputId": "25ac7e08-ff2a-4192-cb4f-edcb8b51c3b9"
      },
      "source": [
        "model.summary()\n",
        "#500개의 원-핫 인코딩이 8개의 뉴런과 완전연결되므로 500*8개의 가중치\n",
        "#8개의 뉴런의 출력이 모든 뉴런에 완전연결되어 순환되므로 8*8개의 가중치\n",
        "#8개의 뉴런 각각의 절편 8개\n",
        "#따라서 순환층 simpleRNN의 총 파라미터 개수는 4072개가 된다."
      ],
      "execution_count": 15,
      "outputs": [
        {
          "output_type": "stream",
          "text": [
            "Model: \"sequential\"\n",
            "_________________________________________________________________\n",
            "Layer (type)                 Output Shape              Param #   \n",
            "=================================================================\n",
            "simple_rnn (SimpleRNN)       (None, 8)                 4072      \n",
            "_________________________________________________________________\n",
            "dense (Dense)                (None, 1)                 9         \n",
            "=================================================================\n",
            "Total params: 4,081\n",
            "Trainable params: 4,081\n",
            "Non-trainable params: 0\n",
            "_________________________________________________________________\n"
          ],
          "name": "stdout"
        }
      ]
    },
    {
      "cell_type": "markdown",
      "metadata": {
        "id": "hbAPc3zb1ed3"
      },
      "source": [
        "**신경망 훈련**"
      ]
    },
    {
      "cell_type": "code",
      "metadata": {
        "colab": {
          "base_uri": "https://localhost:8080/"
        },
        "id": "1iNVyEzS1eOK",
        "outputId": "ff9830d5-ba06-4bb1-ce88-56f536858bf9"
      },
      "source": [
        "#RMSprop옵티마이저 사용\n",
        "#1e-4는 1*10^(-4)를 의미한다.\n",
        "rmsprop = keras.optimizers.RMSprop(learning_rate=1e-4)\n",
        "#이진분류이므로 'binary_crossentropy'손실함수를 사용\n",
        "model.compile(optimizer=rmsprop, loss='binary_crossentropy', \n",
        "              metrics=['accuracy'])\n",
        "\n",
        "checkpoint_cb = keras.callbacks.ModelCheckpoint('best-simplernn-model.h5')\n",
        "early_stopping_cb = keras.callbacks.EarlyStopping(patience=3,\n",
        "                                                  restore_best_weights=True)\n",
        "\n",
        "history = model.fit(train_oh, train_target, epochs=100, batch_size=64,\n",
        "                    validation_data=(val_oh, val_target),\n",
        "                    callbacks=[checkpoint_cb, early_stopping_cb])"
      ],
      "execution_count": 16,
      "outputs": [
        {
          "output_type": "stream",
          "text": [
            "Epoch 1/100\n",
            "313/313 [==============================] - 25s 70ms/step - loss: 0.7008 - accuracy: 0.5014 - val_loss: 0.6982 - val_accuracy: 0.5068\n",
            "Epoch 2/100\n",
            "313/313 [==============================] - 22s 71ms/step - loss: 0.6981 - accuracy: 0.4973 - val_loss: 0.6962 - val_accuracy: 0.5086\n",
            "Epoch 3/100\n",
            "313/313 [==============================] - 22s 69ms/step - loss: 0.6942 - accuracy: 0.5138 - val_loss: 0.6948 - val_accuracy: 0.5184\n",
            "Epoch 4/100\n",
            "313/313 [==============================] - 21s 69ms/step - loss: 0.6926 - accuracy: 0.5200 - val_loss: 0.6937 - val_accuracy: 0.5164\n",
            "Epoch 5/100\n",
            "313/313 [==============================] - 21s 68ms/step - loss: 0.6901 - accuracy: 0.5315 - val_loss: 0.6927 - val_accuracy: 0.5208\n",
            "Epoch 6/100\n",
            "313/313 [==============================] - 22s 69ms/step - loss: 0.6890 - accuracy: 0.5382 - val_loss: 0.6917 - val_accuracy: 0.5242\n",
            "Epoch 7/100\n",
            "313/313 [==============================] - 21s 68ms/step - loss: 0.6874 - accuracy: 0.5494 - val_loss: 0.6909 - val_accuracy: 0.5262\n",
            "Epoch 8/100\n",
            "313/313 [==============================] - 21s 68ms/step - loss: 0.6858 - accuracy: 0.5533 - val_loss: 0.6901 - val_accuracy: 0.5264\n",
            "Epoch 9/100\n",
            "313/313 [==============================] - 21s 67ms/step - loss: 0.6842 - accuracy: 0.5626 - val_loss: 0.6894 - val_accuracy: 0.5322\n",
            "Epoch 10/100\n",
            "313/313 [==============================] - 21s 67ms/step - loss: 0.6835 - accuracy: 0.5648 - val_loss: 0.6889 - val_accuracy: 0.5322\n",
            "Epoch 11/100\n",
            "313/313 [==============================] - 21s 68ms/step - loss: 0.6823 - accuracy: 0.5672 - val_loss: 0.6885 - val_accuracy: 0.5350\n",
            "Epoch 12/100\n",
            "313/313 [==============================] - 21s 67ms/step - loss: 0.6811 - accuracy: 0.5691 - val_loss: 0.6880 - val_accuracy: 0.5382\n",
            "Epoch 13/100\n",
            "313/313 [==============================] - 21s 67ms/step - loss: 0.6772 - accuracy: 0.5823 - val_loss: 0.6878 - val_accuracy: 0.5350\n",
            "Epoch 14/100\n",
            "313/313 [==============================] - 21s 67ms/step - loss: 0.6760 - accuracy: 0.5852 - val_loss: 0.6875 - val_accuracy: 0.5378\n",
            "Epoch 15/100\n",
            "313/313 [==============================] - 21s 68ms/step - loss: 0.6749 - accuracy: 0.5887 - val_loss: 0.6871 - val_accuracy: 0.5456\n",
            "Epoch 16/100\n",
            "313/313 [==============================] - 21s 69ms/step - loss: 0.6737 - accuracy: 0.5907 - val_loss: 0.6870 - val_accuracy: 0.5404\n",
            "Epoch 17/100\n",
            "313/313 [==============================] - 21s 67ms/step - loss: 0.6730 - accuracy: 0.5902 - val_loss: 0.6866 - val_accuracy: 0.5448\n",
            "Epoch 18/100\n",
            "313/313 [==============================] - 21s 66ms/step - loss: 0.6708 - accuracy: 0.5938 - val_loss: 0.6866 - val_accuracy: 0.5448\n",
            "Epoch 19/100\n",
            "313/313 [==============================] - 21s 66ms/step - loss: 0.6698 - accuracy: 0.5976 - val_loss: 0.6866 - val_accuracy: 0.5438\n",
            "Epoch 20/100\n",
            "313/313 [==============================] - 21s 67ms/step - loss: 0.6674 - accuracy: 0.6059 - val_loss: 0.6863 - val_accuracy: 0.5460\n",
            "Epoch 21/100\n",
            "313/313 [==============================] - 20s 65ms/step - loss: 0.6668 - accuracy: 0.6018 - val_loss: 0.6862 - val_accuracy: 0.5442\n",
            "Epoch 22/100\n",
            "313/313 [==============================] - 21s 67ms/step - loss: 0.6673 - accuracy: 0.5973 - val_loss: 0.6865 - val_accuracy: 0.5460\n",
            "Epoch 23/100\n",
            "313/313 [==============================] - 21s 67ms/step - loss: 0.6637 - accuracy: 0.6060 - val_loss: 0.6864 - val_accuracy: 0.5458\n",
            "Epoch 24/100\n",
            "313/313 [==============================] - 21s 66ms/step - loss: 0.6585 - accuracy: 0.6188 - val_loss: 0.6868 - val_accuracy: 0.5468\n"
          ],
          "name": "stdout"
        }
      ]
    },
    {
      "cell_type": "code",
      "metadata": {
        "colab": {
          "base_uri": "https://localhost:8080/",
          "height": 279
        },
        "id": "ixDKvRtS_ULc",
        "outputId": "f5943d53-ac13-4eb8-908b-71924fd656fd"
      },
      "source": [
        "plt.plot(history.history['loss'])\n",
        "plt.plot(history.history['val_loss'])\n",
        "plt.xlabel('epoch')\n",
        "plt.ylabel('loss')\n",
        "plt.legend(['train', 'val'])\n",
        "plt.show()"
      ],
      "execution_count": 17,
      "outputs": [
        {
          "output_type": "display_data",
          "data": {
            "image/png": "[encoded data removed]",
            "text/plain": [
              "<Figure size 432x288 with 1 Axes>"
            ]
          },
          "metadata": {
            "tags": [],
            "needs_background": "light"
          }
        }
      ]
    },
    {
      "cell_type": "markdown",
      "metadata": {
        "id": "F6icXTiyRESG"
      },
      "source": [
        "**임베딩**"
      ]
    },
    {
      "cell_type": "code",
      "metadata": {
        "colab": {
          "base_uri": "https://localhost:8080/"
        },
        "id": "IcPOUZh0RDzk",
        "outputId": "b63893af-9112-45a8-e875-a28e89aa5176"
      },
      "source": [
        "model2 = keras.Sequential()\n",
        "#500개의 카테고리를 16개로 줄여주는 임베딩층을 추가\n",
        "#input_length:입력으로 오는 토큰 개수를 받는다.\n",
        "model2.add(keras.layers.Embedding(500, 16, input_length=100))\n",
        "model2.add(keras.layers.SimpleRNN(8))\n",
        "model2.add(keras.layers.Dense(1, activation='sigmoid'))\n",
        "\n",
        "model2.summary()\n",
        "#16개의 입력과 8개의 뉴런이 완전연결되므로 16*8개의 가중치\n",
        "#8개의 출력값이 각각 8개의 뉴런과 완전연결되므로 8*8개의 가중치\n",
        "#8개의 출력층 뉴런 각각이 가지는 8개의 절편\n",
        "#따라서 SimpleRNN층은 총 200개의 파라미터를 가진다."
      ],
      "execution_count": 28,
      "outputs": [
        {
          "output_type": "stream",
          "text": [
            "Model: \"sequential_1\"\n",
            "_________________________________________________________________\n",
            "Layer (type)                 Output Shape              Param #   \n",
            "=================================================================\n",
            "embedding (Embedding)        (None, 100, 16)           8000      \n",
            "_________________________________________________________________\n",
            "simple_rnn_1 (SimpleRNN)     (None, 8)                 200       \n",
            "_________________________________________________________________\n",
            "dense_1 (Dense)              (None, 1)                 9         \n",
            "=================================================================\n",
            "Total params: 8,209\n",
            "Trainable params: 8,209\n",
            "Non-trainable params: 0\n",
            "_________________________________________________________________\n"
          ],
          "name": "stdout"
        }
      ]
    },
    {
      "cell_type": "code",
      "metadata": {
        "colab": {
          "base_uri": "https://localhost:8080/"
        },
        "id": "vtpdETX4S7sF",
        "outputId": "3693ecd3-407d-403a-ac04-13b9d9f0825c"
      },
      "source": [
        "rmsprop = keras.optimizers.RMSprop(learning_rate=1e-4)\n",
        "model2.compile(optimizer=rmsprop, loss='binary_crossentropy', \n",
        "               metrics=['accuracy'])\n",
        "\n",
        "checkpoint_cb = keras.callbacks.ModelCheckpoint('best-embedding-model.h5')\n",
        "early_stopping_cb = keras.callbacks.EarlyStopping(patience=3,\n",
        "                                                  restore_best_weights=True)\n",
        "\n",
        "history = model2.fit(train_seq, train_target, epochs=100, batch_size=64,\n",
        "                     validation_data=(val_seq, val_target),\n",
        "                     callbacks=[checkpoint_cb, early_stopping_cb])"
      ],
      "execution_count": 29,
      "outputs": [
        {
          "output_type": "stream",
          "text": [
            "Epoch 1/100\n",
            "313/313 [==============================] - 25s 77ms/step - loss: 0.6883 - accuracy: 0.5362 - val_loss: 0.6132 - val_accuracy: 0.6738\n",
            "Epoch 2/100\n",
            "313/313 [==============================] - 24s 75ms/step - loss: 0.5913 - accuracy: 0.6999 - val_loss: 0.5511 - val_accuracy: 0.7402\n",
            "Epoch 3/100\n",
            "313/313 [==============================] - 23s 75ms/step - loss: 0.5380 - accuracy: 0.7441 - val_loss: 0.5207 - val_accuracy: 0.7624\n",
            "Epoch 4/100\n",
            "313/313 [==============================] - 24s 76ms/step - loss: 0.5082 - accuracy: 0.7689 - val_loss: 0.5072 - val_accuracy: 0.7646\n",
            "Epoch 5/100\n",
            "313/313 [==============================] - 23s 74ms/step - loss: 0.4960 - accuracy: 0.7754 - val_loss: 0.4970 - val_accuracy: 0.7692\n",
            "Epoch 6/100\n",
            "313/313 [==============================] - 23s 74ms/step - loss: 0.4833 - accuracy: 0.7807 - val_loss: 0.5026 - val_accuracy: 0.7624\n",
            "Epoch 7/100\n",
            "313/313 [==============================] - 23s 75ms/step - loss: 0.4653 - accuracy: 0.7928 - val_loss: 0.4822 - val_accuracy: 0.7772\n",
            "Epoch 8/100\n",
            "313/313 [==============================] - 23s 74ms/step - loss: 0.4533 - accuracy: 0.8071 - val_loss: 0.4772 - val_accuracy: 0.7796\n",
            "Epoch 9/100\n",
            "313/313 [==============================] - 23s 74ms/step - loss: 0.4514 - accuracy: 0.8031 - val_loss: 0.4747 - val_accuracy: 0.7800\n",
            "Epoch 10/100\n",
            "313/313 [==============================] - 23s 73ms/step - loss: 0.4480 - accuracy: 0.8020 - val_loss: 0.4682 - val_accuracy: 0.7826\n",
            "Epoch 11/100\n",
            "313/313 [==============================] - 23s 74ms/step - loss: 0.4433 - accuracy: 0.8038 - val_loss: 0.4718 - val_accuracy: 0.7782\n",
            "Epoch 12/100\n",
            "313/313 [==============================] - 23s 73ms/step - loss: 0.4359 - accuracy: 0.8093 - val_loss: 0.4652 - val_accuracy: 0.7838\n",
            "Epoch 13/100\n",
            "313/313 [==============================] - 23s 73ms/step - loss: 0.4295 - accuracy: 0.8100 - val_loss: 0.4618 - val_accuracy: 0.7844\n",
            "Epoch 14/100\n",
            "313/313 [==============================] - 24s 75ms/step - loss: 0.4224 - accuracy: 0.8161 - val_loss: 0.4711 - val_accuracy: 0.7796\n",
            "Epoch 15/100\n",
            "313/313 [==============================] - 23s 73ms/step - loss: 0.4258 - accuracy: 0.8119 - val_loss: 0.4718 - val_accuracy: 0.7804\n",
            "Epoch 16/100\n",
            "313/313 [==============================] - 22s 72ms/step - loss: 0.4181 - accuracy: 0.8181 - val_loss: 0.4581 - val_accuracy: 0.7864\n",
            "Epoch 17/100\n",
            "313/313 [==============================] - 23s 73ms/step - loss: 0.4188 - accuracy: 0.8175 - val_loss: 0.4658 - val_accuracy: 0.7822\n",
            "Epoch 18/100\n",
            "313/313 [==============================] - 23s 74ms/step - loss: 0.4203 - accuracy: 0.8141 - val_loss: 0.4637 - val_accuracy: 0.7818\n",
            "Epoch 19/100\n",
            "313/313 [==============================] - 23s 72ms/step - loss: 0.4106 - accuracy: 0.8208 - val_loss: 0.4568 - val_accuracy: 0.7864\n",
            "Epoch 20/100\n",
            "313/313 [==============================] - 22s 72ms/step - loss: 0.4108 - accuracy: 0.8206 - val_loss: 0.4581 - val_accuracy: 0.7872\n",
            "Epoch 21/100\n",
            "313/313 [==============================] - 23s 74ms/step - loss: 0.4082 - accuracy: 0.8207 - val_loss: 0.4593 - val_accuracy: 0.7850\n",
            "Epoch 22/100\n",
            "313/313 [==============================] - 23s 73ms/step - loss: 0.4079 - accuracy: 0.8193 - val_loss: 0.4590 - val_accuracy: 0.7858\n"
          ],
          "name": "stdout"
        }
      ]
    },
    {
      "cell_type": "code",
      "metadata": {
        "colab": {
          "base_uri": "https://localhost:8080/",
          "height": 279
        },
        "id": "wJlJrOeMVSEu",
        "outputId": "d636a69e-92c0-47aa-b67e-4864372988ee"
      },
      "source": [
        "plt.plot(history.history['loss'])\n",
        "plt.plot(history.history['val_loss'])\n",
        "plt.xlabel('epoch')\n",
        "plt.ylabel('loss')\n",
        "plt.legend(['train', 'val'])\n",
        "plt.show()\n",
        "#임베딩 이후 과대적합이 많이 해소된 것을 볼 수 있다."
      ],
      "execution_count": 30,
      "outputs": [
        {
          "output_type": "display_data",
          "data": {
            "image/png": "[encoded data removed]",
            "text/plain": [
              "<Figure size 432x288 with 1 Axes>"
            ]
          },
          "metadata": {
            "tags": [],
            "needs_background": "light"
          }
        }
      ]
    },
    {
      "cell_type": "markdown",
      "metadata": {
        "id": "9W2rGhxvvMdz"
      },
      "source": [
        "# **원-핫 인코딩 이해하기**"
      ]
    },
    {
      "cell_type": "code",
      "metadata": {
        "colab": {
          "base_uri": "https://localhost:8080/"
        },
        "id": "WQINh4pOvPo_",
        "outputId": "089fd3c8-98e1-45e1-bfe9-4497e183fa3f"
      },
      "source": [
        "#0,1,2,3,4,5,6의 총 7개의 카테고리를 갖는 3*3배열 생성\n",
        "strs = [[1,2,3],[1,3,6],[5,0,4]]\n",
        "strs_oh = keras.utils.to_categorical(strs)\n",
        "print(strs_oh.shape)\n",
        "#3*3배열을 7개의 카테고리로 원-핫 인코딩"
      ],
      "execution_count": 18,
      "outputs": [
        {
          "output_type": "stream",
          "text": [
            "(3, 3, 7)\n"
          ],
          "name": "stdout"
        }
      ]
    },
    {
      "cell_type": "code",
      "metadata": {
        "colab": {
          "base_uri": "https://localhost:8080/"
        },
        "id": "wXoiKILyyckI",
        "outputId": "795aa9ef-c302-4c93-a8b5-1c7ddd193093"
      },
      "source": [
        "print(strs_oh[0][0])#strs[0][0](=1)의 인코딩 배열"
      ],
      "execution_count": 19,
      "outputs": [
        {
          "output_type": "stream",
          "text": [
            "[0. 1. 0. 0. 0. 0. 0.]\n"
          ],
          "name": "stdout"
        }
      ]
    },
    {
      "cell_type": "code",
      "metadata": {
        "colab": {
          "base_uri": "https://localhost:8080/"
        },
        "id": "llMIep2SyquF",
        "outputId": "0013e76d-c5e4-4bea-f791-55a040368f88"
      },
      "source": [
        "print(strs_oh[0][1])#strs[0][1](=2)의 인코딩 배열"
      ],
      "execution_count": 20,
      "outputs": [
        {
          "output_type": "stream",
          "text": [
            "[0. 0. 1. 0. 0. 0. 0.]\n"
          ],
          "name": "stdout"
        }
      ]
    },
    {
      "cell_type": "code",
      "metadata": {
        "colab": {
          "base_uri": "https://localhost:8080/"
        },
        "id": "voXJAIk0ysIz",
        "outputId": "6d797f96-2d7f-4fc1-e64e-a251e5635d97"
      },
      "source": [
        "print(strs_oh[0][2])#strs[0][2](=3)의 인코딩 배열"
      ],
      "execution_count": 21,
      "outputs": [
        {
          "output_type": "stream",
          "text": [
            "[0. 0. 0. 1. 0. 0. 0.]\n"
          ],
          "name": "stdout"
        }
      ]
    },
    {
      "cell_type": "code",
      "metadata": {
        "colab": {
          "base_uri": "https://localhost:8080/"
        },
        "id": "L62vxldwyvyk",
        "outputId": "58575ccc-b4b1-4ce5-9d39-0508b1c1584b"
      },
      "source": [
        "print(strs_oh[1][0])#strs[1][0](=1)의 인코딩 배열"
      ],
      "execution_count": 22,
      "outputs": [
        {
          "output_type": "stream",
          "text": [
            "[0. 1. 0. 0. 0. 0. 0.]\n"
          ],
          "name": "stdout"
        }
      ]
    },
    {
      "cell_type": "code",
      "metadata": {
        "colab": {
          "base_uri": "https://localhost:8080/"
        },
        "id": "SFTbre7iy1n0",
        "outputId": "9ad4c1b5-ce8e-4682-8284-b0241f36d418"
      },
      "source": [
        "print(strs_oh[1][1])#strs[1][1](=3)의 인코딩 배열"
      ],
      "execution_count": 23,
      "outputs": [
        {
          "output_type": "stream",
          "text": [
            "[0. 0. 0. 1. 0. 0. 0.]\n"
          ],
          "name": "stdout"
        }
      ]
    },
    {
      "cell_type": "code",
      "metadata": {
        "colab": {
          "base_uri": "https://localhost:8080/"
        },
        "id": "-NCf01sfy5Wp",
        "outputId": "39e75b36-c4c0-488f-f37b-9611e0168995"
      },
      "source": [
        "print(strs_oh[1][2])#strs[1][2](=6)의 인코딩 배열"
      ],
      "execution_count": 24,
      "outputs": [
        {
          "output_type": "stream",
          "text": [
            "[0. 0. 0. 0. 0. 0. 1.]\n"
          ],
          "name": "stdout"
        }
      ]
    },
    {
      "cell_type": "code",
      "metadata": {
        "colab": {
          "base_uri": "https://localhost:8080/"
        },
        "id": "bkWwd_DMzFpS",
        "outputId": "4572cfa0-87ee-40f0-aaea-f9fdfcb5786f"
      },
      "source": [
        "print(strs_oh[2][0])#strs[2][0](=5)의 인코딩 배열"
      ],
      "execution_count": 25,
      "outputs": [
        {
          "output_type": "stream",
          "text": [
            "[0. 0. 0. 0. 0. 1. 0.]\n"
          ],
          "name": "stdout"
        }
      ]
    },
    {
      "cell_type": "code",
      "metadata": {
        "colab": {
          "base_uri": "https://localhost:8080/"
        },
        "id": "Hy9J8BUazJLV",
        "outputId": "26eba4c3-0489-4480-823f-5f2bbca337fa"
      },
      "source": [
        "print(strs_oh[2][1])#strs[2][1](=0)의 인코딩 배열"
      ],
      "execution_count": 26,
      "outputs": [
        {
          "output_type": "stream",
          "text": [
            "[1. 0. 0. 0. 0. 0. 0.]\n"
          ],
          "name": "stdout"
        }
      ]
    },
    {
      "cell_type": "code",
      "metadata": {
        "colab": {
          "base_uri": "https://localhost:8080/"
        },
        "id": "8LUEnxsezL5L",
        "outputId": "28e52fc6-0279-4c29-b92a-3b31e1155f59"
      },
      "source": [
        "print(strs_oh[2][2])#strs[2][2](=4)의 인코딩 배열"
      ],
      "execution_count": 27,
      "outputs": [
        {
          "output_type": "stream",
          "text": [
            "[0. 0. 0. 0. 1. 0. 0.]\n"
          ],
          "name": "stdout"
        }
      ]
    }
  ]
}