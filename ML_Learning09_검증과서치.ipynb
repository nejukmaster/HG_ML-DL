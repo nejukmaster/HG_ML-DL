{
  "nbformat": 4,
  "nbformat_minor": 0,
  "metadata": {
    "colab": {
      "name": "(12강 미완)ML_Learning09_검증과 서치.ipynb",
      "provenance": []
    },
    "kernelspec": {
      "name": "python3",
      "display_name": "Python 3"
    }
  },
  "cells": [
    {
      "cell_type": "markdown",
      "metadata": {
        "id": "tMfM4qFxRJIc"
      },
      "source": [
        "# **검증 세트 구성**"
      ]
    },
    {
      "cell_type": "code",
      "metadata": {
        "id": "mOSIAt9SIUv5"
      },
      "source": [
        "import pandas as pd\n",
        "\n",
        "wine = pd.read_csv('https://bit.ly/wine_csv_data')\n",
        "data = wine[['alcohol', 'sugar', 'pH']].to_numpy()\n",
        "target = wine['class'].to_numpy()"
      ],
      "execution_count": 1,
      "outputs": []
    },
    {
      "cell_type": "code",
      "metadata": {
        "colab": {
          "base_uri": "https://localhost:8080/"
        },
        "id": "eh3DDIxFR5DT",
        "outputId": "6b5385e4-dc3b-401a-e5db-7fe9ed2cb303"
      },
      "source": [
        "from sklearn.model_selection import train_test_split\n",
        "\n",
        "#test_size:전체 세트에서 몇퍼센트를 테스트 세트로 사용할 건지 결정\n",
        "#훈련세트와 테스트세트를 구성\n",
        "train_input, test_input, train_target, test_target = train_test_split(\n",
        "    data, target, test_size=0.2)\n",
        "#훈련세트를 다시 훈련세트와 검증세트로 구성\n",
        "sub_input, val_input, sub_target, val_target = train_test_split(\n",
        "    train_input, train_target, test_size=0.2)\n",
        "\n",
        "print(sub_input.shape, val_input.shape)"
      ],
      "execution_count": 2,
      "outputs": [
        {
          "output_type": "stream",
          "text": [
            "(4157, 3) (1040, 3)\n"
          ],
          "name": "stdout"
        }
      ]
    },
    {
      "cell_type": "code",
      "metadata": {
        "colab": {
          "base_uri": "https://localhost:8080/"
        },
        "id": "3XW-fGusS79v",
        "outputId": "bdb0dcc3-5c88-4b82-c38d-2888c9d12ead"
      },
      "source": [
        "from sklearn.tree import DecisionTreeClassifier\n",
        "\n",
        "dt = DecisionTreeClassifier(random_state=42)\n",
        "dt.fit(sub_input, sub_target)\n",
        "\n",
        "print(dt.score(sub_input, sub_target))\n",
        "print(dt.score(val_input, val_target))"
      ],
      "execution_count": 3,
      "outputs": [
        {
          "output_type": "stream",
          "text": [
            "0.9968727447678615\n",
            "0.85\n"
          ],
          "name": "stdout"
        }
      ]
    },
    {
      "cell_type": "markdown",
      "metadata": {
        "id": "nhrLJHNQS_Es"
      },
      "source": [
        "# **교차검증**\n",
        "\n",
        "*훈련세트가 검증세트를 만들만큼 크지 않을 때, 검증을 하는 알고리즘이다.\n",
        "\n"
      ]
    },
    {
      "cell_type": "code",
      "metadata": {
        "colab": {
          "base_uri": "https://localhost:8080/"
        },
        "id": "LZPwH6tNS-l8",
        "outputId": "625c7e55-f01c-49a5-b316-ad85126a65bd"
      },
      "source": [
        "from sklearn.model_selection import cross_validate\n",
        "\n",
        "#교차검증은 주어진 훈련세트를 몇 개의 부분으로 나누어 그것들중 무작위로 검증세트를 선택해가며, 반복해서 학습하고 검증하여 결과를 반환한다.\n",
        "#사이킥런에 기본적으로 포함된 교차 검증 알고리즘 cross_validate함수를 사용한다.\n",
        "#cross_validate(모델 객체, 훈련세트 인풋, 훈련세트 타겟)\n",
        "scores = cross_validate(dt, train_input, train_target)\n",
        "print(scores)\n",
        "#cross_validate함수는 파이썬의 기본 자료형인 딕셔너리 자료형으로 결과값을 반환한다.\n",
        "#딕셔너리 자료형은 각각{'key':'value}쌍의 HashMap구조의 자료형이다.\n",
        "#'fit_time': 각 시도마다 학습에 걸린 시간\n",
        "#'score_time' : 각 시도마다 검증에 걸린 시간\n",
        "#'test_score' : 각 시도마다의 score점수"
      ],
      "execution_count": 4,
      "outputs": [
        {
          "output_type": "stream",
          "text": [
            "{'fit_time': array([0.00869536, 0.00733614, 0.00723028, 0.00695395, 0.00718999]), 'score_time': array([0.00063848, 0.00053096, 0.00052166, 0.00053596, 0.00053763]), 'test_score': array([0.85      , 0.84615385, 0.83830606, 0.8719923 , 0.84696824])}\n"
          ],
          "name": "stdout"
        }
      ]
    },
    {
      "cell_type": "code",
      "metadata": {
        "colab": {
          "base_uri": "https://localhost:8080/"
        },
        "id": "ZliC85WAVPPL",
        "outputId": "173990c5-2139-478c-8c3f-b86c2fa64c53"
      },
      "source": [
        "import numpy as np\n",
        "\n",
        "#넘파이 배열의 mean(numpy배열)메소드는 주어진 numpy배열의 평균을 구해준다.\n",
        "#딕셔너리 자료형을 다음과 같이 dict['key']로 사용할 경우 'key'와 쌍을 이루는 'value'값을 반환한다.\n",
        "print(np.mean(scores['test_score']))"
      ],
      "execution_count": 5,
      "outputs": [
        {
          "output_type": "stream",
          "text": [
            "0.8506840897312504\n"
          ],
          "name": "stdout"
        }
      ]
    },
    {
      "cell_type": "markdown",
      "metadata": {
        "id": "Susg3Z8zX10j"
      },
      "source": [
        "**분할기를 사용한 교차검증**"
      ]
    },
    {
      "cell_type": "code",
      "metadata": {
        "colab": {
          "base_uri": "https://localhost:8080/"
        },
        "id": "EQnO_yB1X5RS",
        "outputId": "9d860ba5-eca5-4944-eeef-bfc785b3e15c"
      },
      "source": [
        "from sklearn.model_selection import StratifiedKFold\n",
        "\n",
        "#cv:분할기(splitter)를 지정해주는 매개변수(기본값:5)\n",
        "#cv=(숫자) 로 할경우 주어진 훈련세트를 (숫자)만큼 나눠준다.\n",
        "#또한 cv에 분할기(splitter)객체를 집어넣을 수 있는데\n",
        "#분류 모델일 경우 다음과 같이 StratifiedKFold()를 사용\n",
        "#회귀 모델일 경우 KFold()를 사용\n",
        "#from sklearn.model_selection import KFold\n",
        "scores = cross_validate(dt, train_input, train_target, cv=StratifiedKFold())\n",
        "print(np.mean(scores['test_score']))"
      ],
      "execution_count": 6,
      "outputs": [
        {
          "output_type": "stream",
          "text": [
            "0.8506840897312504\n"
          ],
          "name": "stdout"
        }
      ]
    },
    {
      "cell_type": "code",
      "metadata": {
        "colab": {
          "base_uri": "https://localhost:8080/"
        },
        "id": "K6UkwM0uYBXL",
        "outputId": "74cb5845-e16f-47f0-9a13-77e2d24bb8c9"
      },
      "source": [
        "#n_splits:몇개의 폴드로 훈련세트를 나눌건지 설정\n",
        "#shuffle:랜덤하게 섞을지 여부를 설정\n",
        "#random_state:랜덤 시드 설정\n",
        "splitter = StratifiedKFold(n_splits=10, shuffle=True)\n",
        "scores = cross_validate(dt, train_input, train_target, cv=splitter)\n",
        "print(np.mean(scores['test_score']))"
      ],
      "execution_count": 7,
      "outputs": [
        {
          "output_type": "stream",
          "text": [
            "0.8599232992441086\n"
          ],
          "name": "stdout"
        }
      ]
    },
    {
      "cell_type": "markdown",
      "metadata": {
        "id": "I6O8iUHq-BtR"
      },
      "source": [
        "# **그리드 서치**"
      ]
    },
    {
      "cell_type": "code",
      "metadata": {
        "colab": {
          "base_uri": "https://localhost:8080/"
        },
        "id": "Q8mDjnQL-En8",
        "outputId": "44410c4a-9f62-46b6-a9ee-3997828648ad"
      },
      "source": [
        "from sklearn.model_selection import GridSearchCV\n",
        "\n",
        "#min_impurity_decrease:부모 자식 노드 간의 불순도 차이의 최솟값을 설정하여, 이 값만큼의 불순도 차이도 나지 않을 경우 노드를 분할하지 않게 규제한다.\n",
        "params = {'min_impurity_decrease': [0.0001, 0.0002, 0.0003, 0.0004, 0.0005]}\n",
        "#n_jobs:몇개의 코어를 사용하여 모델을 검증할 지 설정. n_jobs=2일 경우 동시에 2개의 모델을 학습하며, 다음과 같이 -1일경우 사용가능한 모든 코어를 사용해 모델을 학습한다.\n",
        "#그리드 서치는 주어진 매개변수 값을 달리하며 교차 검증을 실시한다.\n",
        "gs = GridSearchCV(DecisionTreeClassifier(), params, n_jobs=-1)\n",
        "gs.fit(train_input, train_target)"
      ],
      "execution_count": 8,
      "outputs": [
        {
          "output_type": "execute_result",
          "data": {
            "text/plain": [
              "GridSearchCV(cv=None, error_score=nan,\n",
              "             estimator=DecisionTreeClassifier(ccp_alpha=0.0, class_weight=None,\n",
              "                                              criterion='gini', max_depth=None,\n",
              "                                              max_features=None,\n",
              "                                              max_leaf_nodes=None,\n",
              "                                              min_impurity_decrease=0.0,\n",
              "                                              min_impurity_split=None,\n",
              "                                              min_samples_leaf=1,\n",
              "                                              min_samples_split=2,\n",
              "                                              min_weight_fraction_leaf=0.0,\n",
              "                                              presort='deprecated',\n",
              "                                              random_state=None,\n",
              "                                              splitter='best'),\n",
              "             iid='deprecated', n_jobs=-1,\n",
              "             param_grid={'min_impurity_decrease': [0.0001, 0.0002, 0.0003,\n",
              "                                                   0.0004, 0.0005]},\n",
              "             pre_dispatch='2*n_jobs', refit=True, return_train_score=False,\n",
              "             scoring=None, verbose=0)"
            ]
          },
          "metadata": {
            "tags": []
          },
          "execution_count": 8
        }
      ]
    },
    {
      "cell_type": "code",
      "metadata": {
        "colab": {
          "base_uri": "https://localhost:8080/"
        },
        "id": "nVXCkNeMPuEe",
        "outputId": "cbe64b10-cd8f-4b08-cd29-684e899779fd"
      },
      "source": [
        "#GridSearchCV의 best_estimator_ 속성은 그리드 서치결과 최적으로 학습된 모델을 반환한다.\n",
        "dt = gs.best_estimator_\n",
        "print(dt.score(train_input, train_target))"
      ],
      "execution_count": 9,
      "outputs": [
        {
          "output_type": "stream",
          "text": [
            "0.8891668270155859\n"
          ],
          "name": "stdout"
        }
      ]
    },
    {
      "cell_type": "code",
      "metadata": {
        "colab": {
          "base_uri": "https://localhost:8080/"
        },
        "id": "EGWfCcakP_RY",
        "outputId": "a9e8cae8-8c58-4cda-f923-6cc2ee02f342"
      },
      "source": [
        "#best_params_ 속성은 파라미터중 최적의 매개변수 값을 딕셔너리 자료형으로 반환한다.\n",
        "print(gs.best_params_)"
      ],
      "execution_count": 10,
      "outputs": [
        {
          "output_type": "stream",
          "text": [
            "{'min_impurity_decrease': 0.0005}\n"
          ],
          "name": "stdout"
        }
      ]
    },
    {
      "cell_type": "code",
      "metadata": {
        "colab": {
          "base_uri": "https://localhost:8080/"
        },
        "id": "8VzTIfncQyfD",
        "outputId": "37b66cef-bde1-4a89-9e7f-0de160d931e8"
      },
      "source": [
        "#[0.0001일때,0.0002일때,0.0003일때,0.0004일때,0.0005일때]\n",
        "#min_impurity_decrease=0.0005일때 스코어가 가장 큰 것을 볼 수 있다.\n",
        "print(gs.cv_results_['mean_test_score'])"
      ],
      "execution_count": 14,
      "outputs": [
        {
          "output_type": "stream",
          "text": [
            "[0.859151   0.85799808 0.85722681 0.85838028 0.86203598]\n"
          ],
          "name": "stdout"
        }
      ]
    },
    {
      "cell_type": "code",
      "metadata": {
        "colab": {
          "base_uri": "https://localhost:8080/"
        },
        "id": "ShzjadDgRgut",
        "outputId": "be0c869f-d1b3-4d88-826c-53446cdff28d"
      },
      "source": [
        "print(range(5,20))"
      ],
      "execution_count": 18,
      "outputs": [
        {
          "output_type": "stream",
          "text": [
            "range(5, 20)\n"
          ],
          "name": "stdout"
        }
      ]
    },
    {
      "cell_type": "code",
      "metadata": {
        "colab": {
          "base_uri": "https://localhost:8080/"
        },
        "id": "f0LCv6DJQWey",
        "outputId": "433d0cb3-64b7-4c4e-a855-72c362fafccc"
      },
      "source": [
        "#min_samples_split:노드의 최소 샘플개수. 노드가 가진 샘플수가 이만큼도 되지 않는다면 노드를 분할하지 않는다.\n",
        "#다음과 같이 여러개의 매개변수를 딕셔너리 자료형으로 주어 동시에 검증할 수도 있다.\n",
        "#np.arange(start,stop,step):start부터 stop까지 step의 단위로 증가하는 수의 범위를 넘파이 배열로 반환한다.\n",
        "#range(0,10,2):array([0,2,4,6,8])(stop은 포함하지 않는다.)\n",
        "#range(start,stop,step):start부터 stop까지 step의 단위로 증가하는 수의 범위를 표현한다.\n",
        "#ex)range(0,10,2):[0,2,4,6,8](stop은 포함하지 않는다.)\n",
        "params = {'min_impurity_decrease': np.arange(0.0001, 0.001, 0.0001),\n",
        "          'max_depth': range(5, 20, 1),\n",
        "          'min_samples_split': range(2, 100, 10)\n",
        "          }\n",
        "gs = GridSearchCV(DecisionTreeClassifier(random_state=42), params, n_jobs=-1)\n",
        "gs.fit(train_input, train_target)"
      ],
      "execution_count": 19,
      "outputs": [
        {
          "output_type": "execute_result",
          "data": {
            "text/plain": [
              "GridSearchCV(cv=None, error_score=nan,\n",
              "             estimator=DecisionTreeClassifier(ccp_alpha=0.0, class_weight=None,\n",
              "                                              criterion='gini', max_depth=None,\n",
              "                                              max_features=None,\n",
              "                                              max_leaf_nodes=None,\n",
              "                                              min_impurity_decrease=0.0,\n",
              "                                              min_impurity_split=None,\n",
              "                                              min_samples_leaf=1,\n",
              "                                              min_samples_split=2,\n",
              "                                              min_weight_fraction_leaf=0.0,\n",
              "                                              presort='deprecated',\n",
              "                                              random_state=42,\n",
              "                                              splitter='best'),\n",
              "             iid='deprecated', n_jobs=-1,\n",
              "             param_grid={'max_depth': range(5, 20),\n",
              "                         'min_impurity_decrease': array([0.0001, 0.0002, 0.0003, 0.0004, 0.0005, 0.0006, 0.0007, 0.0008,\n",
              "       0.0009]),\n",
              "                         'min_samples_split': range(2, 100, 10)},\n",
              "             pre_dispatch='2*n_jobs', refit=True, return_train_score=False,\n",
              "             scoring=None, verbose=0)"
            ]
          },
          "metadata": {
            "tags": []
          },
          "execution_count": 19
        }
      ]
    },
    {
      "cell_type": "code",
      "metadata": {
        "colab": {
          "base_uri": "https://localhost:8080/"
        },
        "id": "3allXzoLTQAL",
        "outputId": "4047eda4-871a-4949-f42d-bfe01f64ffa6"
      },
      "source": [
        "print(gs.best_params_)"
      ],
      "execution_count": 20,
      "outputs": [
        {
          "output_type": "stream",
          "text": [
            "{'max_depth': 8, 'min_impurity_decrease': 0.0008, 'min_samples_split': 42}\n"
          ],
          "name": "stdout"
        }
      ]
    },
    {
      "cell_type": "code",
      "metadata": {
        "colab": {
          "base_uri": "https://localhost:8080/"
        },
        "id": "bvTzik8fTTej",
        "outputId": "c71af804-20a9-440d-8e54-1f32d1e0471f"
      },
      "source": [
        "#np.max(넘파이배열):주어진 넘파이배열에서 가장 큰값을 반환한다.\n",
        "print(np.max(gs.cv_results_['mean_test_score']))"
      ],
      "execution_count": 23,
      "outputs": [
        {
          "output_type": "stream",
          "text": [
            "0.8633832457244391\n"
          ],
          "name": "stdout"
        }
      ]
    },
    {
      "cell_type": "markdown",
      "metadata": {
        "id": "lu9Rbql_TkJV"
      },
      "source": [
        "**랜덤서치**"
      ]
    },
    {
      "cell_type": "code",
      "metadata": {
        "colab": {
          "base_uri": "https://localhost:8080/"
        },
        "id": "dnFcRkNdTm4w",
        "outputId": "384e5f49-6a4e-4ddf-af86-58f7ed2425a1"
      },
      "source": [
        "from scipy.stats import uniform, randint\n",
        "#scipy.stats안의 uniform과 randint클래스는 모두 균등분포에서 무작위 샘플링하는 클래스이다.\n",
        "\n",
        "#randint(start,end):무작위 추출의 범위를 정함(end값 미포함)\n",
        "rgen = randint(0, 10)\n",
        "#rvs(n):n번만큼 추출해 샘플링\n",
        "rgen.rvs(10)\n",
        "#randint는 범위내에서 정수값을 샘플링한다."
      ],
      "execution_count": 25,
      "outputs": [
        {
          "output_type": "execute_result",
          "data": {
            "text/plain": [
              "array([0, 2, 0, 0, 1, 1, 1, 5, 6, 3])"
            ]
          },
          "metadata": {
            "tags": []
          },
          "execution_count": 25
        }
      ]
    },
    {
      "cell_type": "code",
      "metadata": {
        "colab": {
          "base_uri": "https://localhost:8080/"
        },
        "id": "93yTTsWYVGws",
        "outputId": "ce3ce3f3-7d1a-41c8-ec67-e10e2aa3e7e9"
      },
      "source": [
        "#np.unique(넘파이배열):주어진 넘파이배열에서 중복된 값을 뺀, 요소들의 종류만 넘파이 배열로 반환\n",
        "#ex)np.unique(array([1,1,2,2,3,3,4,4,5])) = array([1,2,3,4,5])\n",
        "#return_counts:True로 할 경우 각 요소들이 몇 번 나왔는지 세어 넘파이 배열로 반환\n",
        "np.unique(rgen.rvs(1000), return_counts=True)\n",
        "#randint는 균등분포이므로 카운트가 나름 균등한 것을 볼 수 있다."
      ],
      "execution_count": 27,
      "outputs": [
        {
          "output_type": "execute_result",
          "data": {
            "text/plain": [
              "(array([0, 1, 2, 3, 4, 5, 6, 7, 8, 9]),\n",
              " array([101,  88,  93,  96, 101, 105, 104,  89, 113, 110]))"
            ]
          },
          "metadata": {
            "tags": []
          },
          "execution_count": 27
        }
      ]
    },
    {
      "cell_type": "code",
      "metadata": {
        "colab": {
          "base_uri": "https://localhost:8080/"
        },
        "id": "eprLUUDvWjlx",
        "outputId": "eae673be-12ac-4764-a76f-611c81f940bf"
      },
      "source": [
        "ugen = uniform(0, 1)\n",
        "ugen.rvs(10)\n",
        "#uniform은 범위 내에서 실수값을 샘플링한다."
      ],
      "execution_count": 28,
      "outputs": [
        {
          "output_type": "execute_result",
          "data": {
            "text/plain": [
              "array([0.4012553 , 0.22486059, 0.65162606, 0.0794607 , 0.97327745,\n",
              "       0.68175204, 0.23224869, 0.61471893, 0.31587724, 0.85528833])"
            ]
          },
          "metadata": {
            "tags": []
          },
          "execution_count": 28
        }
      ]
    },
    {
      "cell_type": "markdown",
      "metadata": {
        "id": "0UGTyTRGXBcV"
      },
      "source": [
        "위와 같은 식으로 정수/실수 값중 n개를 무작위로 뽑아서 매개변수에 넣어 검증하는 방식을 랜덤서치라고한다."
      ]
    },
    {
      "cell_type": "markdown",
      "metadata": {
        "id": "Cl5EcCD0XKy2"
      },
      "source": [
        "**랜덤 서치 적용**"
      ]
    },
    {
      "cell_type": "code",
      "metadata": {
        "colab": {
          "base_uri": "https://localhost:8080/"
        },
        "id": "VzhmbAPLXNqW",
        "outputId": "943be190-1648-4525-8bfb-256262f54741"
      },
      "source": [
        "params = {'min_impurity_decrease': uniform(0.0001, 0.001),\n",
        "          'max_depth': randint(20, 50),\n",
        "          'min_samples_split': randint(2, 25),\n",
        "          'min_samples_leaf': randint(1, 25),\n",
        "          }\n",
        "\n",
        "from sklearn.model_selection import RandomizedSearchCV\n",
        "\n",
        "gs = RandomizedSearchCV(DecisionTreeClassifier(), params, \n",
        "                        n_iter=100, n_jobs=-1)\n",
        "gs.fit(train_input, train_target)"
      ],
      "execution_count": 29,
      "outputs": [
        {
          "output_type": "execute_result",
          "data": {
            "text/plain": [
              "RandomizedSearchCV(cv=None, error_score=nan,\n",
              "                   estimator=DecisionTreeClassifier(ccp_alpha=0.0,\n",
              "                                                    class_weight=None,\n",
              "                                                    criterion='gini',\n",
              "                                                    max_depth=None,\n",
              "                                                    max_features=None,\n",
              "                                                    max_leaf_nodes=None,\n",
              "                                                    min_impurity_decrease=0.0,\n",
              "                                                    min_impurity_split=None,\n",
              "                                                    min_samples_leaf=1,\n",
              "                                                    min_samples_split=2,\n",
              "                                                    min_weight_fraction_leaf=0.0,\n",
              "                                                    presort='deprecated',\n",
              "                                                    random_state=None,\n",
              "                                                    splitter='best'...\n",
              "                                        'min_impurity_decrease': <scipy.stats._distn_infrastructure.rv_frozen object at 0x7f92f7da8790>,\n",
              "                                        'min_samples_leaf': <scipy.stats._distn_infrastructure.rv_frozen object at 0x7f92f7f73b50>,\n",
              "                                        'min_samples_split': <scipy.stats._distn_infrastructure.rv_frozen object at 0x7f92f80def50>},\n",
              "                   pre_dispatch='2*n_jobs', random_state=None, refit=True,\n",
              "                   return_train_score=False, scoring=None, verbose=0)"
            ]
          },
          "metadata": {
            "tags": []
          },
          "execution_count": 29
        }
      ]
    },
    {
      "cell_type": "code",
      "metadata": {
        "colab": {
          "base_uri": "https://localhost:8080/"
        },
        "id": "lTNCDdF-XkMI",
        "outputId": "ad3ace2f-cf97-4a7c-ae02-bf6b0b680536"
      },
      "source": [
        "print(gs.best_params_)"
      ],
      "execution_count": 30,
      "outputs": [
        {
          "output_type": "stream",
          "text": [
            "{'max_depth': 44, 'min_impurity_decrease': 0.0008528626670050333, 'min_samples_leaf': 3, 'min_samples_split': 4}\n"
          ],
          "name": "stdout"
        }
      ]
    },
    {
      "cell_type": "code",
      "metadata": {
        "colab": {
          "base_uri": "https://localhost:8080/"
        },
        "id": "qO33kuxyXmyc",
        "outputId": "83dc0dad-385a-4cd5-bb2e-6856282b7cf6"
      },
      "source": [
        "print(np.max(gs.cv_results_['mean_test_score']))"
      ],
      "execution_count": 31,
      "outputs": [
        {
          "output_type": "stream",
          "text": [
            "0.8629980750721848\n"
          ],
          "name": "stdout"
        }
      ]
    },
    {
      "cell_type": "code",
      "metadata": {
        "colab": {
          "base_uri": "https://localhost:8080/"
        },
        "id": "O909xHL8XpJw",
        "outputId": "288b146f-1c93-4ede-b961-cf091e8b315e"
      },
      "source": [
        "dt = gs.best_estimator_\n",
        "\n",
        "print(dt.score(test_input, test_target))"
      ],
      "execution_count": 32,
      "outputs": [
        {
          "output_type": "stream",
          "text": [
            "0.8669230769230769\n"
          ],
          "name": "stdout"
        }
      ]
    }
  ]
}